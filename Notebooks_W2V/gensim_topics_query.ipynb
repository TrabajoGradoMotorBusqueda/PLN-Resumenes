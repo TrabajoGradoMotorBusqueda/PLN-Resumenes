{
 "metadata": {
  "language_info": {
   "codemirror_mode": {
    "name": "ipython",
    "version": 3
   },
   "file_extension": ".py",
   "mimetype": "text/x-python",
   "name": "python",
   "nbconvert_exporter": "python",
   "pygments_lexer": "ipython3",
   "version": "3.7.7-final"
  },
  "orig_nbformat": 2,
  "kernelspec": {
   "name": "Python 3.7.7 64-bit ('tesis': conda)",
   "display_name": "Python 3.7.7 64-bit ('tesis': conda)",
   "metadata": {
    "interpreter": {
     "hash": "0ce51ec80c9dccb5ff8500cd45e02f2b0d562b0864d02b0ad9ffcba78adf4e7d"
    }
   }
  }
 },
 "nbformat": 4,
 "nbformat_minor": 2,
 "cells": [
  {
   "cell_type": "code",
   "execution_count": 1,
   "metadata": {},
   "outputs": [],
   "source": [
    "#Cargamos Diccionario y Vector de Corpus\n",
    "#Cargar Matriz de Documentos\n",
    "from gensim import corpora\n",
    "\n",
    "class Documentos(object):\n",
    "    def __iter__(self):\n",
    "        for line in open('../Data/resumenes.txt'):\n",
    "            # assume there's one document per line, tokens separated by whitespace\n",
    "            yield dictionary.doc2bow(line.lower().split())\n",
    "dictionary = corpora.Dictionary().load('../Data/resumenes.dict')\n",
    "corpus = corpora.MmCorpus('../Data/resumenes_vectores.mm')"
   ]
  },
  {
   "source": [
    "## Usando TFIDF "
   ],
   "cell_type": "markdown",
   "metadata": {}
  },
  {
   "cell_type": "code",
   "execution_count": 2,
   "metadata": {},
   "outputs": [
    {
     "output_type": "execute_result",
     "data": {
      "text/plain": [
       "<gensim.interfaces.TransformedCorpus at 0x7fe7bcb7b190>"
      ]
     },
     "metadata": {},
     "execution_count": 2
    }
   ],
   "source": [
    "from gensim import models\n",
    "\n",
    "#model = models.TfidfModel(corpus, normalize=True)\n",
    "tfidf = models.TfidfModel(corpus)  # step 1 -- initialize a model (train)\n",
    "corpus_tfidf = tfidf[corpus]\n",
    "corpus_tfidf # step 2 -- use model and transform "
   ]
  },
  {
   "cell_type": "code",
   "execution_count": 3,
   "metadata": {},
   "outputs": [],
   "source": [
    "#LSI Model\n",
    "lsi_model = models.LsiModel(corpus_tfidf, id2word=dictionary, num_topics=300)  # initialize an LSI transformation\n",
    "corpus_lsi = lsi_model[corpus_tfidf]  # create a double wrapper over the original corpus: bow->tfidf->fold-in-lsi"
   ]
  },
  {
   "cell_type": "code",
   "execution_count": 5,
   "metadata": {},
   "outputs": [
    {
     "output_type": "execute_result",
     "data": {
      "text/plain": [
       "'0.151*\"midy\" + -0.130*\"carotenos\" + 0.093*\"mercurio\" + 0.071*\"fronteras\" + -0.071*\"nps\" + -0.070*\"npk\" + -0.064*\"fiesta\" + 0.064*\"perspicillata\" + 0.062*\"malezas\" + -0.059*\"servidor\"'"
      ]
     },
     "metadata": {},
     "execution_count": 5
    }
   ],
   "source": [
    "lsi_model.print_topic(200)"
   ]
  },
  {
   "cell_type": "code",
   "execution_count": 33,
   "metadata": {
    "tags": []
   },
   "outputs": [
    {
     "output_type": "stream",
     "name": "stdout",
     "text": [
      "[(0, -0.15382514037268388), (1, -0.07854030654456619)]\n[(0, -0.1514677298505903), (1, -0.00515288272186968)]\n[(0, -0.12971521476467093), (1, 0.07311514039117664)]\n[(0, -0.1287706046702057), (1, 0.08933811192731118)]\n[(0, -0.07099970355538221), (1, 0.0121671475286895)]\n[(0, -0.15838692218485023), (1, 0.10788923865545308)]\n[(0, -0.1845097489944218), (1, -0.012200192053673025)]\n[(0, -0.1894718453855591), (1, -0.01711265753192467)]\n[(0, -0.2362566720921067), (1, -0.006394699529057206)]\n[(0, -0.1384802727006627), (1, 0.06023777858949483)]\n[(0, -0.15811591138959735), (1, -0.03818489577116049)]\n"
     ]
    }
   ],
   "source": [
    "# both bow->tfidf and tfidf->lsi transformations are actually executed here, on the fly\n",
    "i = 0\n",
    "#similitud de documentos con algunos temas\n",
    "for doc, as_text in zip(corpus_lsi, documents):\n",
    "    if i > 10: break\n",
    "    i = i + 1\n",
    "    print(doc)"
   ]
  },
  {
   "cell_type": "code",
   "execution_count": 57,
   "metadata": {},
   "outputs": [
    {
     "output_type": "stream",
     "name": "stdout",
     "text": [
      "(28, 0.16371342176435547)\n(39, 0.1547042196019552)\n(45, 0.16588130763224893)\n(49, 0.11926113229711457)\n(50, 0.11672096451571883)\n(260, 0.10231052851834882)\n"
     ]
    }
   ],
   "source": [
    "doc100 = corpus_lsi[424]\n",
    "for topic in doc100:\n",
    "    if topic[1] > 0.1:\n",
    "        print(topic)"
   ]
  },
  {
   "source": [
    "## Queries"
   ],
   "cell_type": "markdown",
   "metadata": {}
  },
  {
   "cell_type": "code",
   "execution_count": 4,
   "metadata": {},
   "outputs": [
    {
     "output_type": "stream",
     "name": "stdout",
     "text": [
      "300\n"
     ]
    }
   ],
   "source": [
    "doc = \"saber pro\"\n",
    "vec_bow = dictionary.doc2bow(doc.lower().split())\n",
    "vec_lsi = lsi_model[vec_bow]  # convert the query to LSI space\n",
    "print(len(vec_lsi))"
   ]
  },
  {
   "cell_type": "code",
   "execution_count": 5,
   "metadata": {},
   "outputs": [],
   "source": [
    "from gensim import similarities\n",
    "index = similarities.MatrixSimilarity(lsi_model[corpus])  # transform corpus to LSI space and index it"
   ]
  },
  {
   "cell_type": "code",
   "execution_count": 20,
   "metadata": {},
   "outputs": [],
   "source": [
    "index.save('/tmp/resumenes.index')\n",
    "index = similarities.MatrixSimilarity.load('/tmp/resumenes.index')"
   ]
  },
  {
   "cell_type": "code",
   "execution_count": 6,
   "metadata": {},
   "outputs": [
    {
     "output_type": "stream",
     "name": "stdout",
     "text": [
      "(14, 0.6551641)\n(13, 0.6400207)\n(20, 0.449788)\n(219, 0.32026112)\n(205, 0.18345365)\n(23, 0.17499557)\n(250, 0.1744338)\n(105, 0.16220774)\n(148, 0.15405932)\n(64, 0.1500764)\n(310, 0.14978106)\n(116, 0.13722216)\n(162, 0.11209622)\n(406, 0.106378675)\n(71, 0.10414532)\n"
     ]
    }
   ],
   "source": [
    "# resumenes = Documentos()\n",
    "\n",
    "sims = index[vec_lsi]  # perform a similarity query against the corpus\n",
    "results = sorted(list(enumerate(sims)), key=lambda item: -item[1])\n",
    "for i, documento in enumerate(results):\n",
    "    if(documento[1] > 0.1):\n",
    "        print(documento)\n",
    "# print(match[421])  # print (document_number, document_similarity) 2-tuples\n"
   ]
  }
 ]
}