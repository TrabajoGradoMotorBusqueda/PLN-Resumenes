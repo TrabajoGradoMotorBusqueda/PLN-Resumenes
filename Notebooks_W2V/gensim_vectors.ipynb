{
 "metadata": {
  "language_info": {
   "codemirror_mode": {
    "name": "ipython",
    "version": 3
   },
   "file_extension": ".py",
   "mimetype": "text/x-python",
   "name": "python",
   "nbconvert_exporter": "python",
   "pygments_lexer": "ipython3",
   "version": "3.7.7-final"
  },
  "orig_nbformat": 2,
  "kernelspec": {
   "name": "Python 3.7.7 64-bit ('tesis': conda)",
   "display_name": "Python 3.7.7 64-bit ('tesis': conda)",
   "metadata": {
    "interpreter": {
     "hash": "0ce51ec80c9dccb5ff8500cd45e02f2b0d562b0864d02b0ad9ffcba78adf4e7d"
    }
   }
  }
 },
 "nbformat": 4,
 "nbformat_minor": 2,
 "cells": [
  {
   "cell_type": "code",
   "execution_count": 1,
   "metadata": {},
   "outputs": [],
   "source": [
    "#Importar datos\n",
    "import pandas as pd\n",
    "\n",
    "resumenes_docentes = pd.read_csv(\"../Data/ResumenesDocentes.csv\", index_col=0)\n",
    "resumenes_estudiantes = pd.read_csv(\"../Data/ResumenesEstudiantes.csv\", index_col=0)"
   ]
  },
  {
   "cell_type": "code",
   "execution_count": 2,
   "metadata": {},
   "outputs": [
    {
     "output_type": "execute_result",
     "data": {
      "text/plain": [
       "451"
      ]
     },
     "metadata": {},
     "execution_count": 2
    }
   ],
   "source": [
    "documentos=[]\n",
    "\n",
    "for index, row in resumenes_docentes.iterrows():\n",
    "    documentos.append(row['palabras_corpus'].lower().split())\n",
    "\n",
    "for index, row in resumenes_estudiantes.iterrows():\n",
    "    documentos.append(row['palabras_corpus'].lower().split())\n",
    "\n",
    "del(resumenes_docentes)\n",
    "del(resumenes_estudiantes)\n",
    "\n",
    "len(documentos)"
   ]
  },
  {
   "source": [
    "### Documentos a Vectores"
   ],
   "cell_type": "markdown",
   "metadata": {}
  },
  {
   "cell_type": "code",
   "execution_count": 3,
   "metadata": {},
   "outputs": [
    {
     "output_type": "stream",
     "name": "stdout",
     "text": [
      "Dictionary(14350 unique tokens: ['académicas', 'académico', 'académicos', 'acepciones', 'actores']...)\n"
     ]
    }
   ],
   "source": [
    "#Representacion de los datos en diccionario\n",
    "from gensim import corpora\n",
    "dictionary = corpora.Dictionary(documentos)\n",
    "dictionary.save('../Data/resumenes.dict')  # store the dictionary, for future reference\n",
    "print(dictionary)"
   ]
  },
  {
   "cell_type": "code",
   "execution_count": 4,
   "metadata": {
    "tags": [
     "outputPrepend"
    ]
   },
   "outputs": [
    {
     "output_type": "stream",
     "name": "stdout",
     "text": [
      "o': 13341, 'comparadas': 13342, 'conversores': 13343, 'cuidadoso': 13344, 'dmfcs': 13345, 'evalué': 13346, 'homólogos': 13347, 'metanol': 13348, 'quemado': 13349, 'tornarlos': 13350, 'agroecológico': 13351, 'arvejilla': 13352, 'brócoli': 13353, 'degradados': 13354, 'freirer': 13355, 'genoy': 13356, 'molano': 13357, 'presupuestario': 13358, 'seguida': 13359, 'alérgicos': 13360, 'anafilácticos': 13361, 'anonáceas': 13362, 'aprovechable': 13363, 'asma': 13364, 'ateromatosas': 13365, 'ateromatosis': 13366, 'colagenasa': 13367, 'destruyendo': 13368, 'epoc': 13369, 'espumosas': 13370, 'estimulando': 13371, 'gránulos': 13372, 'hipoglucemiantes': 13373, 'implicada': 13374, 'inflamatorias': 13375, 'mediador': 13376, 'mellitus': 13377, 'neutrólifos': 13378, 'patogenia': 13379, 'pmn': 13380, 'polimorfonucleares': 13381, 'páncreas': 13382, 'regulatrorio': 13383, 'reumatoide': 13384, 'sanguíneas': 13385, 'sotelo': 13386, 'consistirán': 13387, 'coragen': 13388, 'dms': 13389, 'eclosión': 13390, 'gelechiidae': 13391, 'hetograma': 13392, 'insectario': 13393, 'insecticida': 13394, 'jimena': 13395, 'lepidóptera': 13396, 'libio': 13397, 'mente': 13398, 'nhora': 13399, 'ovicida': 13400, 'polilla': 13401, 'reproducida': 13402, 'rynaxypyr': 13403, 'solanivora': 13404, 'sustentados': 13405, 'tecia': 13406, 'teciasolanivora': 13407, 'tito': 13408, 'tratados': 13409, 'ascienden': 13410, 'contyribuye': 13411, 'evelin': 13412, 'faba': 13413, 'fría': 13414, 'haba': 13415, 'habas': 13416, 'proteina': 13417, 'registran': 13418, 'rescatar': 13419, 'tutorada': 13420, 'agudas': 13421, 'diarreicas': 13422, 'domesticas': 13423, 'edas': 13424, 'suspendidos': 13425, 'acetonitrilo': 13426, 'arabica': 13427, 'bar': 13428, 'cianidina': 13429, 'concentrarán': 13430, 'cosolvente': 13431, 'cuestionados': 13432, 'determinaran': 13433, 'erika': 13434, 'liofilizada': 13435, 'liofilizará': 13436, 'molida': 13437, 'plantados': 13438, 'refrigerado': 13439, 'rotaevaporación': 13440, 'rotatorio': 13441, 'rutinosido': 13442, 'rutinósido': 13443, 'variarán': 13444, 'yogurt': 13445, 'alojamiento': 13446, 'antifungico': 13447, 'antifúngicas': 13448, 'apariencia': 13449, 'clasifican': 13450, 'combatiendo': 13451, 'coriaria': 13452, 'coriaría': 13453, 'cutáneas': 13454, 'dermatofitosis': 13455, 'electrospray': 13456, 'epidermophyton': 13457, 'etiológicos': 13458, 'fenólica': 13459, 'intensas': 13460, 'invadir': 13461, 'leves': 13462, 'medicamento': 13463, 'microsporum': 13464, 'netamente': 13465, 'padecer': 13466, 'pelo': 13467, 'polifenolicos': 13468, 'polifenóles': 13469, 'pozos': 13470, 'queratinizado': 13471, 'ruscifolia': 13472, 'sancia': 13473, 'supuradas': 13474, 'taxonómicamente': 13475, 'tiña': 13476, 'trichophyton': 13477, 'uñas': 13478, 'yepez': 13479, 'atlántico': 13480, 'carollia': 13481, 'citb': 13482, 'coi': 13483, 'cola': 13484, 'dificultado': 13485, 'evolutivos': 13486, 'filobiogeografía': 13487, 'filogeografía': 13488, 'filogeográfica': 13489, 'filogeográfico': 13490, 'haplotípos': 13491, 'hermanas': 13492, 'leonor': 13493, 'linnaeus': 13494, 'mammalia': 13495, 'murciélago': 13496, 'oxidasa': 13497, 'perspicillata': 13498, 'reflejará': 13499, 'subgrupos': 13500, 'vicarianza': 13501, 'villarreal': 13502, 'agros': 13503, 'ala': 13504, 'alcaloides': 13505, 'alcanos': 13506, 'alifáticos': 13507, 'antibacterianas': 13508, 'arrastre': 13509, 'biofungicida': 13510, 'biofúngicida': 13511, 'bioinsumos': 13512, 'buitrago': 13513, 'carvacrol': 13514, 'cetonas': 13515, 'china': 13516, 'cien': 13517, 'cifras': 13518, 'clorosis': 13519, 'constituyéndose': 13520, 'controles': 13521, 'crecientemente': 13522, 'dañinas': 13523, 'destilables': 13524, 'destinada': 13525, 'dixon': 13526, 'edgar': 13527, 'emulsion': 13528, 'emulsión': 13529, 'ensilaje': 13530, 'estabilizador': 13531, 'esteres': 13532, 'esteroides': 13533, 'fenalce': 13534, 'fenilpropanos': 13535, 'figuró': 13536, 'fitopatogeno': 13537, 'guisantes': 13538, 'incluidos': 13539, 'india': 13540, 'labiadas': 13541, 'leguminosa': 13542, 'líganos': 13543, 'marchitan': 13544, 'marchitez': 13545, 'monoterpenos': 13546, 'mueren': 13547, 'planteo': 13548, 'puerres': 13549, 'ramificada': 13550, 'recibe': 13551, 'ruano': 13552, 'salamanca': 13553, 'sesquiterpenos': 13554, 'sumando': 13555, 'sustancia': 13556, 'terpenos': 13557, 'transaron': 13558, 'unigarro': 13559, 'vaina': 13560, 'vapor': 13561, 'vascular': 13562, 'zanandrea': 13563, 'zavaleta': 13564, 'acomodar': 13565, 'agrupación': 13566, 'agrupamiento': 13567, 'bidimensional': 13568, 'cercanos': 13569, 'coche': 13570, 'colaboraciones': 13571, 'colocaciones': 13572, 'complicada': 13573, 'condujo': 13574, 'consecutivos': 13575, 'consulta': 13576, 'convoyes': 13577, 'cualquiera': 13578, 'descubren': 13579, 'discos': 13580, 'encontraban': 13581, 'encontrando': 13582, 'enfocará': 13583, 'especificado': 13584, 'flock': 13585, 'flocks': 13586, 'instantes': 13587, 'juntas': 13588, 'juntos': 13589, 'localizaciones': 13590, 'mañana': 13591, 'mueven': 13592, 'peatones': 13593, 'predicado': 13594, 'recolectadas': 13595, 'resumidos': 13596, 'rfid': 13597, 'trayectorias': 13598, 'ubicaciones': 13599, 'vecinos': 13600, 'asemeja': 13601, 'consiga': 13602, 'estudiarlas': 13603, 'fractal': 13604, 'fractales': 13605, 'irregular': 13606, 'quiebres': 13607, 'recursivos': 13608, 'relacionarlas': 13609, 'abriría': 13610, 'complementada': 13611, 'complementaría': 13612, 'juneth': 13613, 'newton': 13614, 'paciente': 13615, 'potente': 13616, 'raphson': 13617, 'tarapues': 13618, 'teran': 13619, 'cadaverina': 13620, 'cementerio': 13621, 'cementerios': 13622, 'contigüidad': 13623, 'cristo': 13624, 'favorecida': 13625, 'inhumación': 13626, 'jardines': 13627, 'mercedes': 13628, 'microkjendahl': 13629, 'nitrogenados': 13630, 'rey': 13631, 'subsuelo': 13632, 'suponen': 13633, 'correctas': 13634, 'gráfica': 13635, 'imaraña': 13636, 'intuitiva': 13637, 'oportunas': 13638, 'potencien': 13639, 'pronósticos': 13640, 'terminar': 13641, 'vallejos': 13642, 'chocolate': 13643, 'desarrollarán': 13644, 'fermentadas': 13645, 'fermentativo': 13646, 'iniciador': 13647, 'julian': 13648, 'occidental': 13649, 'sudamérica': 13650, 'áfrica': 13651, 'consagra': 13652, 'desastres': 13653, 'diaz': 13654, 'educando': 13655, 'josefina': 13656, 'juliana': 13657, 'municipío': 13658, 'orientaciones': 13659, 'praes': 13660, 'priorizar': 13661, 'tosoabi': 13662, 'yesika': 13663, 'apoyándonos': 13664, 'collins': 13665, 'complementan': 13666, 'constructo': 13667, 'fraser': 13668, 'guiada': 13669, 'honneth': 13670, 'martín': 13671, 'nussbaum': 13672, 'rawls': 13673, 'sen': 13674, 'young': 13675, 'ambie': 13676, 'antropocéntrica': 13677, 'comfamiliar': 13678, 'ecopedagogia': 13679, 'ecopedagogía': 13680, 'elina': 13681, 'impartidas': 13682, 'incomprensión': 13683, 'lic': 13684, 'nedis': 13685, 'proambientales': 13686, 'responsablemente': 13687, 'solidaricen': 13688, 'valerse': 13689, 'xxi': 13690, 'yeraldine': 13691, 'destinaciones': 13692, 'estructurado': 13693, 'evolucionado': 13694, 'finanzas': 13695, 'fiscal': 13696, 'hacienda': 13697, 'impacta': 13698, 'moran': 13699, 'neutral': 13700, 'recaudo': 13701, 'tributario': 13702, 'yoana': 13703, 'agenciar': 13704, 'arrebatado': 13705, 'canchala': 13706, 'cohorte': 13707, 'división': 13708, 'empoderarse': 13709, 'legitimar': 13710, 'marxista': 13711, 'organizativo': 13712, 'pase': 13713, 'estudiamos': 13714, 'influenza': 13715, 'modelización': 13716, 'monica': 13717, 'paola': 13718, 'argumentaba': 13719, 'azonales': 13720, 'consistía': 13721, 'cuidad': 13722, 'declarada': 13723, 'defendía': 13724, 'delber': 13725, 'enfrentaban': 13726, 'generaron': 13727, 'generaría': 13728, 'implementaba': 13729, 'inundando': 13730, 'megaproyecto': 13731, 'mulitiproposito': 13732, 'radicaba': 13733, 'represa': 13734, 'tuberías': 13735, 'alimenta': 13736, 'brota': 13737, 'broto': 13738, 'cargado': 13739, 'ceremonia': 13740, 'colocar': 13741, 'conservarla': 13742, 'contemplarlo': 13743, 'culturares': 13744, 'danza': 13745, 'erige': 13746, 'etcétera': 13747, 'granitos': 13748, 'gráficadas': 13749, 'guardan': 13750, 'guasialpud': 13751, 'interpretaciones': 13752, 'interpretados': 13753, 'interpretamos': 13754, 'nutre': 13755, 'observamos': 13756, 'pianda': 13757, 'plasmen': 13758, 'recuerdos': 13759, 'relieves': 13760, 'sagrados': 13761, 'seguimos': 13762, 'sembrador': 13763, 'sembrando': 13764, 'sutileza': 13765, 'transitaran': 13766, 'trascrito': 13767, 'trasladen': 13768, 'ubicaba': 13769, 'vemos': 13770, 'geovanny': 13771, 'imbacuán': 13772, 'makipuray': 13773, 'pyme': 13774, 'saberpro': 13775, 'tutistar': 13776, 'alimentada': 13777, 'arroz': 13778, 'bilógico': 13779, 'boca': 13780, 'cladócero': 13781, 'cladóceros': 13782, 'daphnias': 13783, 'digestivas': 13784, 'digestivo': 13785, 'endémico': 13786, 'error': 13787, 'exógena': 13788, 'filtración': 13789, 'investigarán': 13790, 'larvaria': 13791, 'masificación': 13792, 'microcrustáceo': 13793, 'microcrustáceos': 13794, 'natalidad': 13795, 'natatoria': 13796, 'neonatos': 13797, 'numerosas': 13798, 'observará': 13799, 'partenogénesis': 13800, 'pauw': 13801, 'prieto': 13802, 'salvado': 13803, 'seran': 13804, 'sipauba': 13805, 'tablas': 13806, 'vitelo': 13807, 'alterar': 13808, 'atendida': 13809, 'chocan': 13810, 'configurando': 13811, 'entenderá': 13812, 'estableciéndose': 13813, 'evidenciaremos': 13814, 'ferrari': 13815, 'inadvertido': 13816, 'indagación': 13817, 'invitación': 13818, 'liceo': 13819, 'masividad': 13820, 'méritos': 13821, 'orígenes': 13822, 'podríamos': 13823, 'reconocimientos': 13824, 'reglamentos': 13825, 'sexto': 13826, 'sistematizara': 13827, 'sumergirse': 13828, 'calado': 13829, 'centrarme': 13830, 'colonialidad': 13831, 'consciencia': 13832, 'decolonial': 13833, 'eurocéntrico': 13834, 'grosfoguel': 13835, 'marginalización': 13836, 'racismo': 13837, 'racista': 13838, 'soporta': 13839, 'teóricamente': 13840, 'tratará': 13841, 'yulian': 13842, 'cobrado': 13843, 'enith': 13844, 'infancia': 13845, 'morbimortalidad': 13846, 'neumonía': 13847, 'reviste': 13848, 'buscadores': 13849, 'coincidencias': 13850, 'consultar': 13851, 'cujar': 13852, 'digitalizados': 13853, 'filtrar': 13854, 'fundamentándose': 13855, 'gestor': 13856, 'ilustrando': 13857, 'investigadora': 13858, 'motor': 13859, 'ontologías': 13860, 'potentes': 13861, 'páginas': 13862, 'rdf': 13863, 'semántica': 13864, 'semánticos': 13865, 'sesgada': 13866, 'sintaxis': 13867, 'solicitada': 13868, 'sparql': 13869, 'vertiginoso': 13870, 'adaptarse': 13871, 'adriano': 13872, 'casei': 13873, 'comercializada': 13874, 'cumple': 13875, 'desperdiciado': 13876, 'desperdicios': 13877, 'fermentador': 13878, 'genetíca': 13879, 'inmediata': 13880, 'nastar': 13881, 'obteniéndose': 13882, 'poliláctico': 13883, 'propicias': 13884, 'textil': 13885, 'utilizándolo': 13886, 'microencapsulada': 13887, 'moderado': 13888, 'planifica': 13889, 'almacenará': 13890, 'beca': 13891, 'computer': 13892, 'creará': 13893, 'credenciales': 13894, 'experto': 13895, 'historial': 13896, 'joaquín': 13897, 'llenando': 13898, 'parlana': 13899, 'potenciará': 13900, 'accidente': 13901, 'amputaciones': 13902, 'angiotensina': 13903, 'bothrocophias': 13904, 'botrópica': 13905, 'botrópicas': 13906, 'botrópicos': 13907, 'campbelli': 13908, 'cascada': 13909, 'coagulación': 13910, 'coagulante': 13911, 'datan': 13912, 'desatendida': 13913, 'edemática': 13914, 'envenenamientos': 13915, 'especímenes': 13916, 'eventuales': 13917, 'extremidad': 13918, 'filogenéticamente': 13919, 'fosfolipasas': 13920, 'hemorrágica': 13921, 'incluyó': 13922, 'lascano': 13923, 'leishmaniosis': 13924, 'lepra': 13925, 'letalidad': 13926, 'mionecrosis': 13927, 'miotóxica': 13928, 'miotóxicas': 13929, 'muscular': 13930, 'notificaciones': 13931, 'notificación': 13932, 'ofidico': 13933, 'renina': 13934, 'sapo': 13935, 'serpientes': 13936, 'sevilla': 13937, 'sistémicas': 13938, 'sistémicos': 13939, 'toxinológia': 13940, 'toxinológico': 13941, 'tripanosomiasis': 13942, 'veneno': 13943, 'venenos': 13944, 'viperidae': 13945, 'víbora': 13946, 'acústico': 13947, 'acústicos': 13948, 'alarma': 13949, 'antropofonías': 13950, 'avifauna': 13951, 'biofonías': 13952, 'biofónicos': 13953, 'cantos': 13954, 'comunicativos': 13955, 'corota': 13956, 'geofonías': 13957, 'geofónicos': 13958, 'insular': 13959, 'isla': 13960, 'santuario': 13961, 'sfic': 13962, 'viento': 13963, 'vocales': 13964, 'barras': 13965, 'cereal': 13966, 'deportistas': 13967, 'higroscopicidad': 13968, 'moderadas': 13969, 'postres': 13970, 'purés': 13971, 'sorbetes': 13972, 'vitamínicos': 13973, 'abasto': 13974, 'aumentó': 13975, 'basto': 13976, 'comidas': 13977, 'competen': 13978, 'conquistadores': 13979, 'desligado': 13980, 'dietario': 13981, 'españoles': 13982, 'exóticos': 13983, 'food': 13984, 'fusionarlos': 13985, 'gastronómicas': 13986, 'icer': 13987, 'incrustar': 13988, 'inminentemente': 13989, 'intactas': 13990, 'invariables': 13991, 'legumbres': 13992, 'mantuvieron': 13993, 'marketing': 13994, 'mestizaje': 13995, 'modernas': 13996, 'modularización': 13997, 'olvidados': 13998, 'platillos': 13999, 'platos': 14000, 'potosi': 14001, 'quillacingas': 14002, 'rutinarios': 14003, 'satisfacen': 14004, 'simetría': 14005, 'sumergidos': 14006, 'tipica': 14007, 'traditional': 14008, 'típicos': 14009, 'clasifique': 14010, 'conozcan': 14011, 'dedicados': 14012, 'determinaría': 14013, 'dictados': 14014, 'exploren': 14015, 'impartir': 14016, 'interfieren': 14017, 'pensum': 14018, 'rigurosa': 14019, 'yizeth': 14020, 'gestar': 14021, 'mingas': 14022, 'minifundistas': 14023, 'ollas': 14024, 'prioridades': 14025, 'requiriendo': 14026, 'rigurosidad': 14027, 'transferir': 14028, 'unificados': 14029, 'analizarla': 14030, 'bonilla': 14031, 'describirla': 14032, 'explorarla': 14033, 'fantaseó': 14034, 'marylin': 14035, 'posibilitara': 14036, 'psicoanálisis': 14037, 'sometida': 14038, 'tenerse': 14039, 'victima': 14040, 'victimario': 14041, 'antropicos': 14042, 'apoyaran': 14043, 'boulengeri': 14044, 'canto': 14045, 'característicos': 14046, 'cortejo': 14047, 'dendrobatidae': 14048, 'emitidas': 14049, 'epipedobates': 14050, 'especiación': 14051, 'estimadas': 14052, 'etológicos': 14053, 'interespecifico': 14054, 'narinensis': 14055, 'oliva': 14056, 'playback': 14057, 'resultaran': 14058, 'sentara': 14059, 'taxonómicos': 14060, 'amena': 14061, 'deiby': 14062, 'destacado': 14063, 'estimula': 14064, 'estrechamente': 14065, 'geométrico': 14066, 'potenciado': 14067, 'tic': 14068, 'yohana': 14069, 'cartográfico': 14070, 'evacuación': 14071, 'gallo': 14072, 'georreferenciarán': 14073, 'irán': 14074, 'ontología': 14075, 'postgis': 14076, 'reinaldo': 14077, 'rikhuna': 14078, 'visor': 14079, 'antibacteriales': 14080, 'antivirales': 14081, 'benceno': 14082, 'bis': 14083, 'etoxi': 14084, 'evelyn': 14085, 'funcionalización': 14086, 'fusionadas': 14087, 'hidrazina': 14088, 'tereftaloilimidotiocarbonato': 14089, 'tereftaloiltiocarbamato': 14090, 'triazinas': 14091, 'triazolil': 14092, 'triazolilbencenos': 14093, 'átomos': 14094, 'aprovechables': 14095, 'arbei': 14096, 'areas': 14097, 'byron': 14098, 'conjunción': 14099, 'creiteria': 14100, 'disposicion': 14101, 'emc': 14102, 'evaluation': 14103, 'geografica': 14104, 'identificacion': 14105, 'juicio': 14106, 'multi': 14107, 'multicriterio': 14108, 'multicritero': 14109, 'propondrá': 14110, 'vertedero': 14111, 'acerquen': 14112, 'app': 14113, 'buscador': 14114, 'espinal': 14115, 'fabricio': 14116, 'gratuita': 14117, 'marlon': 14118, 'mejorará': 14119, 'pasuy': 14120, 'semántico': 14121, 'sit': 14122, 'sitapp': 14123, 'ubicándolas': 14124, 'adscrita': 14125, 'agilice': 14126, 'denotado': 14127, 'dominguez': 14128, 'hoyos': 14129, 'implantar': 14130, 'manejando': 14131, 'mascotas': 14132, 'médicas': 14133, 'médico': 14134, 'organizar': 14135, 'referida': 14136, 'trabas': 14137, 'veterinarios': 14138, 'conectados': 14139, 'crearon': 14140, 'edo': 14141, 'euler': 14142, 'generalizar': 14143, 'kutta': 14144, 'mnedo': 14145, 'rigidez': 14146, 'runge': 14147, 'sedo': 14148, 'subterráneos': 14149, 'variar': 14150, 'aldana': 14151, 'atreves': 14152, 'audiovisuales': 14153, 'contingencia': 14154, 'convocatoria': 14155, 'detalles': 14156, 'dinamismos': 14157, 'elaboran': 14158, 'guanga': 14159, 'iconografías': 14160, 'intangible': 14161, 'jessica': 14162, 'mochilas': 14163, 'personificar': 14164, 'petroglifos': 14165, 'plasmada': 14166, 'prendas': 14167, 'ritualidad': 14168, 'ruanas': 14169, 'sincera': 14170, 'sincero': 14171, 'tejer': 14172, 'terminado': 14173, 'textiles': 14174, 'tramas': 14175, 'urdimbres': 14176, 'ajustan': 14177, 'cartográfica': 14178, 'concentra': 14179, 'condensa': 14180, 'construidas': 14181, 'determínate': 14182, 'dimensionan': 14183, 'espació': 14184, 'estudien': 14185, 'factibles': 14186, 'geohistoria': 14187, 'geohistórico': 14188, 'identificables': 14189, 'inmediatos': 14190, 'innovadores': 14191, 'inseparable': 14192, 'instaure': 14193, 'jamondino': 14194, 'ligara': 14195, 'piense': 14196, 'profundiza': 14197, 'ruralidades': 14198, 'sintetice': 14199, 'añadidos': 14200, 'compartirse': 14201, 'convirtiéndola': 14202, 'debilmente': 14203, 'dinamica': 14204, 'dispongan': 14205, 'divulgarlo': 14206, 'débilmente': 14207, 'explicito': 14208, 'explícito': 14209, 'gestion': 14210, 'ilimitado': 14211, 'jimmy': 14212, 'maskana': 14213, 'mateo': 14214, 'ontologia': 14215, 'postgresql': 14216, 'publicarlo': 14217, 'requiera': 14218, 'restrepo': 14219, 'sgbd': 14220, 'umayux': 14221, 'ventajosa': 14222, 'adaptar': 14223, 'adquieran': 14224, 'atacar': 14225, 'auméntala': 14226, 'desnormalización': 14227, 'engloban': 14228, 'escalabilidad': 14229, 'famosas': 14230, 'hacerlos': 14231, 'incapacidad': 14232, 'instalar': 14233, 'intuitivos': 14234, 'joins': 14235, 'llegaron': 14236, 'mongodb': 14237, 'nosql': 14238, 'nube': 14239, 'relacional': 14240, 'ripuy': 14241, 'startups': 14242, 'yurani': 14243, 'almacene': 14244, 'bairon': 14245, 'imbacuan': 14246, 'integrará': 14247, 'kimball': 14248, 'pentaho': 14249, 'secretarías': 14250, 'subregión': 14251, 'yandun': 14252, 'yeferson': 14253, 'chavez': 14254, 'complementariamente': 14255, 'discutirá': 14256, 'esteva': 14257, 'galán': 14258, 'ibargüen': 14259, 'ilustrar': 14260, 'inmunología': 14261, 'leslie': 14262, 'lourdes': 14263, 'micobacterium': 14264, 'replanteamiento': 14265, 'simule': 14266, 'característico': 14267, 'colorimetría': 14268, 'cuantificará': 14269, 'elatior': 14270, 'haw': 14271, 'leiton': 14272, 'stricta': 14273, 'triestímulo': 14274, 'antocianatos': 14275, 'azino': 14276, 'baya': 14277, 'benéficas': 14278, 'blueberries': 14279, 'cong': 14280, 'contrarrestar': 14281, 'descontrolada': 14282, 'despliegan': 14283, 'empeorar': 14284, 'etilbenzotiazolin': 14285, 'gelatinasa': 14286, 'leandra': 14287, 'lipopolisacarido': 14288, 'naudin': 14289, 'oxidativo': 14290, 'patológica': 14291, 'profundizado': 14292, 'prooxidantes': 14293, 'remodelamiento': 14294, 'subseriata': 14295, 'sulfonico': 14296, 'toso': 14297, 'transmigración': 14298, 'trataran': 14299, 'adoptadas': 14300, 'alegria': 14301, 'asignar': 14302, 'beneficiaria': 14303, 'caracterizando': 14304, 'carboneo': 14305, 'carbón': 14306, 'consiente': 14307, 'convención': 14308, 'convirtiendo': 14309, 'despilfarro': 14310, 'deterioradas': 14311, 'drásticos': 14312, 'estefania': 14313, 'gratuitos': 14314, 'identificándolos': 14315, 'inmediato': 14316, 'invisible': 14317, 'ligados': 14318, 'logra': 14319, 'mantenga': 14320, 'medible': 14321, 'medrano': 14322, 'mentalidad': 14323, 'perjudicial': 14324, 'protegiendo': 14325, 'reservorios': 14326, 'rocio': 14327, 'siga': 14328, 'subjetiva': 14329, 'terminando': 14330, 'anidación': 14331, 'cacicus': 14332, 'cacique': 14333, 'chrysonotus': 14334, 'coloniales': 14335, 'desconocen': 14336, 'e.g.': 14337, 'ejecuta': 14338, 'estímulos': 14339, 'guaitarilla': 14340, 'guarnica': 14341, 'imitación': 14342, 'jerarquización': 14343, 'sureño': 14344, 'brenda': 14345, 'enriquecen': 14346, 'melissa': 14347, 'objetivas': 14348, 'stakeholders': 14349}\n"
     ]
    }
   ],
   "source": [
    "print(dictionary.token2id)"
   ]
  },
  {
   "cell_type": "code",
   "execution_count": 5,
   "metadata": {},
   "outputs": [
    {
     "output_type": "stream",
     "name": "stdout",
     "text": [
      "[(361, 1), (13859, 1), (14215, 1)]\n"
     ]
    }
   ],
   "source": [
    "#Vectorizar nuevos documentos\n",
    "new_doc = \"motor búsqueda ontologia\"\n",
    "new_vec = dictionary.doc2bow(new_doc.lower().split())\n",
    "print(new_vec)  # the word \"interaction\" does not appear in the dictionary and is ignored"
   ]
  },
  {
   "cell_type": "code",
   "execution_count": 7,
   "metadata": {
    "tags": []
   },
   "outputs": [
    {
     "output_type": "stream",
     "name": "stdout",
     "text": [
      "[(17, 2), (26, 2), (36, 1), (74, 1), (78, 2), (85, 5), (119, 1), (126, 1), (134, 2), (135, 1), (145, 1), (152, 1), (162, 1), (165, 2), (170, 4), (179, 3), (180, 1), (181, 6), (182, 2), (183, 2), (184, 1), (185, 1), (186, 3), (187, 1), (188, 1), (189, 1), (190, 2), (191, 8), (192, 1), (193, 1), (194, 1), (195, 1), (196, 1), (197, 1), (198, 1), (199, 1), (200, 3), (201, 1), (202, 3), (203, 2), (204, 4), (205, 1), (206, 1), (207, 1), (208, 1), (209, 1), (210, 1), (211, 1), (212, 1), (213, 1), (214, 1), (215, 1), (216, 1), (217, 1), (218, 1), (219, 2), (220, 1), (221, 1), (222, 1), (223, 1), (224, 1), (225, 1), (226, 5), (227, 1), (228, 2), (229, 3), (230, 1), (231, 5), (232, 1), (233, 1), (234, 2), (235, 2), (236, 1), (237, 2), (238, 1), (239, 1), (240, 3), (241, 1), (242, 1), (243, 1), (244, 1), (245, 1), (246, 2), (247, 1), (248, 1), (249, 1), (250, 1), (251, 1), (252, 1), (253, 1), (254, 1), (255, 2), (256, 1), (257, 2), (258, 1), (259, 1), (260, 4), (261, 1), (262, 2), (263, 1), (264, 3), (265, 1), (266, 1), (267, 1), (268, 1), (269, 1), (270, 4), (271, 1), (272, 3), (273, 2), (274, 1), (275, 2), (276, 1), (277, 1), (278, 1), (279, 1), (280, 1), (281, 1), (282, 1), (283, 1), (284, 1), (285, 1), (286, 8), (287, 1), (288, 1), (289, 1), (290, 1), (291, 1), (292, 1), (293, 3), (294, 1), (295, 1), (296, 3), (297, 2), (298, 1), (299, 2), (300, 1), (301, 1), (302, 1), (303, 2), (304, 1), (305, 1), (306, 1), (307, 1), (308, 1), (309, 1), (310, 1), (311, 1), (312, 1), (313, 1), (314, 1), (315, 2), (316, 1), (317, 1), (318, 1), (319, 1), (320, 2), (321, 2), (322, 1), (323, 4), (324, 3), (325, 1), (326, 1), (327, 1), (328, 7), (329, 1), (330, 1), (331, 1), (332, 1), (333, 1), (334, 1), (335, 1), (336, 1), (337, 1), (338, 2), (339, 1), (340, 2), (341, 1), (342, 1)]\n"
     ]
    }
   ],
   "source": [
    "#Vectorizando todos los resumenes\n",
    "corpus = [dictionary.doc2bow(text) for text in documentos]\n",
    "corpora.MmCorpus.serialize('../Data/resumenes_vectores.mm', corpus)  # store to disk, for later use\n",
    "print(corpus[1])"
   ]
  },
  {
   "cell_type": "code",
   "execution_count": 12,
   "metadata": {},
   "outputs": [],
   "source": [
    "#Leer Documento a la vez sin cargar todos en memoria\n",
    "from smart_open import open  # for transparently opening remote files\n",
    "from gensim import corpora\n",
    "dictionary = corpora.Dictionary(line.lower().split() for line in open('../Data/resumenes.txt'))\n",
    "# dictionary = corpora.Dictionary().load('../Data/resumenes.dict')\n",
    "\n",
    "class MyCorpus(object):\n",
    "    def __iter__(self):\n",
    "        for line in open('../Data/resumenes.txt'):\n",
    "            # assume there's one document per line, tokens separated by whitespace\n",
    "            yield dictionary.doc2bow(line.lower().split())"
   ]
  },
  {
   "cell_type": "code",
   "execution_count": 2,
   "metadata": {},
   "outputs": [
    {
     "output_type": "execute_result",
     "data": {
      "text/plain": [
       "<__main__.MyCorpus at 0x7f35e18ec810>"
      ]
     },
     "metadata": {},
     "execution_count": 2
    }
   ],
   "source": [
    "corpus_por_documento = MyCorpus()\n",
    "corpus_por_documento"
   ]
  },
  {
   "cell_type": "code",
   "execution_count": 13,
   "metadata": {},
   "outputs": [
    {
     "output_type": "stream",
     "name": "stdout",
     "text": [
      "[(0, 1), (1, 1), (2, 1), (3, 1), (4, 4), (5, 1), (6, 1), (7, 1), (8, 1), (9, 1), (10, 1), (11, 1), (12, 1), (13, 1), (14, 1), (15, 1), (16, 1), (17, 1), (18, 1), (19, 1), (20, 1), (21, 1), (22, 1), (23, 1), (24, 1), (25, 1), (26, 2), (27, 1), (28, 1), (29, 1), (30, 1), (31, 1), (32, 1), (33, 1), (34, 1), (35, 2), (36, 1), (37, 1), (38, 2), (39, 1), (40, 1), (41, 1), (42, 1), (43, 1), (44, 1), (45, 2), (46, 1), (47, 1), (48, 2), (49, 1), (50, 1), (51, 4), (52, 1), (53, 1), (54, 1), (55, 2), (56, 1), (57, 1), (58, 5), (59, 2), (60, 1), (61, 1), (62, 5), (63, 1), (64, 6), (65, 6), (66, 11), (67, 1), (68, 1), (69, 1), (70, 1), (71, 1), (72, 1), (73, 1), (74, 1), (75, 1), (76, 1), (77, 1), (78, 1), (79, 1), (80, 1), (81, 1), (82, 1), (83, 1), (84, 1), (85, 1), (86, 1), (87, 1), (88, 2), (89, 1), (90, 1), (91, 1), (92, 1), (93, 1), (94, 1), (95, 1), (96, 1), (97, 1), (98, 1), (99, 1), (100, 2), (101, 1), (102, 2), (103, 1), (104, 1), (105, 1), (106, 1), (107, 1), (108, 1), (109, 1), (110, 1), (111, 1), (112, 4), (113, 4), (114, 1), (115, 1), (116, 1), (117, 1), (118, 1), (119, 1), (120, 1), (121, 1), (122, 2), (123, 2), (124, 1), (125, 1), (126, 1), (127, 1), (128, 1), (129, 1), (130, 1), (131, 2), (132, 1), (133, 1), (134, 2), (135, 1), (136, 1), (137, 1), (138, 1), (139, 1), (140, 1), (141, 1), (142, 2), (143, 1), (144, 1), (145, 1), (146, 1), (147, 2), (148, 1), (149, 1), (150, 1), (151, 2), (152, 2), (153, 1), (154, 2), (155, 5), (156, 1), (157, 1), (158, 1), (159, 1), (160, 1), (161, 1), (162, 1), (163, 1), (164, 1), (165, 2), (166, 1), (167, 1), (168, 1), (169, 1), (170, 1), (171, 3), (172, 1), (173, 1), (174, 1), (175, 1), (176, 1), (177, 4), (178, 1)]\n"
     ]
    }
   ],
   "source": [
    "for i, vector in enumerate(corpus_por_documento):  # load one vector into memory at a time\n",
    "    if i > 0: break\n",
    "    print(vector)"
   ]
  },
  {
   "cell_type": "code",
   "execution_count": 2,
   "metadata": {},
   "outputs": [
    {
     "output_type": "execute_result",
     "data": {
      "text/plain": [
       "<gensim.corpora.mmcorpus.MmCorpus at 0x7fc08d152980>"
      ]
     },
     "metadata": {},
     "execution_count": 2
    }
   ],
   "source": [
    "#Cargar Matriz de Documentos\n",
    "from gensim import corpora\n",
    "\n",
    "corpus = corpora.MmCorpus('../Data/resumenes_vectores.mm')\n",
    "corpus"
   ]
  },
  {
   "cell_type": "code",
   "execution_count": 4,
   "metadata": {},
   "outputs": [
    {
     "output_type": "execute_result",
     "data": {
      "text/plain": [
       "[(78, 1.0),\n",
       " (119, 1.0),\n",
       " (199, 1.0),\n",
       " (202, 2.0),\n",
       " (232, 1.0),\n",
       " (257, 1.0),\n",
       " (315, 3.0),\n",
       " (324, 1.0),\n",
       " (365, 1.0),\n",
       " (369, 2.0),\n",
       " (379, 1.0),\n",
       " (417, 1.0),\n",
       " (472, 1.0),\n",
       " (473, 1.0),\n",
       " (618, 2.0),\n",
       " (693, 1.0),\n",
       " (818, 1.0),\n",
       " (849, 1.0),\n",
       " (1001, 1.0),\n",
       " (1095, 1.0),\n",
       " (1110, 1.0),\n",
       " (1148, 1.0),\n",
       " (1154, 1.0),\n",
       " (1168, 1.0),\n",
       " (1291, 1.0),\n",
       " (1389, 1.0),\n",
       " (1850, 1.0),\n",
       " (1902, 1.0),\n",
       " (1909, 1.0),\n",
       " (1932, 1.0),\n",
       " (1982, 1.0),\n",
       " (2085, 1.0),\n",
       " (2160, 1.0),\n",
       " (2238, 1.0),\n",
       " (2310, 1.0),\n",
       " (2311, 1.0),\n",
       " (2479, 1.0),\n",
       " (2610, 1.0),\n",
       " (2645, 1.0),\n",
       " (2772, 1.0),\n",
       " (2810, 1.0),\n",
       " (2833, 1.0),\n",
       " (2842, 1.0),\n",
       " (3028, 1.0),\n",
       " (3226, 1.0),\n",
       " (3279, 3.0),\n",
       " (3578, 1.0),\n",
       " (4550, 1.0),\n",
       " (4673, 1.0),\n",
       " (4861, 3.0),\n",
       " (5127, 1.0),\n",
       " (5164, 1.0),\n",
       " (5338, 1.0),\n",
       " (5455, 1.0),\n",
       " (5716, 1.0),\n",
       " (5916, 1.0),\n",
       " (6700, 1.0),\n",
       " (7127, 1.0),\n",
       " (7641, 1.0),\n",
       " (7670, 1.0),\n",
       " (7765, 1.0),\n",
       " (7880, 1.0),\n",
       " (7950, 1.0),\n",
       " (9170, 1.0),\n",
       " (9171, 5.0),\n",
       " (9172, 1.0),\n",
       " (9173, 1.0),\n",
       " (9174, 1.0),\n",
       " (9175, 1.0),\n",
       " (9176, 1.0),\n",
       " (9177, 1.0),\n",
       " (9178, 1.0),\n",
       " (9179, 1.0),\n",
       " (9180, 1.0),\n",
       " (9181, 1.0),\n",
       " (9182, 1.0),\n",
       " (9183, 1.0),\n",
       " (9184, 1.0),\n",
       " (9185, 1.0),\n",
       " (9186, 2.0),\n",
       " (9187, 1.0),\n",
       " (9188, 1.0),\n",
       " (9189, 1.0),\n",
       " (9190, 3.0),\n",
       " (9191, 1.0),\n",
       " (9192, 1.0),\n",
       " (9193, 1.0),\n",
       " (9194, 2.0),\n",
       " (9195, 1.0),\n",
       " (9196, 1.0)]"
      ]
     },
     "metadata": {},
     "execution_count": 4
    }
   ],
   "source": [
    "corpus[200]"
   ]
  }
 ]
}