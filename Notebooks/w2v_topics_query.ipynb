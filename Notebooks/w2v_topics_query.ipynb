{
 "metadata": {
  "language_info": {
   "codemirror_mode": {
    "name": "ipython",
    "version": 3
   },
   "file_extension": ".py",
   "mimetype": "text/x-python",
   "name": "python",
   "nbconvert_exporter": "python",
   "pygments_lexer": "ipython3",
   "version": "3.7.7-final"
  },
  "orig_nbformat": 2,
  "kernelspec": {
   "name": "Python 3.7.7 64-bit ('tesis': conda)",
   "display_name": "Python 3.7.7 64-bit ('tesis': conda)",
   "metadata": {
    "interpreter": {
     "hash": "0ce51ec80c9dccb5ff8500cd45e02f2b0d562b0864d02b0ad9ffcba78adf4e7d"
    }
   }
  }
 },
 "nbformat": 4,
 "nbformat_minor": 2,
 "cells": [
  {
   "cell_type": "code",
   "execution_count": 1,
   "metadata": {},
   "outputs": [],
   "source": [
    "#Cargamos Diccionario y Vector de Corpus\n",
    "#Cargar Matriz de Documentos\n",
    "from gensim import corpora\n",
    "\n",
    "class Documentos(object):\n",
    "    def __iter__(self):\n",
    "        for line in open('../Data/resumenes.txt'):\n",
    "            # assume there's one document per line, tokens separated by whitespace\n",
    "            yield dictionary.doc2bow(line.lower().split())\n",
    "dictionary = corpora.Dictionary().load('../Data/resumenes.dict')\n",
    "corpus = corpora.MmCorpus('../Data/resumenes_vectores.mm')\n"
   ]
  },
  {
   "source": [
    "## Usando TFIDF "
   ],
   "cell_type": "markdown",
   "metadata": {}
  },
  {
   "cell_type": "code",
   "execution_count": 2,
   "metadata": {},
   "outputs": [
    {
     "output_type": "execute_result",
     "data": {
      "text/plain": [
       "<gensim.interfaces.TransformedCorpus at 0x7f91b2990590>"
      ]
     },
     "metadata": {},
     "execution_count": 2
    }
   ],
   "source": [
    "from gensim import models\n",
    "\n",
    "#model = models.TfidfModel(corpus, normalize=True)\n",
    "tfidf = models.TfidfModel(corpus)  # step 1 -- initialize a model (train)\n",
    "corpus_tfidf = tfidf[corpus]\n",
    "corpus_tfidf # step 2 -- use model and transform "
   ]
  },
  {
   "cell_type": "code",
   "execution_count": 3,
   "metadata": {},
   "outputs": [],
   "source": [
    "#LSI Model\n",
    "lsi_model = models.LsiModel(corpus_tfidf, id2word=dictionary, num_topics=300)  # initialize an LSI transformation\n",
    "corpus_lsi = lsi_model[corpus_tfidf]  # create a double wrapper over the original corpus: bow->tfidf->fold-in-lsi"
   ]
  },
  {
   "cell_type": "code",
   "execution_count": 59,
   "metadata": {},
   "outputs": [
    {
     "output_type": "execute_result",
     "data": {
      "text/plain": [
       "'-0.190*\"suelo\" + 0.170*\"inglés\" + -0.121*\"salud\" + 0.117*\"abonos\" + 0.100*\"verdes\" + -0.092*\"carbono\" + 0.092*\"ambiental\" + 0.088*\"ecuaciones\" + 0.087*\"sativa\" + 0.082*\"extracción\"'"
      ]
     },
     "metadata": {},
     "execution_count": 59
    }
   ],
   "source": [
    "lsi_model.print_topic(45)"
   ]
  },
  {
   "cell_type": "code",
   "execution_count": 33,
   "metadata": {
    "tags": []
   },
   "outputs": [
    {
     "output_type": "stream",
     "name": "stdout",
     "text": [
      "[(0, -0.15382514037268388), (1, -0.07854030654456619)]\n[(0, -0.1514677298505903), (1, -0.00515288272186968)]\n[(0, -0.12971521476467093), (1, 0.07311514039117664)]\n[(0, -0.1287706046702057), (1, 0.08933811192731118)]\n[(0, -0.07099970355538221), (1, 0.0121671475286895)]\n[(0, -0.15838692218485023), (1, 0.10788923865545308)]\n[(0, -0.1845097489944218), (1, -0.012200192053673025)]\n[(0, -0.1894718453855591), (1, -0.01711265753192467)]\n[(0, -0.2362566720921067), (1, -0.006394699529057206)]\n[(0, -0.1384802727006627), (1, 0.06023777858949483)]\n[(0, -0.15811591138959735), (1, -0.03818489577116049)]\n"
     ]
    }
   ],
   "source": [
    "# both bow->tfidf and tfidf->lsi transformations are actually executed here, on the fly\n",
    "i = 0\n",
    "#similitud de documentos con algunos temas\n",
    "for doc, as_text in zip(corpus_lsi, documents):\n",
    "    if i > 10: break\n",
    "    i = i + 1\n",
    "    print(doc)"
   ]
  },
  {
   "cell_type": "code",
   "execution_count": 57,
   "metadata": {},
   "outputs": [
    {
     "output_type": "stream",
     "name": "stdout",
     "text": [
      "(28, 0.16371342176435547)\n(39, 0.1547042196019552)\n(45, 0.16588130763224893)\n(49, 0.11926113229711457)\n(50, 0.11672096451571883)\n(260, 0.10231052851834882)\n"
     ]
    }
   ],
   "source": [
    "doc100 = corpus_lsi[424]\n",
    "for topic in doc100:\n",
    "    if topic[1] > 0.1:\n",
    "        print(topic)"
   ]
  },
  {
   "source": [
    "## Queries"
   ],
   "cell_type": "markdown",
   "metadata": {}
  },
  {
   "cell_type": "code",
   "execution_count": 32,
   "metadata": {},
   "outputs": [
    {
     "output_type": "stream",
     "name": "stdout",
     "text": [
      "300\n"
     ]
    }
   ],
   "source": [
    "doc = \"mineria datos\"\n",
    "vec_bow = dictionary.doc2bow(doc.lower().split())\n",
    "vec_lsi = lsi_model[vec_bow]  # convert the query to LSI space\n",
    "print(len(vec_lsi))"
   ]
  },
  {
   "cell_type": "code",
   "execution_count": 19,
   "metadata": {},
   "outputs": [],
   "source": [
    "from gensim import similarities\n",
    "index = similarities.MatrixSimilarity(lsi_model[corpus])  # transform corpus to LSI space and index it"
   ]
  },
  {
   "cell_type": "code",
   "execution_count": 20,
   "metadata": {},
   "outputs": [],
   "source": [
    "index.save('/tmp/resumenes.index')\n",
    "index = similarities.MatrixSimilarity.load('/tmp/resumenes.index')"
   ]
  },
  {
   "cell_type": "code",
   "execution_count": 33,
   "metadata": {},
   "outputs": [
    {
     "output_type": "stream",
     "name": "stdout",
     "text": [
      "(336, 0.9413166)\n(20, 0.77766556)\n(309, 0.7772784)\n(64, 0.7584535)\n(23, 0.7172003)\n(443, 0.6502865)\n(62, 0.62732816)\n(406, 0.505273)\n(444, 0.44180253)\n(257, 0.2613868)\n(402, 0.25311357)\n(416, 0.20373225)\n(310, 0.20082766)\n(315, 0.20017889)\n(90, 0.1899145)\n(421, 0.18484159)\n(286, 0.17872432)\n(306, 0.16860452)\n(442, 0.16152412)\n(339, 0.15042782)\n(376, 0.13914354)\n(292, 0.13066618)\n(364, 0.124967895)\n(10, 0.1220842)\n(438, 0.11512972)\n(250, 0.11241484)\n(151, 0.1111936)\n(198, 0.10471984)\n(122, 0.10376787)\n(385, 0.10203001)\n"
     ]
    }
   ],
   "source": [
    "# resumenes = Documentos()\n",
    "\n",
    "sims = index[vec_lsi]  # perform a similarity query against the corpus\n",
    "results = sorted(list(enumerate(sims)), key=lambda item: -item[1])\n",
    "for i, documento in enumerate(results):\n",
    "    if(documento[1] > 0.1):\n",
    "        print(documento)\n",
    "# print(match[421])  # print (document_number, document_similarity) 2-tuples\n"
   ]
  }
 ]
}