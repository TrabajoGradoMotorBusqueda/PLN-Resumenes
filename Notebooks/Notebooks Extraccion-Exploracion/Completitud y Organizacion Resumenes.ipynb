{
 "cells": [
  {
   "cell_type": "markdown",
   "metadata": {},
   "source": [
    "# COMPLETAR Y ORGANIZAR RESUMENES, CADA RESUMEN EN UNA ROW"
   ]
  },
  {
   "cell_type": "markdown",
   "metadata": {},
   "source": [
    "## Importe bibliotecas"
   ]
  },
  {
   "cell_type": "code",
   "execution_count": null,
   "metadata": {},
   "outputs": [],
   "source": [
    "import pandas as pd\n",
    "import math\n",
    "\n",
    "pd.set_option('display.max_columns', None)"
   ]
  },
  {
   "cell_type": "markdown",
   "metadata": {},
   "source": [
    "## Carga de datos"
   ]
  },
  {
   "cell_type": "code",
   "execution_count": null,
   "metadata": {},
   "outputs": [],
   "source": [
    "resumenes_docentes = pd.read_excel(\"../../Data/mydata/excel/investigacion_docentes_columnas_renombradas_y_aumentadas.xlsx\",index_col=None)\n",
    "resumenes_estudiantes = pd.read_excel(\"../../Data/mydata/excel/investigacion_estudiantes_columnas_renombradas_y_aumentadas.xlsx\",index_col=None)"
   ]
  },
  {
   "cell_type": "code",
   "execution_count": null,
   "metadata": {
    "scrolled": true
   },
   "outputs": [],
   "source": [
    "print(len(resumenes_docentes))\n",
    "len(resumenes_estudiantes)"
   ]
  },
  {
   "cell_type": "markdown",
   "metadata": {},
   "source": [
    "## Algoritmos"
   ]
  },
  {
   "cell_type": "code",
   "execution_count": null,
   "metadata": {},
   "outputs": [],
   "source": [
    "### ORIGINAL\n",
    "\n",
    "# def algoritmo_all_in_one_row(df):\n",
    "\n",
    "#     contador = 1\n",
    "#     nan = 0\n",
    "#     for index, row in df.iterrows():\n",
    "\n",
    "#         nac = row['np']\n",
    "#         if nac>nan:\n",
    "#             nan = nac\n",
    "#             contador = 1\n",
    "#             indexcol1 = index\n",
    "#         else:        \n",
    "#             if contador = 2:\n",
    "#                 row[col2][indexcol1]=row[col1]\n",
    "#             elif contador=3:\n",
    "#                 row[col3][indexcol1]=row[col1]\n",
    "#             elif contador=4:\n",
    "#                 row[col4][indexcol1]=row[col1]\n",
    "\n",
    "#         contador++\n",
    "    \n",
    "#     return df"
   ]
  },
  {
   "cell_type": "code",
   "execution_count": null,
   "metadata": {},
   "outputs": [],
   "source": [
    "### Enviar parametros 5 columnas, sirve para palabras clave\n",
    "\n",
    "def algoritmo_all_in_one_row_5_columns(df,col1='optional',col2='optional',col3='optional',col4='optional',col5='optional'):\n",
    "\n",
    "    contador = 1\n",
    "    nan = 0\n",
    "    for index, row in df.iterrows():\n",
    "\n",
    "        nac = row['np']\n",
    "        if nac>nan:\n",
    "            nan = nac\n",
    "            contador = 1\n",
    "            indexcol1 = index\n",
    "        else:        \n",
    "            if contador == 2:\n",
    "                df[col2][indexcol1]=row[col1]\n",
    "            elif contador == 3:\n",
    "                df[col3][indexcol1]=row[col1]\n",
    "            elif contador == 4:\n",
    "                df[col4][indexcol1]=row[col1]\n",
    "            elif contador == 5:\n",
    "                df[col5][indexcol1]=row[col1]\n",
    "\n",
    "        contador+=1\n",
    "    \n",
    "    return df"
   ]
  },
  {
   "cell_type": "code",
   "execution_count": null,
   "metadata": {},
   "outputs": [],
   "source": [
    "### Enviar parametros 4 columnas, sirve para palabras clave\n",
    "def algoritmo_all_in_one_row_4_columns(df,col1='optional',col2='optional',col3='optional',col4='optional'):\n",
    "\n",
    "    contador = 1\n",
    "    nan = 0\n",
    "    for index, row in df.iterrows():\n",
    "\n",
    "        nac = row['np']\n",
    "        if nac>nan:\n",
    "            nan = nac\n",
    "            contador = 1\n",
    "            indexcol1 = index\n",
    "        else:        \n",
    "            if contador == 2:\n",
    "                df[col2][indexcol1]=row[col1]\n",
    "            elif contador == 3:\n",
    "                df[col3][indexcol1]=row[col1]\n",
    "            elif contador == 4:\n",
    "                df[col4][indexcol1]=row[col1]\n",
    "            \n",
    "        contador+=1\n",
    "    \n",
    "    return df"
   ]
  },
  {
   "cell_type": "code",
   "execution_count": null,
   "metadata": {},
   "outputs": [],
   "source": [
    "## Se puede UNIR EN UNA SOLA FUNCION, ESTAS DOS QUE SIGUEN:\n",
    "\n",
    "# def algoritmo_completado_numeros_docentes():\n",
    "#     nac = 1\n",
    "#     for index,row in resumenes_docentes.iterrows():        \n",
    "#         if pd.isnull(row['np']):            \n",
    "#             resumenes_docentes['np'][index] = nac\n",
    "#         else:\n",
    "#             nac = row['np']"
   ]
  },
  {
   "cell_type": "code",
   "execution_count": null,
   "metadata": {},
   "outputs": [],
   "source": [
    "# def algoritmo_completado_numeros_estudiantes():\n",
    "#     nac = 1\n",
    "#     for index,row in resumenes_estudiantes.iterrows():        \n",
    "#         if (pd.isnull(row['np'])):            \n",
    "#             resumenes_estudiantes['np'][index] = nac\n",
    "#         else:\n",
    "#             nac = row['np']"
   ]
  },
  {
   "cell_type": "code",
   "execution_count": null,
   "metadata": {},
   "outputs": [],
   "source": [
    "# el df debe tener la columna np para poder ejecutar esta funcion\n",
    "\n",
    "def algoritmo_completado_numeros(df):\n",
    "    nac = 1\n",
    "    for index,row in df.iterrows():        \n",
    "        if (pd.isnull(row['np'])):            \n",
    "            df['np'][index] = nac\n",
    "        else:\n",
    "            nac = row['np']\n",
    "    \n",
    "    return df"
   ]
  },
  {
   "cell_type": "markdown",
   "metadata": {},
   "source": [
    "## Ejecución de completado de números"
   ]
  },
  {
   "cell_type": "code",
   "execution_count": null,
   "metadata": {},
   "outputs": [],
   "source": [
    "resumenes_docentes = algoritmo_completado_numeros(resumenes_docentes)\n",
    "resumenes_docentes.head(10)"
   ]
  },
  {
   "cell_type": "code",
   "execution_count": null,
   "metadata": {},
   "outputs": [],
   "source": [
    "resumenes_estudiantes = algoritmo_completado_numeros(resumenes_estudiantes)\n",
    "resumenes_estudiantes.head(10)"
   ]
  },
  {
   "cell_type": "code",
   "execution_count": null,
   "metadata": {
    "scrolled": true
   },
   "outputs": [],
   "source": [
    "resumenes_estudiantes.np"
   ]
  },
  {
   "cell_type": "code",
   "execution_count": null,
   "metadata": {},
   "outputs": [],
   "source": [
    "resumenes_docentes.np"
   ]
  },
  {
   "cell_type": "markdown",
   "metadata": {},
   "source": [
    "## Ejecución de algoritmo de completitud ordenamiento en 1 row linea fila DOCENTES"
   ]
  },
  {
   "cell_type": "markdown",
   "metadata": {},
   "source": [
    "### Docentes- palabras clave"
   ]
  },
  {
   "cell_type": "code",
   "execution_count": null,
   "metadata": {},
   "outputs": [],
   "source": [
    "resumenes_docentes = algoritmo_all_in_one_row_5_columns(resumenes_docentes,'palabra_clave1','palabra_clave2','palabra_clave3','palabra_clave4','palabra_clave5')"
   ]
  },
  {
   "cell_type": "markdown",
   "metadata": {},
   "source": [
    "### Docentes- codigo autor"
   ]
  },
  {
   "cell_type": "code",
   "execution_count": null,
   "metadata": {},
   "outputs": [],
   "source": [
    "resumenes_docentes = algoritmo_all_in_one_row_4_columns(resumenes_docentes,'codigo_autor1','codigo_autor2','codigo_autor3','codigo_autor4')"
   ]
  },
  {
   "cell_type": "markdown",
   "metadata": {},
   "source": [
    "### Docentes- nombres autor"
   ]
  },
  {
   "cell_type": "code",
   "execution_count": null,
   "metadata": {},
   "outputs": [],
   "source": [
    "resumenes_docentes = algoritmo_all_in_one_row_4_columns(resumenes_docentes,'nombres_autor1','nombres_autor2','nombres_autor3','nombres_autor4')"
   ]
  },
  {
   "cell_type": "markdown",
   "metadata": {},
   "source": [
    "### Docentes- programa autor"
   ]
  },
  {
   "cell_type": "code",
   "execution_count": null,
   "metadata": {},
   "outputs": [],
   "source": [
    "resumenes_docentes = algoritmo_all_in_one_row_4_columns(resumenes_docentes,'programa_autor1','programa_autor2','programa_autor3','programa_autor4')"
   ]
  },
  {
   "cell_type": "markdown",
   "metadata": {},
   "source": [
    "### Docentes- facultad autor"
   ]
  },
  {
   "cell_type": "code",
   "execution_count": null,
   "metadata": {},
   "outputs": [],
   "source": [
    "resumenes_docentes = algoritmo_all_in_one_row_4_columns(resumenes_docentes,'facultad_autor1','facultad_autor2','facultad_autor3','facultad_autor4')"
   ]
  },
  {
   "cell_type": "markdown",
   "metadata": {},
   "source": [
    "### Docentes- grupo_investigacion autor"
   ]
  },
  {
   "cell_type": "code",
   "execution_count": null,
   "metadata": {},
   "outputs": [],
   "source": [
    "resumenes_docentes = algoritmo_all_in_one_row_4_columns(resumenes_docentes,'grupo_investigacion1','grupo_investigacion2','grupo_investigacion3','grupo_investigacion4')"
   ]
  },
  {
   "cell_type": "markdown",
   "metadata": {},
   "source": [
    "### Docentes- linea_investigacion autor"
   ]
  },
  {
   "cell_type": "code",
   "execution_count": null,
   "metadata": {},
   "outputs": [],
   "source": [
    "resumenes_docentes = algoritmo_all_in_one_row_4_columns(resumenes_docentes,'linea_investigacion1','linea_investigacion2','linea_investigacion3','linea_investigacion4')"
   ]
  },
  {
   "cell_type": "code",
   "execution_count": null,
   "metadata": {},
   "outputs": [],
   "source": [
    "resumenes_docentes.head(16)"
   ]
  },
  {
   "cell_type": "markdown",
   "metadata": {},
   "source": [
    "## Ejecución de algoritmo de completitud ordenamiento en 1 row linea fila ESTUDIANTES"
   ]
  },
  {
   "cell_type": "markdown",
   "metadata": {},
   "source": [
    "### Estudiantes- palabras clave"
   ]
  },
  {
   "cell_type": "code",
   "execution_count": null,
   "metadata": {},
   "outputs": [],
   "source": [
    "resumenes_estudiantes"
   ]
  },
  {
   "cell_type": "code",
   "execution_count": null,
   "metadata": {},
   "outputs": [],
   "source": [
    "resumenes_estudiantes = algoritmo_all_in_one_row_5_columns(resumenes_estudiantes,'palabra_clave1','palabra_clave2','palabra_clave3','palabra_clave4','palabra_clave5')"
   ]
  },
  {
   "cell_type": "markdown",
   "metadata": {},
   "source": [
    "### Estudiantes- codigo autor"
   ]
  },
  {
   "cell_type": "code",
   "execution_count": null,
   "metadata": {},
   "outputs": [],
   "source": [
    "resumenes_estudiantes = algoritmo_all_in_one_row_4_columns(resumenes_estudiantes,'codigo_autor1','codigo_autor2','codigo_autor3','codigo_autor4')"
   ]
  },
  {
   "cell_type": "markdown",
   "metadata": {},
   "source": [
    "### Estudiantes- nombres autor"
   ]
  },
  {
   "cell_type": "code",
   "execution_count": null,
   "metadata": {},
   "outputs": [],
   "source": [
    "resumenes_estudiantes = algoritmo_all_in_one_row_4_columns(resumenes_estudiantes,'nombres_autor1','nombres_autor2','nombres_autor3','nombres_autor4')"
   ]
  },
  {
   "cell_type": "markdown",
   "metadata": {},
   "source": [
    "### Estudiantes- programa autor"
   ]
  },
  {
   "cell_type": "code",
   "execution_count": null,
   "metadata": {},
   "outputs": [],
   "source": [
    "resumenes_estudiantes = algoritmo_all_in_one_row_4_columns(resumenes_estudiantes,'programa_autor1','programa_autor2','programa_autor3','programa_autor4')"
   ]
  },
  {
   "cell_type": "markdown",
   "metadata": {},
   "source": [
    "### Estudiantes- departamento autor"
   ]
  },
  {
   "cell_type": "code",
   "execution_count": null,
   "metadata": {},
   "outputs": [],
   "source": [
    "resumenes_estudiantes = algoritmo_all_in_one_row_4_columns(resumenes_estudiantes,'departamento_autor1','departamento_autor2','departamento_autor3','departamento_autor4')"
   ]
  },
  {
   "cell_type": "markdown",
   "metadata": {},
   "source": [
    "### Estudiantes- facultad autor"
   ]
  },
  {
   "cell_type": "code",
   "execution_count": null,
   "metadata": {},
   "outputs": [],
   "source": [
    "resumenes_estudiantes = algoritmo_all_in_one_row_4_columns(resumenes_estudiantes,'facultad_autor1','facultad_autor2','facultad_autor3','facultad_autor4')"
   ]
  },
  {
   "cell_type": "markdown",
   "metadata": {},
   "source": [
    "### Estudiantes- grupo_investigacion autor"
   ]
  },
  {
   "cell_type": "code",
   "execution_count": null,
   "metadata": {},
   "outputs": [],
   "source": [
    "resumenes_estudiantes = algoritmo_all_in_one_row_4_columns(resumenes_estudiantes,'grupo_investigacion1','grupo_investigacion2','grupo_investigacion3','grupo_investigacion4')"
   ]
  },
  {
   "cell_type": "markdown",
   "metadata": {},
   "source": [
    "### Estudiantes- linea_investigacion autor"
   ]
  },
  {
   "cell_type": "code",
   "execution_count": null,
   "metadata": {},
   "outputs": [],
   "source": [
    "resumenes_estudiantes = algoritmo_all_in_one_row_4_columns(resumenes_estudiantes,'linea_investigacion1','linea_investigacion2','linea_investigacion3','linea_investigacion4')"
   ]
  },
  {
   "cell_type": "code",
   "execution_count": null,
   "metadata": {},
   "outputs": [],
   "source": [
    "resumenes_estudiantes.head()"
   ]
  },
  {
   "cell_type": "markdown",
   "metadata": {},
   "source": [
    "## EXPORTE DE DATOS"
   ]
  },
  {
   "cell_type": "code",
   "execution_count": null,
   "metadata": {},
   "outputs": [],
   "source": [
    "resumenes_estudiantes.to_excel('ruta.xlsx')"
   ]
  },
  {
   "cell_type": "code",
   "execution_count": null,
   "metadata": {},
   "outputs": [],
   "source": [
    "resumenes_docentes.to_excel('ruta.xlsx')"
   ]
  },
  {
   "cell_type": "markdown",
   "metadata": {},
   "source": [
    "### PRUEBAS"
   ]
  },
  {
   "cell_type": "code",
   "execution_count": null,
   "metadata": {},
   "outputs": [],
   "source": [
    "import numpy as np"
   ]
  },
  {
   "cell_type": "code",
   "execution_count": null,
   "metadata": {},
   "outputs": [],
   "source": [
    "dicti = {'columna1':['1', np.nan,np.nan,'2',np.nan], 'columna2':[np.nan,'2',np.nan,np.nan,np.nan], 'columna3':[np.nan,np.nan,np.nan,np.nan,np.nan]}\n",
    "df = pd.DataFrame (dicti)\n",
    "df"
   ]
  },
  {
   "cell_type": "code",
   "execution_count": null,
   "metadata": {
    "scrolled": false
   },
   "outputs": [],
   "source": [
    "nac = 1\n",
    "for index,row in df.iterrows():        \n",
    "    if pd.isnull(row['columna2']):        \n",
    "        df['columna2'][index] = nac\n",
    "    else:\n",
    "        nac = row['columna2']\n",
    "df"
   ]
  },
  {
   "cell_type": "code",
   "execution_count": null,
   "metadata": {},
   "outputs": [],
   "source": [
    "nac = 1\n",
    "for index,row in df.iterrows():        \n",
    "    if (pd.isnull(row['columna1'])):\n",
    "        row['columna1'] = nac\n",
    "        df['columna1'][index] = row['columna1'] \n",
    "    else:\n",
    "        nac = row['columna1']"
   ]
  },
  {
   "cell_type": "code",
   "execution_count": null,
   "metadata": {},
   "outputs": [],
   "source": [
    "nac = 1\n",
    "for index,row in df.iterrows():        \n",
    "    if pd.isnull(row['columna3']):\n",
    "        df['columna3'][index] = nac\n",
    "    else:\n",
    "        nac = row['columna3']\n",
    "df"
   ]
  },
  {
   "cell_type": "code",
   "execution_count": null,
   "metadata": {},
   "outputs": [],
   "source": [
    "type(resumenes_docentes['np'][0])"
   ]
  },
  {
   "cell_type": "code",
   "execution_count": null,
   "metadata": {
    "scrolled": true
   },
   "outputs": [],
   "source": [
    "for index,row in df.iterrows():\n",
    "    print(pd.isnull(row['columna1']))"
   ]
  },
  {
   "cell_type": "code",
   "execution_count": null,
   "metadata": {},
   "outputs": [],
   "source": [
    "for index,row in df.iterrows():\n",
    "    print(row['columna1'])"
   ]
  },
  {
   "cell_type": "code",
   "execution_count": null,
   "metadata": {},
   "outputs": [],
   "source": [
    "for index,row in df.iterrows():\n",
    "    print(pd.isnull(row['columna1']))"
   ]
  },
  {
   "cell_type": "code",
   "execution_count": null,
   "metadata": {},
   "outputs": [],
   "source": [
    "for index,row in resumenes_estudiantes.iterrows():\n",
    "    print(pd.isnull(row['np']))"
   ]
  },
  {
   "cell_type": "markdown",
   "metadata": {},
   "source": [
    "## ------------------------------------------------------------------------------------------------"
   ]
  },
  {
   "cell_type": "markdown",
   "metadata": {},
   "source": [
    "## ------------------------------------------------------------------------------------------------"
   ]
  },
  {
   "cell_type": "code",
   "execution_count": null,
   "metadata": {},
   "outputs": [],
   "source": [
    "palabras_clave_df = pd.concat([resumenes_docentes['np'],resumenes_docentes['palabra_clave1'],resumenes_docentes['palabra_clave2'],resumenes_docentes['palabra_clave3'],resumenes_docentes['palabra_clave4'],resumenes_docentes['palabra_clave5']],axis=1)"
   ]
  },
  {
   "cell_type": "code",
   "execution_count": null,
   "metadata": {
    "scrolled": true
   },
   "outputs": [],
   "source": [
    "palabras_clave_df.head()"
   ]
  },
  {
   "cell_type": "code",
   "execution_count": null,
   "metadata": {},
   "outputs": [],
   "source": [
    "palabras_clave_df = algoritmo_all_in_one_row(palabras_clave_df,'palabra_clave1','palabra_clave2','palabra_clave3','palabra_clave4','palabra_clave5')\n",
    "palabras_clave_df"
   ]
  },
  {
   "cell_type": "code",
   "execution_count": null,
   "metadata": {},
   "outputs": [],
   "source": [
    "palabras_clave_df.head(17)"
   ]
  }
 ],
 "metadata": {
  "kernelspec": {
   "display_name": "Python 3",
   "language": "python",
   "name": "python3"
  },
  "language_info": {
   "codemirror_mode": {
    "name": "ipython",
    "version": 3
   },
   "file_extension": ".py",
   "mimetype": "text/x-python",
   "name": "python",
   "nbconvert_exporter": "python",
   "pygments_lexer": "ipython3",
   "version": "3.8.3"
  }
 },
 "nbformat": 4,
 "nbformat_minor": 4
}
