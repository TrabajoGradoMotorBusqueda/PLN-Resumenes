{
 "cells": [
  {
   "cell_type": "markdown",
   "metadata": {},
   "source": [
    "# Extracción y exploración de documentos"
   ]
  },
  {
   "cell_type": "code",
   "execution_count": 5,
   "metadata": {},
   "outputs": [],
   "source": [
    "import pandas as pd\n",
    "\n",
    "resumenes_docentes = pd.read_excel(\"../../../Data/mydata/investigacion_docentes_prueba.xlsx\")\n",
    "resumenes_estudiantes = pd.read_excel(\"../../../Data/mydata/investigacion_estudiantes_prueba.xlsx\")\n",
    "\n",
    "# Eliminamos  Columnas\n",
    "resumenes_docentes.drop(columns=['numero'], inplace=True)\n",
    "resumenes_estudiantes.drop(columns=['numero'], inplace=True)\n",
    "\n",
    "#Eliminamos NAN\n",
    "resumenes_docentes.dropna(inplace=True)\n",
    "resumenes_estudiantes.dropna(inplace=True)\n",
    "\n",
    "#Asignamos index\n",
    "resumenes_docentes['index'] = [*range(1,len(resumenes_docentes)+1)]\n",
    "resumenes_docentes.set_index('index', inplace=True)\n",
    "\n",
    "resumenes_estudiantes['index'] = [*range(1,len(resumenes_estudiantes)+1)]\n",
    "resumenes_estudiantes.set_index('index', inplace=True)\n",
    "\n",
    "#Asignamos Columnas\n",
    "resumenes_docentes.columns = [\"codigo\", \"titulo\", \"resumen\", \"estado\", \"id_autor\", \"nombre_autor\",\"programa\", \"facultad\", \"convocatoria\", \"grupo_investigacion\", \"linea_investigacion\", \"palabras_clave\"]\n",
    "\n",
    "resumenes_estudiantes.columns = ['codigo', 'titulo', 'resumen', 'estado', 'id_autor', 'nombre_autor','programa', 'departamento', 'facultad', 'nombre_asesor', 'convocatoria', 'grupo_investigacion', 'linea_investigacion', 'palabras_clave']\n",
    "\n",
    "\n",
    "#Eliminamos registros no encontrados\n",
    "resumenes_docentes['palabras_clave'] = resumenes_docentes['palabras_clave'].apply(lambda row: row if (row != 'No se encontraron palabras clave registradas') else \" \")\n",
    "resumenes_estudiantes['palabras_clave'] = resumenes_estudiantes['palabras_clave'].apply(lambda row: row if (row != 'No se encontraron palabras clave registradas') else \" \")\n",
    "\n",
    "\n",
    "#Agregamos Columna de Corpus palabras tokenizadas\n",
    "resumenes_docentes['corpus'] = resumenes_docentes.apply(lambda row: row['titulo']+' '+row['resumen']+' '+row['palabras_clave']+' '+row['programa']+' '+row['facultad']+' '+\n",
    "                                                                    row['grupo_investigacion']+' '+row['linea_investigacion'],axis=1)\n",
    "\n",
    "resumenes_estudiantes['corpus'] = resumenes_estudiantes.apply(lambda row: row['titulo']+' '+row['resumen']+' '+row['palabras_clave']+' '+row['programa']+' '+row['departamento']+' '+row['facultad']+' '+\n",
    "                                                                          row['grupo_investigacion']+' '+row['linea_investigacion'],axis=1)"
   ]
  },
  {
   "cell_type": "code",
   "execution_count": 6,
   "metadata": {},
   "outputs": [],
   "source": [
    "str_corpus_docentes = \"\"\n",
    "for row in (resumenes_docentes.corpus):\n",
    "    str_corpus_docentes += str(row)"
   ]
  },
  {
   "cell_type": "code",
   "execution_count": 7,
   "metadata": {},
   "outputs": [],
   "source": [
    "str_corpus_estudiantes = \"\"\n",
    "for row in (resumenes_estudiantes.corpus):\n",
    "    str_corpus_estudiantes += str(row)"
   ]
  },
  {
   "cell_type": "code",
   "execution_count": 8,
   "metadata": {},
   "outputs": [],
   "source": [
    "corpus_completo = str_corpus_docentes + str_corpus_estudiantes"
   ]
  },
  {
   "cell_type": "code",
   "execution_count": 9,
   "metadata": {},
   "outputs": [
    {
     "data": {
      "text/plain": [
       "1159605"
      ]
     },
     "execution_count": 9,
     "metadata": {},
     "output_type": "execute_result"
    }
   ],
   "source": [
    "len(corpus_completo)"
   ]
  },
  {
   "cell_type": "code",
   "execution_count": 12,
   "metadata": {
    "scrolled": true
   },
   "outputs": [
    {
     "data": {
      "text/plain": [
       "'AISLAMIENTO, CARACTERIZACION, ESTABILIDAD Y ACTIVIDAD ANTIOXIDANTE IN - VITRO DE LOS PIGMENTOS TIPO BETALAINAS DEL FRUTO DE Opuntia dillenii. El color es una de las cualidades sensoriales más importantes y nos influye a la hora de aceptar o rechazar algunos alimentos. Aunque el hecho de añadir color pueda parecer meramente cosmético, no hay duda de que el color es importante en la percepción que el consumidor tiene de los alimentos, y frecuentemente se asocia a un sabor específico y a la intensidad de dicho sabor. Sin embargo uno de los problemas de la seguridad alimentaria es la creciente preocupación por la toxicidad (intolerancia y alergias, trastornos de conducta) que presenta el uso de algunos colorantes sintéticos que son usados en la industria de alimentos; lo que ha conllevado a la búsqueda de nuevas fuentes de colorantes sin efectos sobre la salud humana. En este proyecto de investigación se seleccionará el fruto del cactus de género opuntia debido a que recientes investigaciones realizadas en otros países muestran como una fuente promisoria de pigmentos naturales con ventajas claras sobre otros colorantes naturales como ejemplo, su tonalidad de color sin cambio en un intervalo amplio de pH de 3 a 7, por su alto poder tintórial (dos veces más que los colorantes artificiales), siendo estos pigmentos atractivos tecnológicamente como colorantes de alimentos. Además de sus características como colorante ya mencionadas también tiene propiedades medicinales y terapéuticas: anticancerigena (atribuidas a la alta cantidad de pigmentos y antioxidantes que posee), control del colesterol y reducción de lípidos en la sangre y triglicéridos. La actividad antioxidante es una característica de gran importancia ya que estos compuestos naturales son elementos esenciales que protegen de la oxidación a las macromoléculas biológicas en el cuerpo humano. Además, la protección antioxidante en el organismo es clave para el control de enfermedades crónicas, lo que tiene gran relevancia en medicina preventiva. Adicional a lo anterior el fruto del cactus (opuntia dillenni) tiene un atractivo color rojo-violeta, especie que no ha sido estudiada y por lo tanto se desconoce cuales son sus pigmentos mayoritarios y su comportamiento antioxidante en referencia a otras especies. Por el desconocimiento de dichas cualidades el fruto no es aprovechado en forma integral y actualmente no tiene ninguna aplicación industrial. El problema que se plantea es por lo tanto no solo conocer el potencial de este fruto como colorante para alimentos, sino también conocer su actividad biológica (actividad antioxidante in vitro) e identificar químicamente las características de este tipo de pigmentos. Con el fin de buscar una solución al problema planteado se requiere ante todo implementar una metodología adecuada que permia aislar los compuestos de interés (colorantes), para esto normalmente se usa la cromatografía en columna utilizando como fase estacionaria Sephadex o Amberlita X-AD7. La caracterización de los pigmentos se usarán técnicas como HPLC-MS y RMN. De otro lado para valorar su capacidad reductora de radicales libres (capacidad antioxidante) se implementarán técnicas ya validadas en la literatura científica, es el caso de la metodologia TEAC (capacidad antioxidante equivalente a Trolox) y DPPH (2, 2-diphenyl-1-picrylhydrazil). Finalmente es necesario valorar la estabilidad de los extractos aislados frente a factores como pH y luz, para ello se plantea un diseño experimental que involucre estas variables.   Química Química Ciencias Exactas y Naturales GRUPO DE INVESTIGACIÓN EN PRODUCTOS DE IMPORTANCIA BIOLÓGICA (GIPIB) Productos naturales'"
      ]
     },
     "execution_count": 12,
     "metadata": {},
     "output_type": "execute_result"
    }
   ],
   "source": [
    "resumenes_estudiantes.corpus[1]"
   ]
  },
  {
   "cell_type": "code",
   "execution_count": 16,
   "metadata": {},
   "outputs": [],
   "source": [
    "text_file = open(\"../../../Data/mydata/corpus_completo.txt\", \"w\")\n",
    "text_to_write = text_file.write(corpus_completo)\n",
    "text_file.close()"
   ]
  }
 ],
 "metadata": {
  "kernelspec": {
   "display_name": "Python 3",
   "language": "python",
   "name": "python3"
  },
  "language_info": {
   "codemirror_mode": {
    "name": "ipython",
    "version": 3
   },
   "file_extension": ".py",
   "mimetype": "text/x-python",
   "name": "python",
   "nbconvert_exporter": "python",
   "pygments_lexer": "ipython3",
   "version": "3.8.3"
  }
 },
 "nbformat": 4,
 "nbformat_minor": 4
}
