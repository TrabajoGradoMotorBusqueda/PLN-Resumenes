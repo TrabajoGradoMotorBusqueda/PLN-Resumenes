{
 "cells": [
  {
   "cell_type": "markdown",
   "metadata": {},
   "source": [
    "## Importe de bibliotecas"
   ]
  },
  {
   "cell_type": "code",
   "execution_count": 1,
   "metadata": {},
   "outputs": [],
   "source": [
    "import multiprocessing\n",
    "\n",
    "from gensim.models import Word2Vec\n",
    "\n",
    "import pandas as pd\n",
    "\n",
    "from gensim import utils\n",
    "from gensim.test.utils import datapath\n",
    "\n",
    "from time import time"
   ]
  },
  {
   "cell_type": "markdown",
   "metadata": {},
   "source": [
    "## Carga de datos"
   ]
  },
  {
   "cell_type": "code",
   "execution_count": 2,
   "metadata": {},
   "outputs": [],
   "source": [
    "list_lemas = open(\"../../../Data/mydata/lemas_completos.txt\").read().split()"
   ]
  },
  {
   "cell_type": "markdown",
   "metadata": {},
   "source": [
    "## Verificacion datos"
   ]
  },
  {
   "cell_type": "code",
   "execution_count": 3,
   "metadata": {},
   "outputs": [
    {
     "data": {
      "text/plain": [
       "['diagnostico',\n",
       " 'impacto',\n",
       " 'iniciativas',\n",
       " 'emprendedoras',\n",
       " 'egresados',\n",
       " 'programa',\n",
       " 'diseno',\n",
       " 'industrial',\n",
       " 'universidad',\n",
       " 'narino',\n",
       " 'emprendimiento',\n",
       " 'acepciones',\n",
       " 'capacidad',\n",
       " 'humana',\n",
       " 'basica',\n",
       " 'dar',\n",
       " 'soluciones',\n",
       " 'afrontar',\n",
       " 'situaciones',\n",
       " 'manera',\n",
       " 'ma',\n",
       " 'conveniente',\n",
       " 'buscando',\n",
       " 'beneficio',\n",
       " 'individual',\n",
       " 'colectivo',\n",
       " 'propositos',\n",
       " 'alcances',\n",
       " 'beneficios',\n",
       " 'crecimiento',\n",
       " 'desarrollo',\n",
       " 'solamente',\n",
       " 'impactos',\n",
       " 'nivel',\n",
       " 'local',\n",
       " 'sino',\n",
       " 'tambien',\n",
       " 'sociedad',\n",
       " 'general',\n",
       " 'asociado',\n",
       " 'emprendimiento',\n",
       " 'emprendedor',\n",
       " 'catalogan',\n",
       " 'individuo',\n",
       " 'dispuesto',\n",
       " 'cambio',\n",
       " 'innovador',\n",
       " 'flexible',\n",
       " 'dinamico',\n",
       " 'capaz',\n",
       " 'asumir',\n",
       " 'riesgos',\n",
       " 'enfrentado',\n",
       " 'incertidumbre',\n",
       " 'creativo',\n",
       " 'dispuesto',\n",
       " 'trabajo',\n",
       " 'equipo',\n",
       " 'orientado',\n",
       " 'crecimiento',\n",
       " 'ejercer',\n",
       " 'emprendimiento',\n",
       " 'ser',\n",
       " 'emprendedor',\n",
       " 'implica',\n",
       " 'tambien',\n",
       " 'participar',\n",
       " 'ecosistema',\n",
       " 'emprendedor',\n",
       " 'conjunto',\n",
       " 'relaciones',\n",
       " 'complejas',\n",
       " 'entidades',\n",
       " 'persona',\n",
       " 'emprendedoras',\n",
       " 'entornos',\n",
       " 'tecnologicos',\n",
       " 'academicos',\n",
       " 'sociales',\n",
       " 'politico',\n",
       " 'economicos',\n",
       " 'estimulantes',\n",
       " 'desarrollo',\n",
       " 'iniciativas',\n",
       " 'emprendedoras',\n",
       " 'dinamica',\n",
       " 'complejidad',\n",
       " 'hecho',\n",
       " 'latente',\n",
       " 'necesidad',\n",
       " 'estructurar',\n",
       " 'fomentar',\n",
       " 'promover',\n",
       " 'emprendimiento',\n",
       " 'actores',\n",
       " 'sociedad',\n",
       " 'caso',\n",
       " 'colombiano',\n",
       " 'ley',\n",
       " 'fomento',\n",
       " 'cultura',\n",
       " 'emprendimiento',\n",
       " 'promovida',\n",
       " 'ministerio',\n",
       " 'comercio',\n",
       " 'industria',\n",
       " 'turismo',\n",
       " 'describe',\n",
       " 'papel',\n",
       " 'fomento',\n",
       " 'emprendimiento',\n",
       " 'promocion',\n",
       " 'alianzas',\n",
       " 'publica',\n",
       " 'privadas',\n",
       " 'academicas',\n",
       " 'facilitar',\n",
       " 'condiciones',\n",
       " 'emprendimiento',\n",
       " 'desarrollar',\n",
       " 'nivel',\n",
       " 'local',\n",
       " 'capacidades',\n",
       " 'emprendedoras',\n",
       " 'plantea',\n",
       " 'objetivos',\n",
       " 'estrategicos',\n",
       " 'establece',\n",
       " 'principios',\n",
       " 'ley',\n",
       " 'modo',\n",
       " 'general',\n",
       " 'formacion',\n",
       " 'integral',\n",
       " 'actores',\n",
       " 'sistema',\n",
       " 'emprendimiento',\n",
       " 'particular',\n",
       " 'emprendedor',\n",
       " 'fortalecimiento',\n",
       " 'procesos',\n",
       " 'trabajo',\n",
       " 'asociativo',\n",
       " 'reconocimiento',\n",
       " 'conciencia',\n",
       " 'derecho',\n",
       " 'responsabilidad',\n",
       " 'desarrollo',\n",
       " 'persona',\n",
       " 'individuos',\n",
       " 'integrantes',\n",
       " 'sociedad',\n",
       " 'apoyo',\n",
       " 'procesos',\n",
       " 'emprendimiento',\n",
       " 'sostenibles',\n",
       " 'contexto',\n",
       " 'actores',\n",
       " 'primordiales',\n",
       " 'proceso',\n",
       " 'emprendedor',\n",
       " 'universidad',\n",
       " 'instituciones',\n",
       " 'formadores',\n",
       " 'profesionales',\n",
       " 'proyecto',\n",
       " 'indaga',\n",
       " 'impactos',\n",
       " 'iniciativas',\n",
       " 'emprendedoras',\n",
       " 'generadas',\n",
       " 'egresados',\n",
       " 'programa',\n",
       " 'diseno',\n",
       " 'industrial',\n",
       " 'universidad',\n",
       " 'narino',\n",
       " 'marco',\n",
       " 'modalidad',\n",
       " 'trabajo',\n",
       " 'grado',\n",
       " 'creacion',\n",
       " 'empresas',\n",
       " 'pretende',\n",
       " 'indagar',\n",
       " 'fenomeno',\n",
       " 'emprendimiento',\n",
       " 'contexto',\n",
       " 'academico',\n",
       " 'identificar',\n",
       " 'formas',\n",
       " 'modalidades',\n",
       " 'manifiesta',\n",
       " 'emprendimiento',\n",
       " 'egresados',\n",
       " 'condiciones',\n",
       " 'actuales',\n",
       " 'programa',\n",
       " 'descubrir',\n",
       " 'desarrollos',\n",
       " 'cambios',\n",
       " 'evoluciones',\n",
       " 'iniciativas',\n",
       " 'emprendedoras',\n",
       " 'genesis',\n",
       " 'consolidacion',\n",
       " 'caso',\n",
       " 'ma',\n",
       " 'extremo',\n",
       " 'extincion',\n",
       " 'tipificar',\n",
       " 'casos',\n",
       " 'grupos',\n",
       " 'crear',\n",
       " 'perfiles',\n",
       " 'actores',\n",
       " 'proceso',\n",
       " 'emprendedor',\n",
       " 'investigacion',\n",
       " 'vital',\n",
       " 'importancia',\n",
       " 'programa',\n",
       " 'diseno',\n",
       " 'industrial',\n",
       " 'permitira',\n",
       " 'establecer',\n",
       " 'mejores',\n",
       " 'relaciones',\n",
       " 'egresados',\n",
       " 'escuchar',\n",
       " 'aportes',\n",
       " 'experiencias',\n",
       " 'identificar',\n",
       " 'necesidades',\n",
       " 'intereses',\n",
       " 'expectativas',\n",
       " 'lado',\n",
       " 'propuesta',\n",
       " 'pretende',\n",
       " 'aporta',\n",
       " 'mejoramiento',\n",
       " 'continuo',\n",
       " 'curriculo',\n",
       " 'plan',\n",
       " 'estudios',\n",
       " 'programa',\n",
       " 'diseno',\n",
       " 'industrial',\n",
       " 'contribuir',\n",
       " 'desarrollo',\n",
       " 'humano',\n",
       " 'profesional',\n",
       " 'laboral',\n",
       " 'profesionales',\n",
       " 'egresados',\n",
       " 'diagnostico',\n",
       " 'diseno',\n",
       " 'artes',\n",
       " 'curriculo',\n",
       " 'universidad',\n",
       " 'curriculos',\n",
       " 'pertinentesacoso',\n",
       " 'escolar',\n",
       " 'bullying',\n",
       " 'san',\n",
       " 'juan',\n",
       " 'pasto',\n",
       " 'modelo',\n",
       " 'explicativo',\n",
       " 'predictivo',\n",
       " 'gestion',\n",
       " 'social',\n",
       " 'emocional',\n",
       " 'adolescentes',\n",
       " 'nivel',\n",
       " 'mundial',\n",
       " 'cada',\n",
       " 'tres',\n",
       " 'escolares',\n",
       " 'implicado',\n",
       " 'bullying',\n",
       " 'representa',\n",
       " 'panorama',\n",
       " 'preocupante',\n",
       " 'riesgo',\n",
       " 'salud',\n",
       " 'mental',\n",
       " 'salud',\n",
       " 'publica',\n",
       " 'generaciones',\n",
       " 'futuras',\n",
       " 'caso',\n",
       " 'colombia',\n",
       " 'investigacion',\n",
       " 'fenomeno',\n",
       " 'venido',\n",
       " 'incrementando',\n",
       " 'largo',\n",
       " 'ultima',\n",
       " 'do',\n",
       " 'decadas',\n",
       " 'desarrollandose',\n",
       " 'especialmente',\n",
       " 'ciudades',\n",
       " 'capitales',\n",
       " 'ma',\n",
       " 'grandes',\n",
       " 'importantes',\n",
       " 'pais',\n",
       " 'embargo',\n",
       " 'ser',\n",
       " 'aun',\n",
       " 'concluyentes',\n",
       " 'sugerido',\n",
       " 'valores',\n",
       " 'prevalencia',\n",
       " 'podrian',\n",
       " 'encima',\n",
       " 'valor',\n",
       " 'referencia',\n",
       " 'nivel',\n",
       " 'mundial',\n",
       " 'caso',\n",
       " 'pasto',\n",
       " 'reconoce',\n",
       " 'ausencia',\n",
       " 'estudios',\n",
       " 'den',\n",
       " 'cuenta',\n",
       " 'actual',\n",
       " 'fenomeno',\n",
       " 'caracteristicas',\n",
       " 'generales',\n",
       " 'parte',\n",
       " 'recientes',\n",
       " 'estudios',\n",
       " 'reconocido',\n",
       " 'dimensiones',\n",
       " 'pertenecientes',\n",
       " 'ambito',\n",
       " 'relaciones',\n",
       " 'interpersonales',\n",
       " 'competencia',\n",
       " 'social',\n",
       " 'incluyen',\n",
       " 'ajuste',\n",
       " 'normativo',\n",
       " 'ajuste',\n",
       " 'social',\n",
       " 'autoeficacia',\n",
       " 'social',\n",
       " 'importantes',\n",
       " 'factores',\n",
       " 'proteccion',\n",
       " 'riesgo',\n",
       " 'victimizacion',\n",
       " 'agresion',\n",
       " 'deben',\n",
       " 'ser',\n",
       " 'estudiadas',\n",
       " 'conjunto',\n",
       " 'igualmente',\n",
       " 'relevantes',\n",
       " 'metas',\n",
       " 'sociales',\n",
       " 'empatia',\n",
       " 'determinar',\n",
       " 'influencia',\n",
       " 'beneficio',\n",
       " 'programas',\n",
       " 'estrategias',\n",
       " 'intervencion',\n",
       " 'prevencion',\n",
       " 'bullying',\n",
       " 'region',\n",
       " 'sur',\n",
       " 'colombiana',\n",
       " 'estudio',\n",
       " 'objetivo',\n",
       " 'general',\n",
       " 'establecer',\n",
       " 'modelo',\n",
       " 'explicativo',\n",
       " 'predictivo',\n",
       " 'partir',\n",
       " 'implicacion',\n",
       " 'competencia',\n",
       " 'social',\n",
       " 'metas',\n",
       " 'sociales',\n",
       " 'empatia',\n",
       " 'acoso',\n",
       " 'escolar',\n",
       " 'bullying',\n",
       " 'adolescentes',\n",
       " 'escolarizados',\n",
       " 'san',\n",
       " 'juan',\n",
       " 'pasto',\n",
       " 'colombia',\n",
       " 'ello',\n",
       " 'proyecta',\n",
       " 'objetivos',\n",
       " 'especificos',\n",
       " 'primera',\n",
       " 'fase',\n",
       " 'descriptiva',\n",
       " 'determinar',\n",
       " 'prevalencia',\n",
       " 'bullying',\n",
       " 'adolescentes',\n",
       " 'escolarizados',\n",
       " 'ciudad',\n",
       " 'san',\n",
       " 'juan',\n",
       " 'pasto',\n",
       " 'colombia',\n",
       " 'b',\n",
       " 'caracterizar',\n",
       " 'conducta',\n",
       " 'bullying',\n",
       " 'adolescentes',\n",
       " 'escolarizados',\n",
       " 'ciudad',\n",
       " 'pasto',\n",
       " 'asi',\n",
       " 'mismo',\n",
       " 'segunda',\n",
       " 'fase',\n",
       " 'empiricaanalitica',\n",
       " 'expostfacto',\n",
       " 'plantea',\n",
       " 'c',\n",
       " 'analizar',\n",
       " 'influencia',\n",
       " 'relaciones',\n",
       " 'competencia',\n",
       " 'social',\n",
       " 'metas',\n",
       " 'sociales',\n",
       " 'empatia',\n",
       " 'bullying',\n",
       " 'adolescentes',\n",
       " 'escolarizados',\n",
       " 'ciudad',\n",
       " 'pasto',\n",
       " 'previamente',\n",
       " 'comprobara',\n",
       " 'propiedades',\n",
       " 'psicometricas',\n",
       " 'escala',\n",
       " 'empatia',\n",
       " 'be',\n",
       " 'jolliffe',\n",
       " 'farrington',\n",
       " 'muestra',\n",
       " 'serum',\n",
       " 'representativa',\n",
       " 'municipio',\n",
       " 'pasto',\n",
       " 'acuerdo',\n",
       " 'calculado',\n",
       " 'estara',\n",
       " 'conformada',\n",
       " 'aproximadamente',\n",
       " 'adolescentes',\n",
       " 'escolarizados',\n",
       " 'secundaria',\n",
       " 'educacion',\n",
       " 'medium',\n",
       " 'realizaran',\n",
       " 'analisis',\n",
       " 'factoriales',\n",
       " 'confirmatorios',\n",
       " 'cfa',\n",
       " 'modelos',\n",
       " 'ecuaciones',\n",
       " 'estructurales',\n",
       " 'sem',\n",
       " 'teoria',\n",
       " 'respuesta',\n",
       " 'item',\n",
       " 'tri',\n",
       " 'demas',\n",
       " 'descriptivos',\n",
       " 'correlacionales',\n",
       " 'partir',\n",
       " 'resultados',\n",
       " 'espera',\n",
       " 'configurar',\n",
       " 'modelo',\n",
       " 'explicativopredictivo',\n",
       " 'implicacion',\n",
       " 'role',\n",
       " 'agresion',\n",
       " 'victimizacion',\n",
       " 'partir',\n",
       " 'analisis',\n",
       " 'influencia',\n",
       " 'variable',\n",
       " 'competencia',\n",
       " 'social',\n",
       " 'metas',\n",
       " 'sociales',\n",
       " 'empatia',\n",
       " 'igual',\n",
       " 'manera',\n",
       " 'espera',\n",
       " 'lograr',\n",
       " 'validacion',\n",
       " 'escala',\n",
       " 'be',\n",
       " 'basic',\n",
       " 'empathy',\n",
       " 'scale',\n",
       " 'ma',\n",
       " 'usadas',\n",
       " 'mundo',\n",
       " 'poblacion',\n",
       " 'colombiana',\n",
       " 'resultados',\n",
       " 'ademas',\n",
       " 'ofrecer',\n",
       " 'prevalencia',\n",
       " 'fenomeno',\n",
       " 'region',\n",
       " 'asi',\n",
       " 'caracterizacion',\n",
       " 'descripcion',\n",
       " 'permitiran',\n",
       " 'obtener',\n",
       " 'necesarios',\n",
       " 'novedosos',\n",
       " 'modelos',\n",
       " 'teoricos',\n",
       " 'explicativospredictivos',\n",
       " 'partir',\n",
       " 'analisis',\n",
       " 'influencia',\n",
       " 'variable',\n",
       " 'estudiadas',\n",
       " 'beneficio',\n",
       " 'mejor',\n",
       " 'comprension',\n",
       " 'fenomeno',\n",
       " 'configuracion',\n",
       " 'programas',\n",
       " 'estrategias',\n",
       " 'prevencion',\n",
       " 'mitigacion',\n",
       " 'intervencion',\n",
       " 'bullying',\n",
       " 'pasto',\n",
       " 'asi',\n",
       " 'mismo',\n",
       " 'ofrecera',\n",
       " 'valiosas',\n",
       " 'evidencias',\n",
       " 'reflexion',\n",
       " 'mejoramiento',\n",
       " 'politicas',\n",
       " 'publicas',\n",
       " 'regionales',\n",
       " 'referidas',\n",
       " 'fenomeno',\n",
       " 'acoso',\n",
       " 'escolar',\n",
       " 'psicologia',\n",
       " 'ciencias',\n",
       " 'humanas',\n",
       " 'psicologia',\n",
       " 'salud',\n",
       " 'aspectos',\n",
       " 'psicosociales',\n",
       " 'procesos',\n",
       " 'saludactividad',\n",
       " 'antibacterial',\n",
       " 'polifenoles',\n",
       " 'aguacate',\n",
       " 'persea',\n",
       " 'americana',\n",
       " 'var',\n",
       " 'ha',\n",
       " 'helicobacter',\n",
       " 'pylorus',\n",
       " 'aislado',\n",
       " 'pacientes',\n",
       " 'zona',\n",
       " 'alto',\n",
       " 'riesgo',\n",
       " 'cancer',\n",
       " 'gastrico',\n",
       " 'departamento',\n",
       " 'narino',\n",
       " 'cancer',\n",
       " 'gastrico',\n",
       " 'cg',\n",
       " 'principal',\n",
       " 'causa',\n",
       " 'muerte',\n",
       " 'cancer',\n",
       " 'colombia',\n",
       " 'particularmente',\n",
       " 'region',\n",
       " 'andina',\n",
       " 'narino',\n",
       " 'incidencia',\n",
       " 'cg',\n",
       " 'ma',\n",
       " 'altas',\n",
       " 'mundo',\n",
       " 'infeccion',\n",
       " 'helicobacter',\n",
       " 'pylorus',\n",
       " 'principal',\n",
       " 'factor',\n",
       " 'riesgo',\n",
       " 'enfermedad',\n",
       " 'aunque',\n",
       " 'factores',\n",
       " 'dieta',\n",
       " 'polimorfismos',\n",
       " 'humanos',\n",
       " 'condiciones',\n",
       " 'socio',\n",
       " 'culturales',\n",
       " 'higienico',\n",
       " 'sanitarias',\n",
       " 'ejercen',\n",
       " 'fuerzas',\n",
       " 'multifactoriales',\n",
       " 'incidencia',\n",
       " 'mortalidad',\n",
       " 'enfermedad',\n",
       " 'respuesta',\n",
       " 'problema',\n",
       " 'infeccion',\n",
       " 'h',\n",
       " 'pylorus',\n",
       " 'papel',\n",
       " 'preponderante',\n",
       " 'desenlace',\n",
       " 'proceso',\n",
       " 'precanceroso',\n",
       " 'incentiva',\n",
       " 'busqueda',\n",
       " 'biomoleculas',\n",
       " 'activas',\n",
       " 'partir',\n",
       " 'productos',\n",
       " 'vegetales',\n",
       " 'evaluacion',\n",
       " 'accion',\n",
       " 'biologica',\n",
       " 'extractos',\n",
       " 'origen',\n",
       " 'natural',\n",
       " 'establece',\n",
       " 'alternativa',\n",
       " 'interesante',\n",
       " 'controlar',\n",
       " 'dar',\n",
       " 'solucion',\n",
       " 'actuales',\n",
       " 'problematicas',\n",
       " 'acarrea',\n",
       " 'uso',\n",
       " 'medicamentos',\n",
       " 'sinteticos',\n",
       " 'tratamiento',\n",
       " 'infeccion',\n",
       " 'h',\n",
       " 'pylorus',\n",
       " 'polifenoles',\n",
       " 'aguacate',\n",
       " 'p',\n",
       " 'americana',\n",
       " 'podrian',\n",
       " 'ser',\n",
       " 'alternativa',\n",
       " 'tratamiento',\n",
       " 'erradicacion',\n",
       " 'infeccion',\n",
       " 'debido',\n",
       " 'propiedades',\n",
       " 'antioxidantes',\n",
       " 'antiinflamatorias',\n",
       " 'mucoprotectoras',\n",
       " 'inhibitorias',\n",
       " 'crecimiento',\n",
       " 'microorganismo',\n",
       " 'necesario',\n",
       " 'aislar',\n",
       " 'h',\n",
       " 'pylorus',\n",
       " 'mucosa',\n",
       " 'gastrica',\n",
       " 'paso',\n",
       " 'inicial',\n",
       " 'evaluar',\n",
       " 'respuesta',\n",
       " 'frente',\n",
       " 'compuestos',\n",
       " 'origen',\n",
       " 'vegetal',\n",
       " 'disponibles',\n",
       " 'region',\n",
       " 'narino',\n",
       " 'aguacate',\n",
       " 'inicio',\n",
       " 'linea',\n",
       " 'estudios',\n",
       " 'posteriores',\n",
       " 'permitan',\n",
       " 'generar',\n",
       " 'conocimiento',\n",
       " 'base',\n",
       " 'propiedades',\n",
       " 'biomoleculas',\n",
       " 'implementacion',\n",
       " 'futuro',\n",
       " 'prevenir',\n",
       " 'patogenesis',\n",
       " 'cancer',\n",
       " 'gastrico',\n",
       " 'disminuir',\n",
       " 'riesgo',\n",
       " 'padecimiento',\n",
       " 'municipio',\n",
       " 'pasto',\n",
       " 'alto',\n",
       " 'riesgo',\n",
       " 'cg',\n",
       " 'cancer',\n",
       " 'gastrico',\n",
       " 'quimica',\n",
       " 'ciencias',\n",
       " 'exacta',\n",
       " 'naturales',\n",
       " 'grupo',\n",
       " 'investigacion',\n",
       " 'productos',\n",
       " 'importancia',\n",
       " 'biologica',\n",
       " 'gipib',\n",
       " 'modelado',\n",
       " 'molecularactividad',\n",
       " 'antibacterial',\n",
       " 'citotoxica',\n",
       " 'in',\n",
       " 'vitro',\n",
       " 'aceites',\n",
       " 'vegetales',\n",
       " 'semillas',\n",
       " 'frutas',\n",
       " 'tropicales',\n",
       " 'andinas',\n",
       " 'departamento',\n",
       " 'narino',\n",
       " 'gracias',\n",
       " 'posicion',\n",
       " 'geografica',\n",
       " 'presenta',\n",
       " 'diversidad',\n",
       " 'pisos',\n",
       " 'termicos',\n",
       " 'climas',\n",
       " 'permite',\n",
       " 'producir',\n",
       " 'gran',\n",
       " 'variedad',\n",
       " 'cultivos',\n",
       " 'frutas',\n",
       " 'cuales',\n",
       " 'utilizadas',\n",
       " 'elaboracion',\n",
       " 'jugos',\n",
       " 'mermeladas',\n",
       " 'dulces',\n",
       " 'almibares',\n",
       " 'jaleas',\n",
       " 'bocadillos',\n",
       " 'uso',\n",
       " 'genus',\n",
       " 'considerable',\n",
       " 'cantidad',\n",
       " 'residuos',\n",
       " 'cascara',\n",
       " 'semillas',\n",
       " 'cuales',\n",
       " 'normalmente',\n",
       " 'eliminadas',\n",
       " 'relleno',\n",
       " 'sanitario',\n",
       " 'pocas',\n",
       " 'ocasiones',\n",
       " 'utilizadas',\n",
       " 'abono',\n",
       " 'organico',\n",
       " 'grupo',\n",
       " 'tecnologias',\n",
       " 'emergentes',\n",
       " 'agroindustria',\n",
       " 'tea',\n",
       " 'universidad',\n",
       " 'narino',\n",
       " 'interesado',\n",
       " 'dar',\n",
       " 'valor',\n",
       " 'agregado',\n",
       " 'residuos',\n",
       " 'semillas',\n",
       " 'seis',\n",
       " 'frutas',\n",
       " 'cultivadas',\n",
       " 'narino',\n",
       " 'psidium',\n",
       " 'guajava',\n",
       " 'guayaba',\n",
       " 'solanun',\n",
       " 'quitoense',\n",
       " 'lulo',\n",
       " 'mangifera',\n",
       " 'indica',\n",
       " 'mango',\n",
       " 'passiflora',\n",
       " 'edulis',\n",
       " 'maracuya',\n",
       " 'carica',\n",
       " 'papaya',\n",
       " 'papaya',\n",
       " 'solanum',\n",
       " 'betaceum',\n",
       " 'tomate',\n",
       " 'arbol',\n",
       " 'extrajo',\n",
       " 'aceites',\n",
       " 'vegetales',\n",
       " 'av',\n",
       " 'semillas',\n",
       " 'identifico',\n",
       " 'composicion',\n",
       " 'acidos',\n",
       " 'grasos',\n",
       " 'saponificables',\n",
       " 'insaponificables',\n",
       " 'hurtado',\n",
       " 'dorado',\n",
       " 'hurtadobenavides',\n",
       " 'martinezcorrea',\n",
       " 'ceron',\n",
       " 'hurtado',\n",
       " 'ayala',\n",
       " 'ceron',\n",
       " 'hurtado',\n",
       " 'ayala',\n",
       " 'pantojachamorro',\n",
       " 'hurtado',\n",
       " 'benavides',\n",
       " 'martinezcorrea',\n",
       " 'pantojachamorro',\n",
       " 'hurtado',\n",
       " 'benavides',\n",
       " 'martinezcorrea',\n",
       " 'av',\n",
       " 'obtenidos',\n",
       " 'tecnologia',\n",
       " 'fluidos',\n",
       " 'supercriticos',\n",
       " 'co',\n",
       " 'efs',\n",
       " 'catalogandose',\n",
       " 'amigables',\n",
       " 'medio',\n",
       " 'ambiente',\n",
       " 'libres',\n",
       " 'residuos',\n",
       " 'organicos',\n",
       " 'ofreciendo',\n",
       " 'producto',\n",
       " 'posible',\n",
       " 'aplicacion',\n",
       " 'industria',\n",
       " 'farmaceutica',\n",
       " 'cosmetologica',\n",
       " 'industria',\n",
       " 'alimentaria',\n",
       " 'tratamiento',\n",
       " 'enfermedades',\n",
       " 'infecciosas',\n",
       " 'farmacos',\n",
       " 'base',\n",
       " 'plantas',\n",
       " 'incrementado',\n",
       " 'ultimos',\n",
       " 'ano',\n",
       " 'debido',\n",
       " 'costo',\n",
       " 'ocurrencia',\n",
       " 'efectos',\n",
       " 'colaterales',\n",
       " 'menores',\n",
       " 'comparacion',\n",
       " 'antibioticos',\n",
       " 'convencionales',\n",
       " 'ser',\n",
       " 'obtenidos',\n",
       " 'microorganismos',\n",
       " 'contienen',\n",
       " 'moleculas',\n",
       " 'alguna',\n",
       " 'manera',\n",
       " 'podrian',\n",
       " 'ser',\n",
       " 'facilmente',\n",
       " 'reconocidas',\n",
       " 'bacteria',\n",
       " 'probabilidad',\n",
       " 'disminuye',\n",
       " 'extractos',\n",
       " 'productos',\n",
       " 'obtenidos',\n",
       " 'plantas',\n",
       " 'shrestha',\n",
       " 'p',\n",
       " 'shivcharn',\n",
       " 's',\n",
       " 'gran',\n",
       " 'parte',\n",
       " 'bioprospeccion',\n",
       " 'centrado',\n",
       " 'busqueda',\n",
       " 'compuestos',\n",
       " 'actividad',\n",
       " 'biologica',\n",
       " 'utilizando',\n",
       " 'informacion',\n",
       " 'etnobotanica',\n",
       " 'seleccion',\n",
       " 'plantas',\n",
       " 'algun',\n",
       " 'uso',\n",
       " 'farmacologico',\n",
       " 'bermudez',\n",
       " 'expuesto',\n",
       " 'presenta',\n",
       " 'propuesta',\n",
       " 'aunaran',\n",
       " 'esfuerzos',\n",
       " 'intereses',\n",
       " 'conocimientos',\n",
       " 'integrantes',\n",
       " 'grupos',\n",
       " 'investigacion',\n",
       " 'universidad',\n",
       " 'narino',\n",
       " 'salud',\n",
       " 'publica',\n",
       " 'tecnologias',\n",
       " 'emergentes',\n",
       " 'agroindustria',\n",
       " 'objetivo',\n",
       " 'determinar',\n",
       " 'in',\n",
       " 'vitro',\n",
       " 'poder',\n",
       " 'antibacteriano',\n",
       " 'av',\n",
       " 'tres',\n",
       " 'bacteria',\n",
       " 'gram',\n",
       " 'negativas',\n",
       " 'escherichia',\n",
       " 'coli',\n",
       " 'pseudomonas',\n",
       " 'aeruginosa',\n",
       " 'klebsiella',\n",
       " 'pneumoniae',\n",
       " 'do',\n",
       " 'gram',\n",
       " 'positivas',\n",
       " 'staphylococcus',\n",
       " 'aureus',\n",
       " 'enterococcus',\n",
       " 'faecium',\n",
       " 'adicionalmente',\n",
       " 'cuenta',\n",
       " 'van',\n",
       " 'ser',\n",
       " 'utilizados',\n",
       " 'seres',\n",
       " 'humanos',\n",
       " 'valorara',\n",
       " 'actividad',\n",
       " 'citotoxica',\n",
       " 'eritrocitos',\n",
       " 'leucocitos',\n",
       " 'humanos',\n",
       " 'trabajo',\n",
       " 'investigacion',\n",
       " ...]"
      ]
     },
     "execution_count": 3,
     "metadata": {},
     "output_type": "execute_result"
    }
   ],
   "source": [
    "list_lemas"
   ]
  },
  {
   "cell_type": "code",
   "execution_count": 4,
   "metadata": {},
   "outputs": [
    {
     "data": {
      "text/plain": [
       "93950"
      ]
     },
     "execution_count": 4,
     "metadata": {},
     "output_type": "execute_result"
    }
   ],
   "source": [
    "len(list_lemas)"
   ]
  },
  {
   "cell_type": "markdown",
   "metadata": {},
   "source": [
    "## Bigramas"
   ]
  },
  {
   "cell_type": "code",
   "execution_count": null,
   "metadata": {},
   "outputs": [],
   "source": [
    "# from gensim.models.phrases import Phrases, Phraser"
   ]
  },
  {
   "cell_type": "code",
   "execution_count": null,
   "metadata": {
    "scrolled": true
   },
   "outputs": [],
   "source": [
    "# phrases = Phrases(lemas_corpus_docentes_spliteados, min_count=30, progress_per=10000)"
   ]
  },
  {
   "cell_type": "code",
   "execution_count": null,
   "metadata": {},
   "outputs": [],
   "source": [
    "# bigram = Phraser(phrases)"
   ]
  },
  {
   "cell_type": "code",
   "execution_count": null,
   "metadata": {},
   "outputs": [],
   "source": [
    "# sentences = bigram[lemas_corpus_docentes_spliteados]"
   ]
  },
  {
   "cell_type": "markdown",
   "metadata": {},
   "source": [
    "## Fase entrenamiento Word2vec"
   ]
  },
  {
   "cell_type": "code",
   "execution_count": 4,
   "metadata": {},
   "outputs": [],
   "source": [
    "def entrenamiento_parametros_1(lista_materia_prima,epocas):\n",
    "    \n",
    "    modelo = Word2Vec(min_count=1,\n",
    "                         window=2,\n",
    "                         size=10,\n",
    "    #                      sample=0, \n",
    "                         alpha=0.01, \n",
    "                         min_alpha=0.0, \n",
    "                         negative=100,\n",
    "                         workers=8,\n",
    "                         sg=1\n",
    "                      )\n",
    "\n",
    "    t = time()\n",
    "\n",
    "    vocabulario = modelo.build_vocab([lista_materia_prima], progress_per=10000)\n",
    "    print('Time to build vocab: {} mins'.format(round((time() - t) / 60, 2)))\n",
    "\n",
    "    t = time()\n",
    "    \n",
    "    entrenamiento = modelo.train([lista_materia_prima], total_examples=modelo.corpus_count, epochs=epocas, report_delay=1)\n",
    "    print('Time to train the model: {} mins'.format(round((time() - t) / 60, 2)))\n",
    "\n",
    "    return modelo"
   ]
  },
  {
   "cell_type": "markdown",
   "metadata": {},
   "source": [
    "## MODELO 1"
   ]
  },
  {
   "cell_type": "code",
   "execution_count": 6,
   "metadata": {},
   "outputs": [
    {
     "name": "stdout",
     "output_type": "stream",
     "text": [
      "Time to build vocab: 0.05 mins\n",
      "Time to train the model: 0.94 mins\n"
     ]
    }
   ],
   "source": [
    "modelo1 = entrenamiento_parametros_1(list_lemas,150)"
   ]
  },
  {
   "cell_type": "code",
   "execution_count": 9,
   "metadata": {},
   "outputs": [],
   "source": [
    "modelo1.save('modelo1.model')"
   ]
  },
  {
   "cell_type": "code",
   "execution_count": 10,
   "metadata": {},
   "outputs": [],
   "source": [
    "modelo1_cargado = Word2Vec.load('modelo1.model')"
   ]
  },
  {
   "cell_type": "markdown",
   "metadata": {},
   "source": [
    "## MODELO 2"
   ]
  },
  {
   "cell_type": "code",
   "execution_count": 12,
   "metadata": {
    "scrolled": false
   },
   "outputs": [
    {
     "name": "stdout",
     "output_type": "stream",
     "text": [
      "Time to build vocab: 0.05 mins\n",
      "Time to train the model: 1.11 mins\n"
     ]
    }
   ],
   "source": [
    "modelo2 = entrenamiento_parametros_1(list_lemas,200)"
   ]
  },
  {
   "cell_type": "code",
   "execution_count": 13,
   "metadata": {},
   "outputs": [],
   "source": [
    "modelo2.save('modelo2.model')"
   ]
  },
  {
   "cell_type": "code",
   "execution_count": 14,
   "metadata": {},
   "outputs": [],
   "source": [
    "modelo2_cargado = Word2Vec.load('modelo2.model')"
   ]
  },
  {
   "cell_type": "markdown",
   "metadata": {},
   "source": [
    "## MODELO 3"
   ]
  },
  {
   "cell_type": "code",
   "execution_count": 21,
   "metadata": {
    "scrolled": true
   },
   "outputs": [
    {
     "name": "stdout",
     "output_type": "stream",
     "text": [
      "Time to build vocab: 0.05 mins\n",
      "Time to train the model: 1.5 mins\n"
     ]
    }
   ],
   "source": [
    "modelo3 = entrenamiento_parametros_1(list_lemas,250)"
   ]
  },
  {
   "cell_type": "code",
   "execution_count": 22,
   "metadata": {},
   "outputs": [],
   "source": [
    "modelo3.save('modelo3.model')"
   ]
  },
  {
   "cell_type": "code",
   "execution_count": 23,
   "metadata": {},
   "outputs": [],
   "source": [
    "modelo3_cargado = Word2Vec.load('modelo3.model')"
   ]
  },
  {
   "cell_type": "markdown",
   "metadata": {},
   "source": [
    "## MODELO 4"
   ]
  },
  {
   "cell_type": "code",
   "execution_count": 39,
   "metadata": {
    "scrolled": true
   },
   "outputs": [
    {
     "name": "stdout",
     "output_type": "stream",
     "text": [
      "Time to build vocab: 0.05 mins\n",
      "Time to train the model: 1.7 mins\n"
     ]
    }
   ],
   "source": [
    "modelo4 = entrenamiento_parametros_1(list_lemas,300)"
   ]
  },
  {
   "cell_type": "code",
   "execution_count": 40,
   "metadata": {},
   "outputs": [],
   "source": [
    "modelo4.save('modelo4.model')"
   ]
  },
  {
   "cell_type": "code",
   "execution_count": 15,
   "metadata": {},
   "outputs": [],
   "source": [
    "modelo4_cargado = Word2Vec.load('../../../Models/my_models/modelos_notebook_entrenamiento_3/modelo4.model')"
   ]
  },
  {
   "cell_type": "markdown",
   "metadata": {},
   "source": [
    "## Exploración de modelo"
   ]
  },
  {
   "cell_type": "code",
   "execution_count": 16,
   "metadata": {
    "scrolled": true
   },
   "outputs": [
    {
     "data": {
      "text/plain": [
       "[('curriculo', 0.9644822478294373),\n",
       " ('colombiana', 0.9644532203674316),\n",
       " ('modo', 0.9569042921066284),\n",
       " ('narino', 0.9557758569717407),\n",
       " ('familiarizarlos', 0.9557143449783325),\n",
       " ('adscritos', 0.9538511037826538),\n",
       " ('docentes', 0.9490258693695068),\n",
       " ('interesado', 0.9484561681747437),\n",
       " ('variacional', 0.9417746663093567),\n",
       " ('lengua', 0.9356677532196045),\n",
       " ('general', 0.9337408542633057),\n",
       " ('facultad', 0.9326074719429016),\n",
       " ('implica', 0.931709885597229),\n",
       " ('senalan', 0.9297250509262085),\n",
       " ('instituciones', 0.929675817489624),\n",
       " ('jugado', 0.9287514686584473),\n",
       " ('resumen', 0.9238662123680115),\n",
       " ('ley', 0.9236546754837036),\n",
       " ('estudiante', 0.9226484298706055),\n",
       " ('participes', 0.9214977025985718)]"
      ]
     },
     "execution_count": 16,
     "metadata": {},
     "output_type": "execute_result"
    }
   ],
   "source": [
    "modelo4_cargado.wv.most_similar(positive=['universidad'], topn=20)"
   ]
  },
  {
   "cell_type": "code",
   "execution_count": 18,
   "metadata": {
    "scrolled": true
   },
   "outputs": [
    {
     "data": {
      "text/plain": [
       "[('computacional', 0.9831177592277527),\n",
       " ('herramientas', 0.9692230224609375),\n",
       " ('antioxidantes', 0.9565176963806152),\n",
       " ('permanente', 0.9461259841918945),\n",
       " ('motivos', 0.9442991614341736),\n",
       " ('antiinflamatorias', 0.9406591057777405),\n",
       " ('participativas', 0.9382085800170898),\n",
       " ('aumentada', 0.9372600317001343),\n",
       " ('usar', 0.9330557584762573),\n",
       " ('motivante', 0.9301856756210327),\n",
       " ('esparcidas', 0.9281688928604126),\n",
       " ('computacionales', 0.9279363751411438),\n",
       " ('sensoriales', 0.9269733428955078),\n",
       " ('discretizaciones', 0.9265273809432983),\n",
       " ('matices', 0.9256248474121094),\n",
       " ('ortiz', 0.9244009256362915),\n",
       " ('conlleven', 0.92369544506073),\n",
       " ('interdisciplinar', 0.922787606716156),\n",
       " ('mediciones', 0.9213958978652954),\n",
       " ('ventajas', 0.921379566192627)]"
      ]
     },
     "execution_count": 18,
     "metadata": {},
     "output_type": "execute_result"
    }
   ],
   "source": [
    "modelo4_cargado.wv.most_similar(positive=['inteligencia'], topn=20)"
   ]
  },
  {
   "cell_type": "code",
   "execution_count": 37,
   "metadata": {
    "scrolled": true
   },
   "outputs": [
    {
     "data": {
      "text/plain": [
       "[('departamento', 0.9816769957542419),\n",
       " ('docentes', 0.9509642720222473),\n",
       " ('colombiana', 0.9499539136886597),\n",
       " ('universidad', 0.9437353610992432),\n",
       " ('socioeconomicas', 0.9356064796447754),\n",
       " ('ley', 0.9350773096084595),\n",
       " ('variacional', 0.9326499104499817),\n",
       " ('adscritos', 0.9296883344650269),\n",
       " ('situada', 0.9295675158500671),\n",
       " ('estudios', 0.92933189868927)]"
      ]
     },
     "execution_count": 37,
     "metadata": {},
     "output_type": "execute_result"
    }
   ],
   "source": [
    "modelo2_cargado.wv.most_similar(positive=['narino'], topn=10)"
   ]
  },
  {
   "cell_type": "code",
   "execution_count": 38,
   "metadata": {
    "scrolled": false
   },
   "outputs": [
    {
     "data": {
      "text/plain": [
       "[('departamento', 0.9815517663955688),\n",
       " ('docentes', 0.9578927755355835),\n",
       " ('universidad', 0.9503735303878784),\n",
       " ('variacional', 0.9404077529907227),\n",
       " ('instituciones', 0.9391505718231201),\n",
       " ('colombiana', 0.9358203411102295),\n",
       " ('investigaciones', 0.9340552091598511),\n",
       " ('ley', 0.9275996685028076),\n",
       " ('tomado', 0.9274117946624756),\n",
       " ('disciplinas', 0.9267522096633911)]"
      ]
     },
     "execution_count": 38,
     "metadata": {},
     "output_type": "execute_result"
    }
   ],
   "source": [
    "modelo3_cargado.wv.most_similar(positive=['narino'], topn=10)"
   ]
  },
  {
   "cell_type": "code",
   "execution_count": 23,
   "metadata": {},
   "outputs": [
    {
     "data": {
      "text/plain": [
       "[('departamento', 0.9779163599014282),\n",
       " ('docentes', 0.9624075889587402),\n",
       " ('universidad', 0.9557758569717407),\n",
       " ('instituciones', 0.9362072944641113),\n",
       " ('investigaciones', 0.9358663558959961),\n",
       " ('variacional', 0.9335037469863892),\n",
       " ('disciplinas', 0.931105375289917),\n",
       " ('colombiana', 0.9275851249694824),\n",
       " ('tomado', 0.9210136532783508),\n",
       " ('curriculo', 0.9196557402610779),\n",
       " ('situada', 0.9194179773330688),\n",
       " ('adscritos', 0.9192039966583252),\n",
       " ('lengua', 0.9175825715065002),\n",
       " ('resumen', 0.9165436029434204),\n",
       " ('kilometros', 0.9159411191940308),\n",
       " ('cereza', 0.9156370162963867),\n",
       " ('ley', 0.9141188859939575),\n",
       " ('realizado', 0.9117975234985352),\n",
       " ('dispone', 0.9117189645767212),\n",
       " ('revisaron', 0.907142162322998),\n",
       " ('inicio', 0.9069175720214844),\n",
       " ('estudios', 0.9058206677436829),\n",
       " ('acepciones', 0.9033250212669373),\n",
       " ('region', 0.9028044939041138),\n",
       " ('inter', 0.9006475210189819),\n",
       " ('gracias', 0.9004563093185425),\n",
       " ('familiarizarlos', 0.9003716111183167),\n",
       " ('km', 0.8993996381759644),\n",
       " ('socioeconomicas', 0.8993613123893738),\n",
       " ('transcurso', 0.8989009857177734),\n",
       " ('ebi', 0.8952022790908813),\n",
       " ('jugado', 0.8937025666236877),\n",
       " ('genericas', 0.8936794400215149),\n",
       " ('modelo', 0.8919421434402466),\n",
       " ('segun', 0.8918576240539551),\n",
       " ('involucren', 0.890730082988739),\n",
       " ('ruralaporte', 0.8900333642959595),\n",
       " ('involucrar', 0.88936448097229),\n",
       " ('departamental', 0.8891863226890564),\n",
       " ('mocoa', 0.8882723450660706),\n",
       " ('formadores', 0.8877744674682617),\n",
       " ('alianza', 0.887290894985199),\n",
       " ('modo', 0.887270450592041),\n",
       " ('acuerdos', 0.887011706829071),\n",
       " ('puntero', 0.8866115212440491),\n",
       " ('botana', 0.8864489793777466),\n",
       " ('putumayo', 0.8863704800605774),\n",
       " ('culminar', 0.8863110542297363),\n",
       " ('disponibilidad', 0.886043906211853),\n",
       " ('torobajo', 0.8857752680778503)]"
      ]
     },
     "execution_count": 23,
     "metadata": {},
     "output_type": "execute_result"
    }
   ],
   "source": [
    "modelo4_cargado.wv.most_similar(positive=['narino'], topn=50)"
   ]
  },
  {
   "cell_type": "code",
   "execution_count": 57,
   "metadata": {
    "collapsed": true
   },
   "outputs": [
    {
     "data": {
      "text/plain": [
       "[('departamento', 0.9779163599014282),\n",
       " ('docentes', 0.9624075889587402),\n",
       " ('universidad', 0.9557758569717407),\n",
       " ('instituciones', 0.9362072944641113),\n",
       " ('investigaciones', 0.9358663558959961),\n",
       " ('variacional', 0.9335037469863892),\n",
       " ('disciplinas', 0.931105375289917),\n",
       " ('colombiana', 0.9275851249694824),\n",
       " ('tomado', 0.9210136532783508),\n",
       " ('curriculo', 0.9196557402610779),\n",
       " ('situada', 0.9194179773330688),\n",
       " ('adscritos', 0.9192039966583252),\n",
       " ('lengua', 0.9175825715065002),\n",
       " ('resumen', 0.9165436029434204),\n",
       " ('kilometros', 0.9159411191940308),\n",
       " ('cereza', 0.9156370162963867),\n",
       " ('ley', 0.9141188859939575),\n",
       " ('realizado', 0.9117975234985352),\n",
       " ('dispone', 0.9117189645767212),\n",
       " ('revisaron', 0.907142162322998),\n",
       " ('inicio', 0.9069175720214844),\n",
       " ('estudios', 0.9058206677436829),\n",
       " ('acepciones', 0.9033250212669373),\n",
       " ('region', 0.9028044939041138),\n",
       " ('inter', 0.9006475210189819),\n",
       " ('gracias', 0.9004563093185425),\n",
       " ('familiarizarlos', 0.9003716111183167),\n",
       " ('km', 0.8993996381759644),\n",
       " ('socioeconomicas', 0.8993613123893738),\n",
       " ('transcurso', 0.8989009857177734),\n",
       " ('ebi', 0.8952022790908813),\n",
       " ('jugado', 0.8937025666236877),\n",
       " ('genericas', 0.8936794400215149),\n",
       " ('modelo', 0.8919421434402466),\n",
       " ('segun', 0.8918576240539551),\n",
       " ('involucren', 0.890730082988739),\n",
       " ('ruralaporte', 0.8900333642959595),\n",
       " ('involucrar', 0.88936448097229),\n",
       " ('departamental', 0.8891863226890564),\n",
       " ('mocoa', 0.8882723450660706),\n",
       " ('formadores', 0.8877744674682617),\n",
       " ('alianza', 0.887290894985199),\n",
       " ('modo', 0.887270450592041),\n",
       " ('acuerdos', 0.887011706829071),\n",
       " ('puntero', 0.8866115212440491),\n",
       " ('botana', 0.8864489793777466),\n",
       " ('putumayo', 0.8863704800605774),\n",
       " ('culminar', 0.8863110542297363),\n",
       " ('disponibilidad', 0.886043906211853),\n",
       " ('torobajo', 0.8857752680778503)]"
      ]
     },
     "execution_count": 57,
     "metadata": {},
     "output_type": "execute_result"
    }
   ],
   "source": [
    "modelo4_cargado.wv.similar_by_word('narino', topn=50)"
   ]
  },
  {
   "cell_type": "code",
   "execution_count": 36,
   "metadata": {},
   "outputs": [
    {
     "ename": "KeyError",
     "evalue": "\"word 'cw' not in vocabulary\"",
     "output_type": "error",
     "traceback": [
      "\u001b[0;31m---------------------------------------------------------------------------\u001b[0m",
      "\u001b[0;31mKeyError\u001b[0m                                  Traceback (most recent call last)",
      "\u001b[0;32m<ipython-input-36-29cd352fb75f>\u001b[0m in \u001b[0;36m<module>\u001b[0;34m\u001b[0m\n\u001b[0;32m----> 1\u001b[0;31m \u001b[0mmodelo4_cargado\u001b[0m\u001b[0;34m.\u001b[0m\u001b[0mwv\u001b[0m\u001b[0;34m.\u001b[0m\u001b[0msimilar_by_word\u001b[0m\u001b[0;34m(\u001b[0m\u001b[0;34m'cw'\u001b[0m\u001b[0;34m,\u001b[0m \u001b[0mtopn\u001b[0m\u001b[0;34m=\u001b[0m\u001b[0;36m50\u001b[0m\u001b[0;34m)\u001b[0m\u001b[0;34m\u001b[0m\u001b[0;34m\u001b[0m\u001b[0m\n\u001b[0m",
      "\u001b[0;32m~/anaconda3/envs/tg/lib/python3.8/site-packages/gensim/models/keyedvectors.py\u001b[0m in \u001b[0;36msimilar_by_word\u001b[0;34m(self, word, topn, restrict_vocab)\u001b[0m\n\u001b[1;32m    594\u001b[0m \u001b[0;34m\u001b[0m\u001b[0m\n\u001b[1;32m    595\u001b[0m         \"\"\"\n\u001b[0;32m--> 596\u001b[0;31m         \u001b[0;32mreturn\u001b[0m \u001b[0mself\u001b[0m\u001b[0;34m.\u001b[0m\u001b[0mmost_similar\u001b[0m\u001b[0;34m(\u001b[0m\u001b[0mpositive\u001b[0m\u001b[0;34m=\u001b[0m\u001b[0;34m[\u001b[0m\u001b[0mword\u001b[0m\u001b[0;34m]\u001b[0m\u001b[0;34m,\u001b[0m \u001b[0mtopn\u001b[0m\u001b[0;34m=\u001b[0m\u001b[0mtopn\u001b[0m\u001b[0;34m,\u001b[0m \u001b[0mrestrict_vocab\u001b[0m\u001b[0;34m=\u001b[0m\u001b[0mrestrict_vocab\u001b[0m\u001b[0;34m)\u001b[0m\u001b[0;34m\u001b[0m\u001b[0;34m\u001b[0m\u001b[0m\n\u001b[0m\u001b[1;32m    597\u001b[0m \u001b[0;34m\u001b[0m\u001b[0m\n\u001b[1;32m    598\u001b[0m     \u001b[0;32mdef\u001b[0m \u001b[0msimilar_by_vector\u001b[0m\u001b[0;34m(\u001b[0m\u001b[0mself\u001b[0m\u001b[0;34m,\u001b[0m \u001b[0mvector\u001b[0m\u001b[0;34m,\u001b[0m \u001b[0mtopn\u001b[0m\u001b[0;34m=\u001b[0m\u001b[0;36m10\u001b[0m\u001b[0;34m,\u001b[0m \u001b[0mrestrict_vocab\u001b[0m\u001b[0;34m=\u001b[0m\u001b[0;32mNone\u001b[0m\u001b[0;34m)\u001b[0m\u001b[0;34m:\u001b[0m\u001b[0;34m\u001b[0m\u001b[0;34m\u001b[0m\u001b[0m\n",
      "\u001b[0;32m~/anaconda3/envs/tg/lib/python3.8/site-packages/gensim/models/keyedvectors.py\u001b[0m in \u001b[0;36mmost_similar\u001b[0;34m(self, positive, negative, topn, restrict_vocab, indexer)\u001b[0m\n\u001b[1;32m    551\u001b[0m                 \u001b[0mmean\u001b[0m\u001b[0;34m.\u001b[0m\u001b[0mappend\u001b[0m\u001b[0;34m(\u001b[0m\u001b[0mweight\u001b[0m \u001b[0;34m*\u001b[0m \u001b[0mword\u001b[0m\u001b[0;34m)\u001b[0m\u001b[0;34m\u001b[0m\u001b[0;34m\u001b[0m\u001b[0m\n\u001b[1;32m    552\u001b[0m             \u001b[0;32melse\u001b[0m\u001b[0;34m:\u001b[0m\u001b[0;34m\u001b[0m\u001b[0;34m\u001b[0m\u001b[0m\n\u001b[0;32m--> 553\u001b[0;31m                 \u001b[0mmean\u001b[0m\u001b[0;34m.\u001b[0m\u001b[0mappend\u001b[0m\u001b[0;34m(\u001b[0m\u001b[0mweight\u001b[0m \u001b[0;34m*\u001b[0m \u001b[0mself\u001b[0m\u001b[0;34m.\u001b[0m\u001b[0mword_vec\u001b[0m\u001b[0;34m(\u001b[0m\u001b[0mword\u001b[0m\u001b[0;34m,\u001b[0m \u001b[0muse_norm\u001b[0m\u001b[0;34m=\u001b[0m\u001b[0;32mTrue\u001b[0m\u001b[0;34m)\u001b[0m\u001b[0;34m)\u001b[0m\u001b[0;34m\u001b[0m\u001b[0;34m\u001b[0m\u001b[0m\n\u001b[0m\u001b[1;32m    554\u001b[0m                 \u001b[0;32mif\u001b[0m \u001b[0mword\u001b[0m \u001b[0;32min\u001b[0m \u001b[0mself\u001b[0m\u001b[0;34m.\u001b[0m\u001b[0mvocab\u001b[0m\u001b[0;34m:\u001b[0m\u001b[0;34m\u001b[0m\u001b[0;34m\u001b[0m\u001b[0m\n\u001b[1;32m    555\u001b[0m                     \u001b[0mall_words\u001b[0m\u001b[0;34m.\u001b[0m\u001b[0madd\u001b[0m\u001b[0;34m(\u001b[0m\u001b[0mself\u001b[0m\u001b[0;34m.\u001b[0m\u001b[0mvocab\u001b[0m\u001b[0;34m[\u001b[0m\u001b[0mword\u001b[0m\u001b[0;34m]\u001b[0m\u001b[0;34m.\u001b[0m\u001b[0mindex\u001b[0m\u001b[0;34m)\u001b[0m\u001b[0;34m\u001b[0m\u001b[0;34m\u001b[0m\u001b[0m\n",
      "\u001b[0;32m~/anaconda3/envs/tg/lib/python3.8/site-packages/gensim/models/keyedvectors.py\u001b[0m in \u001b[0;36mword_vec\u001b[0;34m(self, word, use_norm)\u001b[0m\n\u001b[1;32m    466\u001b[0m             \u001b[0;32mreturn\u001b[0m \u001b[0mresult\u001b[0m\u001b[0;34m\u001b[0m\u001b[0;34m\u001b[0m\u001b[0m\n\u001b[1;32m    467\u001b[0m         \u001b[0;32melse\u001b[0m\u001b[0;34m:\u001b[0m\u001b[0;34m\u001b[0m\u001b[0;34m\u001b[0m\u001b[0m\n\u001b[0;32m--> 468\u001b[0;31m             \u001b[0;32mraise\u001b[0m \u001b[0mKeyError\u001b[0m\u001b[0;34m(\u001b[0m\u001b[0;34m\"word '%s' not in vocabulary\"\u001b[0m \u001b[0;34m%\u001b[0m \u001b[0mword\u001b[0m\u001b[0;34m)\u001b[0m\u001b[0;34m\u001b[0m\u001b[0;34m\u001b[0m\u001b[0m\n\u001b[0m\u001b[1;32m    469\u001b[0m \u001b[0;34m\u001b[0m\u001b[0m\n\u001b[1;32m    470\u001b[0m     \u001b[0;32mdef\u001b[0m \u001b[0mget_vector\u001b[0m\u001b[0;34m(\u001b[0m\u001b[0mself\u001b[0m\u001b[0;34m,\u001b[0m \u001b[0mword\u001b[0m\u001b[0;34m)\u001b[0m\u001b[0;34m:\u001b[0m\u001b[0;34m\u001b[0m\u001b[0;34m\u001b[0m\u001b[0m\n",
      "\u001b[0;31mKeyError\u001b[0m: \"word 'cw' not in vocabulary\""
     ]
    }
   ],
   "source": [
    "modelo4_cargado.wv.similar_by_word('software', topn=50)"
   ]
  },
  {
   "cell_type": "code",
   "execution_count": 34,
   "metadata": {},
   "outputs": [
    {
     "data": {
      "text/plain": [
       "[('proponer', 0.9606326818466187),\n",
       " ('sino', 0.9584302306175232),\n",
       " ('realizada', 0.9584100246429443),\n",
       " ('investigar', 0.9539248943328857),\n",
       " ('contexto', 0.9537368416786194),\n",
       " ('faciliten', 0.9486849308013916),\n",
       " ('aspecto', 0.9484339952468872),\n",
       " ('constituido', 0.9481306672096252),\n",
       " ('interes', 0.9464192986488342),\n",
       " ('proceso', 0.9448190927505493)]"
      ]
     },
     "execution_count": 34,
     "metadata": {},
     "output_type": "execute_result"
    }
   ],
   "source": [
    "modelo4_cargado.wv.most_similar(['metodologia','desarrollo','software'], topn=10)"
   ]
  },
  {
   "cell_type": "code",
   "execution_count": 27,
   "metadata": {},
   "outputs": [
    {
     "data": {
      "text/plain": [
       "[('industria', 0.9533564448356628),\n",
       " ('termodilucion', 0.9389338493347168),\n",
       " ('introduccion', 0.9368389844894409),\n",
       " ('evlwi', 0.9258934855461121),\n",
       " ('farmaceutica', 0.9241162538528442),\n",
       " ('danos', 0.9211159348487854),\n",
       " ('tecnica', 0.9210910797119141),\n",
       " ('alimentariaaplicacion', 0.9176934361457825),\n",
       " ('matematicaaplicacion', 0.9166985154151917),\n",
       " ('medida', 0.9158386588096619)]"
      ]
     },
     "execution_count": 27,
     "metadata": {},
     "output_type": "execute_result"
    }
   ],
   "source": [
    "modelo4_cargado.wv.most_similar(['mineria','de','datos'], topn=10)"
   ]
  },
  {
   "cell_type": "code",
   "execution_count": 22,
   "metadata": {},
   "outputs": [
    {
     "name": "stderr",
     "output_type": "stream",
     "text": [
      "/home/grias/anaconda3/envs/tg/lib/python3.8/site-packages/gensim/models/keyedvectors.py:877: FutureWarning: arrays to stack must be passed as a \"sequence\" type such as list or tuple. Support for non-sequence iterables such as generators is deprecated as of NumPy 1.16 and will raise an error in the future.\n",
      "  vectors = vstack(self.word_vec(word, use_norm=True) for word in used_words).astype(REAL)\n"
     ]
    },
    {
     "data": {
      "text/plain": [
       "'volcan'"
      ]
     },
     "execution_count": 22,
     "metadata": {},
     "output_type": "execute_result"
    }
   ],
   "source": [
    "modelo4_cargado.wv.doesnt_match([\"mineria\",\"datos\",\"volcan\"])"
   ]
  },
  {
   "cell_type": "code",
   "execution_count": 14,
   "metadata": {},
   "outputs": [
    {
     "data": {
      "text/plain": [
       "[('colombiana', 0.9716425538063049),\n",
       " ('adscritos', 0.9597058296203613),\n",
       " ('establecer', 0.944048285484314),\n",
       " ('involucren', 0.9426010847091675),\n",
       " ('biotecnologia', 0.9400156140327454)]"
      ]
     },
     "execution_count": 14,
     "metadata": {},
     "output_type": "execute_result"
    }
   ],
   "source": [
    "modelo4_cargado.wv.similar_by_word('general', topn=5)"
   ]
  },
  {
   "cell_type": "code",
   "execution_count": 58,
   "metadata": {
    "scrolled": true
   },
   "outputs": [
    {
     "data": {
      "text/plain": [
       "0.7854764"
      ]
     },
     "execution_count": 58,
     "metadata": {},
     "output_type": "execute_result"
    }
   ],
   "source": [
    "modelo3.wv.similarity('social', \"sociedad\")"
   ]
  },
  {
   "cell_type": "code",
   "execution_count": 59,
   "metadata": {
    "scrolled": false
   },
   "outputs": [
    {
     "data": {
      "text/plain": [
       "0.85800725"
      ]
     },
     "execution_count": 59,
     "metadata": {},
     "output_type": "execute_result"
    }
   ],
   "source": [
    "modelo3.wv.similarity('conocimiento', \"conocer\")"
   ]
  },
  {
   "cell_type": "code",
   "execution_count": 61,
   "metadata": {
    "scrolled": false
   },
   "outputs": [
    {
     "data": {
      "text/plain": [
       "-0.17301846"
      ]
     },
     "execution_count": 61,
     "metadata": {},
     "output_type": "execute_result"
    }
   ],
   "source": [
    "modelo3.wv.similarity('inteligente', \"busqueda\")"
   ]
  },
  {
   "cell_type": "code",
   "execution_count": null,
   "metadata": {
    "scrolled": false
   },
   "outputs": [],
   "source": [
    "modelo3.wv.similarity('agricultura', \"motor\")"
   ]
  },
  {
   "cell_type": "code",
   "execution_count": null,
   "metadata": {
    "scrolled": true
   },
   "outputs": [],
   "source": [
    "modelo3.most_similar(positive=['motor', 'busqueda'], negative=['agricultura'], topn=1)"
   ]
  },
  {
   "cell_type": "code",
   "execution_count": null,
   "metadata": {
    "scrolled": true
   },
   "outputs": [],
   "source": [
    "modelo3.wv.doesnt_match([\"conocimiento\",\"conocer\",\"social\"])"
   ]
  },
  {
   "cell_type": "code",
   "execution_count": null,
   "metadata": {
    "scrolled": false
   },
   "outputs": [],
   "source": [
    "modelo3.wv.doesnt_match([\"motor\",\"sociedad\",\"social\"])"
   ]
  },
  {
   "cell_type": "markdown",
   "metadata": {},
   "source": [
    "## Visualizacion"
   ]
  },
  {
   "cell_type": "code",
   "execution_count": 11,
   "metadata": {},
   "outputs": [],
   "source": [
    "import numpy as np\n",
    "import matplotlib.pyplot as plt\n",
    "%matplotlib inline\n",
    "\n",
    "import seaborn as sns\n",
    "sns.set_style(\"darkgrid\")\n",
    "\n",
    "from sklearn.decomposition import PCA\n",
    "from sklearn.manifold import TSNE"
   ]
  },
  {
   "cell_type": "code",
   "execution_count": 12,
   "metadata": {},
   "outputs": [],
   "source": [
    "def tsne_plot(model):\n",
    "    \"Creates and TSNE model and plots it\"\n",
    "    labels = []\n",
    "    tokens = []\n",
    "\n",
    "    counter=0\n",
    "    for word in model.wv.vocab:\n",
    "        if counter == 50:\n",
    "            break\n",
    "        tokens.append(model[word])\n",
    "        labels.append(word)\n",
    "        counter= counter+1\n",
    "    \n",
    "    tsne_model = TSNE(perplexity=40, n_components=2, init='pca', n_iter=2500, random_state=23)\n",
    "    new_values = tsne_model.fit_transform(tokens)\n",
    "\n",
    "    x = []\n",
    "    y = []\n",
    "    for value in new_values:\n",
    "        x.append(value[0])\n",
    "        y.append(value[1])\n",
    "        \n",
    "    plt.figure(figsize=(16, 16)) \n",
    "    for i in range(len(x)):\n",
    "        plt.scatter(x[i],y[i])\n",
    "        plt.annotate(labels[i],\n",
    "                     xy=(x[i], y[i]),\n",
    "                     xytext=(5, 2),\n",
    "                     textcoords='offset points',\n",
    "                     ha='right',\n",
    "                     va='bottom')\n",
    "    plt.show()"
   ]
  },
  {
   "cell_type": "code",
   "execution_count": 13,
   "metadata": {
    "scrolled": false
   },
   "outputs": [
    {
     "name": "stderr",
     "output_type": "stream",
     "text": [
      "<ipython-input-12-6e68307c0209>:10: DeprecationWarning: Call to deprecated `__getitem__` (Method will be removed in 4.0.0, use self.wv.__getitem__() instead).\n",
      "  tokens.append(model[word])\n"
     ]
    },
    {
     "data": {
      "image/png": "[encoded data removed]",
      "text/plain": [
       "<Figure size 1152x1152 with 1 Axes>"
      ]
     },
     "metadata": {},
     "output_type": "display_data"
    }
   ],
   "source": [
    "tsne_plot(modelo4_cargado)"
   ]
  }
 ],
 "metadata": {
  "kernelspec": {
   "display_name": "Python 3",
   "language": "python",
   "name": "python3"
  },
  "language_info": {
   "codemirror_mode": {
    "name": "ipython",
    "version": 3
   },
   "file_extension": ".py",
   "mimetype": "text/x-python",
   "name": "python",
   "nbconvert_exporter": "python",
   "pygments_lexer": "ipython3",
   "version": "3.8.3"
  }
 },
 "nbformat": 4,
 "nbformat_minor": 4
}
