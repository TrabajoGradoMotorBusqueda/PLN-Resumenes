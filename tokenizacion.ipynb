{
 "metadata": {
  "language_info": {
   "codemirror_mode": {
    "name": "ipython",
    "version": 3
   },
   "file_extension": ".py",
   "mimetype": "text/x-python",
   "name": "python",
   "nbconvert_exporter": "python",
   "pygments_lexer": "ipython3",
   "version": "3.7.7-final"
  },
  "orig_nbformat": 2,
  "kernelspec": {
   "name": "python_defaultSpec_1599453231197",
   "display_name": "Python 3.7.7 64-bit ('tesis': conda)"
  }
 },
 "nbformat": 4,
 "nbformat_minor": 2,
 "cells": [
  {
   "cell_type": "markdown",
   "metadata": {},
   "source": [
    "# Limpieza y Tokenizacion"
   ]
  },
  {
   "cell_type": "markdown",
   "metadata": {},
   "source": [
    "- Cargamos los datos "
   ]
  },
  {
   "cell_type": "code",
   "execution_count": 1,
   "metadata": {},
   "outputs": [],
   "source": [
    "import pandas as pd\n",
    "import re\n",
    "import json"
   ]
  },
  {
   "cell_type": "code",
   "execution_count": 9,
   "metadata": {},
   "outputs": [],
   "source": [
    "#import spacy\n",
    "#sp = spacy.load('es_core_news_sm')\n",
    "#stop_words = sp.Defaults.stop_words\n",
    "#from nltk.corpus import stopwords\n",
    "#stopwords_español = stopwords.words('spanish')\n",
    "#aditionalwords= [palabra for palabra in stopwords_español if palabra not in stop_words ]\n",
    "#stop_words.extend(aditionalwords)"
   ]
  },
  {
   "cell_type": "code",
   "execution_count": 20,
   "metadata": {},
   "outputs": [],
   "source": [
    "#Guardar Stop Words\n",
    "with open('./Data/stopwords.txt', 'w') as f:\n",
    "    f.write(json.dumps(stop_words))"
   ]
  },
  {
   "cell_type": "code",
   "execution_count": 2,
   "metadata": {},
   "outputs": [
    {
     "output_type": "execute_result",
     "data": {
      "text/plain": "704"
     },
     "metadata": {},
     "execution_count": 2
    }
   ],
   "source": [
    "#Leer Stop words como set\n",
    "with open('./Data/stopwords.txt', 'r') as f:\n",
    "    stopwords = json.loads(f.read())\n",
    "len(stopwords)"
   ]
  },
  {
   "cell_type": "markdown",
   "metadata": {},
   "source": [
    "### Funciones Limpieza de Texto"
   ]
  },
  {
   "cell_type": "code",
   "execution_count": 3,
   "metadata": {},
   "outputs": [],
   "source": [
    "def clean_text(text):\n",
    "    '''Make text lowercase, remove text in square brackets, remove punctuation and remove words             containing numbers.'''\n",
    "    #text = fix_encoding(text)    \n",
    "    #text = re.sub('[‘’“”…«».]', '', text)\n",
    "    #text = re.sub('[\\n\\t]', ' ', text)\n",
    "    #text = re.sub(\"(\\\\d|\\\\W)+\", ' ', text)  # Removing special characters and digits    \n",
    "    #text = text.replace(\"_\",\"\")\n",
    "\n",
    "    text = text.lower()\n",
    "    text = re.sub(\"\\d\", '',text)\n",
    "    pattern = re.compile(r\"\"\"                  # Flag para iniciar el modo verbose\n",
    "              #(?:[A-Za-z]\\.|\\'|[A-Za-z])+            # Hace match con abreviaciones como U.S.A.Nombre's\n",
    "              (?:[A-Za-z]\\.)+            # Hace match con abreviaciones como U.S.A.        \n",
    "              | \\w+(?:-\\w+)*         # Hace match con palabras que pueden tener un guión interno\n",
    "              # \\$?\\d+(?:\\.\\d+)?%?  # Hace match con dinero o porcentajes como $15.5 o 100%\n",
    "              # \\.\\.\\.              # Hace match con puntos suspensivos\n",
    "              # [][.,;\"'?():-_`]    # Hace match con signos de puntuación\n",
    "              \"\"\", re.X)\n",
    "\n",
    "    result = pattern.findall(text)\n",
    "    #nltk.regexp_tokenize(text, pattern)\n",
    "    return result\n",
    "    \n",
    "#text = \"En los E.U. U.S.A. esa postal vale $15.50... (feo) `hola` Acoso Escolar (Bullying) en San Juan de Pasto.... J.D.A.A.S. baby Santiago's clubc slsda-sdasd-ss\"\n",
    "\n",
    "#clean_text(text)\n"
   ]
  },
  {
   "cell_type": "code",
   "execution_count": 4,
   "metadata": {},
   "outputs": [],
   "source": [
    "resumenes_docentes = pd.read_excel(\"./Data/Resumenes.xlsx\", index_col=0 ,sheet_name = \"Proyectos Docentes\", dtype=\"str\")\n",
    "resumenes_estudiantes = pd.read_excel(\"./Data/Resumenes.xlsx\", index_col=0,sheet_name=\"studiantiles y Trabajos de G\", dtype=\"str\")\n",
    "\n",
    "#Asignamos Columnas\n",
    "resumenes_docentes.columns = [\"codigo\", \"titulo\", \"resumen\", \"estado\", \"id_autor\", \"nombre_autor\", \n",
    "                     \"programa\", \"facultad\", \"convocatoria\", \"grupo_investigacion\", \"linea_investigacion\", \"palabras_clave\"]\n",
    "\n",
    "resumenes_estudiantes.columns = ['codigo', 'titulo', 'resumen', 'estado', 'id_autor', 'nombre_autor',\n",
    "       'programa', 'departamento', 'facultad', 'nombre_asesor', 'convocatoria', 'grupo_investigacion', 'linea_investigacion', 'palabras_clave']\n",
    "\n",
    "#Eliminamos NAN\n",
    "resumenes_docentes.dropna(inplace=True)\n",
    "resumenes_estudiantes.dropna(inplace=True)\n",
    "\n",
    "#Eliminamos registros no encontrados\n",
    "resumenes_docentes['palabras_clave'] = resumenes_docentes['palabras_clave'].apply(lambda row: row if (row != 'No se encontraron palabras clave registradas') else \" \")\n",
    "resumenes_estudiantes['palabras_clave'] = resumenes_estudiantes['palabras_clave'].apply(lambda row: row if (row != 'No se encontraron palabras clave registradas') else \" \")\n",
    "\n"
   ]
  },
  {
   "cell_type": "markdown",
   "metadata": {},
   "source": [
    "#### Corpus agregado al DF"
   ]
  },
  {
   "cell_type": "code",
   "execution_count": 5,
   "metadata": {},
   "outputs": [],
   "source": [
    "#Agregamos Columna de Corpus palabras tokenizadas\n",
    "resumenes_docentes['corpus'] = resumenes_docentes.apply(lambda row: row['titulo']+' '+row['resumen']+' '+' '+row['palabras_clave']+' '+row['nombre_autor']+' '+row['programa']+' '+' '+row['facultad']+' '+row['grupo_investigacion']+' '+row['linea_investigacion'],axis=1)\n",
    "\n",
    "resumenes_estudiantes['corpus'] = resumenes_estudiantes.apply(lambda row: row['titulo']+' '+row['resumen']+' '+' '+row['palabras_clave']+' '+row['nombre_autor']+' '+row['nombre_asesor']+' '+row['programa']+' '+row['departamento']+' '+row['facultad']+' '+row['grupo_investigacion']+' '+row['linea_investigacion'],axis=1)"
   ]
  },
  {
   "cell_type": "markdown",
   "metadata": {},
   "source": [
    "#### Palabras Tokenizadas y Limpias"
   ]
  },
  {
   "cell_type": "code",
   "execution_count": 6,
   "metadata": {},
   "outputs": [],
   "source": [
    "resumenes_docentes['palabras'] = ''\n",
    "for index, row in resumenes_docentes.iterrows():\n",
    "    tokens_corpus = clean_text(row['corpus'])\n",
    "    row['palabras'] = [palabra for palabra in tokens_corpus if not palabra in stopwords and len(palabra) > 3]\n",
    "\n",
    "resumenes_estudiantes['palabras'] = ''\n",
    "for index, row in resumenes_estudiantes.iterrows():\n",
    "    tokens_corpus = clean_text(row['corpus'])\n",
    "    row['palabras'] = [palabra for palabra in tokens_corpus if not palabra in stopwords and len(palabra) > 3]"
   ]
  },
  {
   "cell_type": "markdown",
   "metadata": {},
   "source": [
    "#### Vocabulario Corpus"
   ]
  },
  {
   "cell_type": "code",
   "execution_count": 7,
   "metadata": {},
   "outputs": [],
   "source": [
    "resumenes_docentes['vocabulario'] = ''\n",
    "for index, row in resumenes_docentes.iterrows():\n",
    "    row['vocabulario'] = set(row['palabras'])\n",
    "\n",
    "resumenes_estudiantes['vocabulario'] = ''\n",
    "for index, row in resumenes_estudiantes.iterrows():\n",
    "    row['vocabulario'] = set(row['palabras'])"
   ]
  },
  {
   "cell_type": "code",
   "execution_count": 10,
   "metadata": {},
   "outputs": [
    {
     "output_type": "execute_result",
     "data": {
      "text/plain": "    codigo                                             titulo  \\\nNo.                                                             \n1.0   1464  \"Diagnóstico del impacto de las iniciativas em...   \n2.0   1367  Acoso Escolar (Bullying) en San Juan de Pasto....   \n3.0   1343  ACTIVIDAD ANTIBACTERIAL DE POLIFENOLES DEL AGU...   \n\n                                               resumen    estado id_autor  \\\nNo.                                                                         \n1.0  El emprendimiento es entre otras acepciones es...   Vencido    13515   \n2.0  A nivel mundial, uno de cada tres escolares ha...  Prorroga    11902   \n3.0  El cáncer gástrico (CG) es la principal causa ...   Vencido    10081   \n\n                          nombre_autor    programa  \\\nNo.                                                  \n1.0             Francisco Rafael Ayala      Diseño   \n2.0      Harvey Mauricio Herrera Lopez  Psicología   \n3.0  Nelson Humberto Hurtado Gutierrez     Química   \n\n                         facultad  convocatoria  \\\nNo.                                               \n1.0                         Artes  Docente 2017   \n2.0              Ciencias Humanas  Docente 2017   \n3.0  Ciencias Exactas y Naturales  Docente 2016   \n\n                                   grupo_investigacion  \\\nNo.                                                      \n1.0                            Currículo y Universidad   \n2.0                                 Psicología y Salud   \n3.0  GRUPO DE INVESTIGACIÓN EN PRODUCTOS DE IMPORTA...   \n\n                             linea_investigacion   palabras_clave  \\\nNo.                                                                 \n1.0                       Curriculos pertinentes      Diagnóstico   \n2.0  Aspectos Psicosociales en Procesos de Salud    Acoso Escolar   \n3.0                           Modelado molecular  cancer gastrico   \n\n                                                corpus  \\\nNo.                                                      \n1.0  \"Diagnóstico del impacto de las iniciativas em...   \n2.0  Acoso Escolar (Bullying) en San Juan de Pasto....   \n3.0  ACTIVIDAD ANTIBACTERIAL DE POLIFENOLES DEL AGU...   \n\n                                              palabras  \\\nNo.                                                      \n1.0  [diagnóstico, impacto, iniciativas, emprendedo...   \n2.0  [acoso, escolar, bullying, juan, pasto, modelo...   \n3.0  [actividad, antibacterial, polifenoles, aguaca...   \n\n                                           vocabulario  \nNo.                                                     \n1.0  {alianzas, egresados, emprendedor, facilitar, ...  \n2.0  {agresión, descriptiva, teóricos, mundial, esc...  \n3.0  {medicamentos, preponderante, proceso, mundo, ...  ",
      "text/html": "<div>\n<style scoped>\n    .dataframe tbody tr th:only-of-type {\n        vertical-align: middle;\n    }\n\n    .dataframe tbody tr th {\n        vertical-align: top;\n    }\n\n    .dataframe thead th {\n        text-align: right;\n    }\n</style>\n<table border=\"1\" class=\"dataframe\">\n  <thead>\n    <tr style=\"text-align: right;\">\n      <th></th>\n      <th>codigo</th>\n      <th>titulo</th>\n      <th>resumen</th>\n      <th>estado</th>\n      <th>id_autor</th>\n      <th>nombre_autor</th>\n      <th>programa</th>\n      <th>facultad</th>\n      <th>convocatoria</th>\n      <th>grupo_investigacion</th>\n      <th>linea_investigacion</th>\n      <th>palabras_clave</th>\n      <th>corpus</th>\n      <th>palabras</th>\n      <th>vocabulario</th>\n    </tr>\n    <tr>\n      <th>No.</th>\n      <th></th>\n      <th></th>\n      <th></th>\n      <th></th>\n      <th></th>\n      <th></th>\n      <th></th>\n      <th></th>\n      <th></th>\n      <th></th>\n      <th></th>\n      <th></th>\n      <th></th>\n      <th></th>\n      <th></th>\n    </tr>\n  </thead>\n  <tbody>\n    <tr>\n      <th>1.0</th>\n      <td>1464</td>\n      <td>\"Diagnóstico del impacto de las iniciativas em...</td>\n      <td>El emprendimiento es entre otras acepciones es...</td>\n      <td>Vencido</td>\n      <td>13515</td>\n      <td>Francisco Rafael Ayala</td>\n      <td>Diseño</td>\n      <td>Artes</td>\n      <td>Docente 2017</td>\n      <td>Currículo y Universidad</td>\n      <td>Curriculos pertinentes</td>\n      <td>Diagnóstico</td>\n      <td>\"Diagnóstico del impacto de las iniciativas em...</td>\n      <td>[diagnóstico, impacto, iniciativas, emprendedo...</td>\n      <td>{alianzas, egresados, emprendedor, facilitar, ...</td>\n    </tr>\n    <tr>\n      <th>2.0</th>\n      <td>1367</td>\n      <td>Acoso Escolar (Bullying) en San Juan de Pasto....</td>\n      <td>A nivel mundial, uno de cada tres escolares ha...</td>\n      <td>Prorroga</td>\n      <td>11902</td>\n      <td>Harvey Mauricio Herrera Lopez</td>\n      <td>Psicología</td>\n      <td>Ciencias Humanas</td>\n      <td>Docente 2017</td>\n      <td>Psicología y Salud</td>\n      <td>Aspectos Psicosociales en Procesos de Salud</td>\n      <td>Acoso Escolar</td>\n      <td>Acoso Escolar (Bullying) en San Juan de Pasto....</td>\n      <td>[acoso, escolar, bullying, juan, pasto, modelo...</td>\n      <td>{agresión, descriptiva, teóricos, mundial, esc...</td>\n    </tr>\n    <tr>\n      <th>3.0</th>\n      <td>1343</td>\n      <td>ACTIVIDAD ANTIBACTERIAL DE POLIFENOLES DEL AGU...</td>\n      <td>El cáncer gástrico (CG) es la principal causa ...</td>\n      <td>Vencido</td>\n      <td>10081</td>\n      <td>Nelson Humberto Hurtado Gutierrez</td>\n      <td>Química</td>\n      <td>Ciencias Exactas y Naturales</td>\n      <td>Docente 2016</td>\n      <td>GRUPO DE INVESTIGACIÓN EN PRODUCTOS DE IMPORTA...</td>\n      <td>Modelado molecular</td>\n      <td>cancer gastrico</td>\n      <td>ACTIVIDAD ANTIBACTERIAL DE POLIFENOLES DEL AGU...</td>\n      <td>[actividad, antibacterial, polifenoles, aguaca...</td>\n      <td>{medicamentos, preponderante, proceso, mundo, ...</td>\n    </tr>\n  </tbody>\n</table>\n</div>"
     },
     "metadata": {},
     "execution_count": 10
    }
   ],
   "source": [
    "resumenes_docentes.head(3)"
   ]
  },
  {
   "cell_type": "code",
   "execution_count": 11,
   "metadata": {},
   "outputs": [
    {
     "output_type": "execute_result",
     "data": {
      "text/plain": "    codigo                                             titulo  \\\nNo.                                                             \n1.0    741  AISLAMIENTO, CARACTERIZACION, ESTABILIDAD Y AC...   \n2.0    760  ANÁLISIS DE ALGORITMOS PARALELOS PARA LA TAREA...   \n3.0   1412  ANÁLISIS DE FUNCIONALIDAD DE LA HERRAMIENTA DE...   \n\n                                               resumen     estado id_autor  \\\nNo.                                                                          \n1.0  El color es una de las cualidades sensoriales ...  Terminado    12324   \n2.0  La propuesta de la investigación se centra en ...  Cancelado    12479   \n3.0  Hoy en día se puede encontrar muchas opciones ...    Vencido    13872   \n\n                         nombre_autor                programa departamento  \\\nNo.                                                                          \n1.0  Omaira Carolina Betancourt Ramos                 Química      Química   \n2.0       Rosa Maria Zambrano Burbano  Ingeniería de Sistemas     Sistemas   \n3.0        Carlos Mario Coral Cabrera  Ingeniería de Sistemas     Sistemas   \n\n                         facultad    nombre_asesor  \\\nNo.                                                  \n1.0  Ciencias Exactas y Naturales  Nelson Humberto   \n2.0                    Ingeniería   Manuel Ernesto   \n3.0                    Ingeniería   Silvio Ricardo   \n\n                            convocatoria  \\\nNo.                                        \n1.0  Adicional de Trabajos de Grado 2013   \n2.0  Adicional de Trabajos de Grado 2013   \n3.0                     Estudiantil 2017   \n\n                                   grupo_investigacion  \\\nNo.                                                      \n1.0  GRUPO DE INVESTIGACIÓN EN PRODUCTOS DE IMPORTA...   \n2.0                                              GRIAS   \n3.0                                              GRIAS   \n\n                                   linea_investigacion  \\\nNo.                                                      \n1.0                                Productos naturales   \n2.0  Deteccione de patrones con tecnicas de mineria...   \n3.0   Descubrimiento de conocimiento en bases de datos   \n\n                palabras_clave  \\\nNo.                              \n1.0                              \n2.0                              \n3.0  Análisis de funcionalidad   \n\n                                                corpus  \\\nNo.                                                      \n1.0  AISLAMIENTO, CARACTERIZACION, ESTABILIDAD Y AC...   \n2.0  ANÁLISIS DE ALGORITMOS PARALELOS PARA LA TAREA...   \n3.0  ANÁLISIS DE FUNCIONALIDAD DE LA HERRAMIENTA DE...   \n\n                                              palabras  \\\nNo.                                                      \n1.0  [aislamiento, caracterizacion, estabilidad, ac...   \n2.0  [análisis, algoritmos, paralelos, tarea, miner...   \n3.0  [análisis, funcionalidad, herramienta, intelig...   \n\n                                           vocabulario  \nNo.                                                     \n1.0  {promisoria, permia, enfermedades, muestran, a...  \n2.0  {aceptable, implicarían, dcbd, proceso, límite...  \n3.0  {interior, emprender, pymes, facilitar, univer...  ",
      "text/html": "<div>\n<style scoped>\n    .dataframe tbody tr th:only-of-type {\n        vertical-align: middle;\n    }\n\n    .dataframe tbody tr th {\n        vertical-align: top;\n    }\n\n    .dataframe thead th {\n        text-align: right;\n    }\n</style>\n<table border=\"1\" class=\"dataframe\">\n  <thead>\n    <tr style=\"text-align: right;\">\n      <th></th>\n      <th>codigo</th>\n      <th>titulo</th>\n      <th>resumen</th>\n      <th>estado</th>\n      <th>id_autor</th>\n      <th>nombre_autor</th>\n      <th>programa</th>\n      <th>departamento</th>\n      <th>facultad</th>\n      <th>nombre_asesor</th>\n      <th>convocatoria</th>\n      <th>grupo_investigacion</th>\n      <th>linea_investigacion</th>\n      <th>palabras_clave</th>\n      <th>corpus</th>\n      <th>palabras</th>\n      <th>vocabulario</th>\n    </tr>\n    <tr>\n      <th>No.</th>\n      <th></th>\n      <th></th>\n      <th></th>\n      <th></th>\n      <th></th>\n      <th></th>\n      <th></th>\n      <th></th>\n      <th></th>\n      <th></th>\n      <th></th>\n      <th></th>\n      <th></th>\n      <th></th>\n      <th></th>\n      <th></th>\n      <th></th>\n    </tr>\n  </thead>\n  <tbody>\n    <tr>\n      <th>1.0</th>\n      <td>741</td>\n      <td>AISLAMIENTO, CARACTERIZACION, ESTABILIDAD Y AC...</td>\n      <td>El color es una de las cualidades sensoriales ...</td>\n      <td>Terminado</td>\n      <td>12324</td>\n      <td>Omaira Carolina Betancourt Ramos</td>\n      <td>Química</td>\n      <td>Química</td>\n      <td>Ciencias Exactas y Naturales</td>\n      <td>Nelson Humberto</td>\n      <td>Adicional de Trabajos de Grado 2013</td>\n      <td>GRUPO DE INVESTIGACIÓN EN PRODUCTOS DE IMPORTA...</td>\n      <td>Productos naturales</td>\n      <td></td>\n      <td>AISLAMIENTO, CARACTERIZACION, ESTABILIDAD Y AC...</td>\n      <td>[aislamiento, caracterizacion, estabilidad, ac...</td>\n      <td>{promisoria, permia, enfermedades, muestran, a...</td>\n    </tr>\n    <tr>\n      <th>2.0</th>\n      <td>760</td>\n      <td>ANÁLISIS DE ALGORITMOS PARALELOS PARA LA TAREA...</td>\n      <td>La propuesta de la investigación se centra en ...</td>\n      <td>Cancelado</td>\n      <td>12479</td>\n      <td>Rosa Maria Zambrano Burbano</td>\n      <td>Ingeniería de Sistemas</td>\n      <td>Sistemas</td>\n      <td>Ingeniería</td>\n      <td>Manuel Ernesto</td>\n      <td>Adicional de Trabajos de Grado 2013</td>\n      <td>GRIAS</td>\n      <td>Deteccione de patrones con tecnicas de mineria...</td>\n      <td></td>\n      <td>ANÁLISIS DE ALGORITMOS PARALELOS PARA LA TAREA...</td>\n      <td>[análisis, algoritmos, paralelos, tarea, miner...</td>\n      <td>{aceptable, implicarían, dcbd, proceso, límite...</td>\n    </tr>\n    <tr>\n      <th>3.0</th>\n      <td>1412</td>\n      <td>ANÁLISIS DE FUNCIONALIDAD DE LA HERRAMIENTA DE...</td>\n      <td>Hoy en día se puede encontrar muchas opciones ...</td>\n      <td>Vencido</td>\n      <td>13872</td>\n      <td>Carlos Mario Coral Cabrera</td>\n      <td>Ingeniería de Sistemas</td>\n      <td>Sistemas</td>\n      <td>Ingeniería</td>\n      <td>Silvio Ricardo</td>\n      <td>Estudiantil 2017</td>\n      <td>GRIAS</td>\n      <td>Descubrimiento de conocimiento en bases de datos</td>\n      <td>Análisis de funcionalidad</td>\n      <td>ANÁLISIS DE FUNCIONALIDAD DE LA HERRAMIENTA DE...</td>\n      <td>[análisis, funcionalidad, herramienta, intelig...</td>\n      <td>{interior, emprender, pymes, facilitar, univer...</td>\n    </tr>\n  </tbody>\n</table>\n</div>"
     },
     "metadata": {},
     "execution_count": 11
    }
   ],
   "source": [
    "\n",
    "resumenes_estudiantes.head(3)"
   ]
  },
  {
   "cell_type": "code",
   "execution_count": 18,
   "metadata": {},
   "outputs": [],
   "source": [
    "resumenes_docentes.to_csv(r'./Data/ResumenesDocentes.csv')\n",
    "resumenes_estudiantes.to_csv(r'./Data/ResumenesEstudiantes.csv')\n"
   ]
  },
  {
   "cell_type": "markdown",
   "metadata": {},
   "source": [
    "### Lematizar Palabras"
   ]
  },
  {
   "cell_type": "code",
   "execution_count": 11,
   "metadata": {},
   "outputs": [],
   "source": [
    "#Importar spacy para lemas\n",
    "import spacy\n",
    "nlp = spacy.load('es_core_news_sm')\n",
    "\n",
    "def lemmatizer(text):  \n",
    "  doc = nlp(text)\n",
    "  return ' '.join([word.lemma_ for word in doc])\n",
    "\n"
   ]
  },
  {
   "cell_type": "code",
   "execution_count": 22,
   "metadata": {},
   "outputs": [
    {
     "output_type": "execute_result",
     "data": {
      "text/plain": "{'académicas',\n 'académico',\n 'académicos',\n 'acepciones',\n 'actores',\n 'actuales',\n 'afrontar',\n 'alcances',\n 'alianzas',\n 'aporta',\n 'aportes',\n 'apoyo',\n 'artes',\n 'asociado',\n 'asociativo',\n 'asumir',\n 'ayala',\n 'beneficio',\n 'beneficios',\n 'buscando',\n 'básica',\n 'cambio',\n 'cambios',\n 'capacidad',\n 'capacidades',\n 'capaz',\n 'caso',\n 'casos',\n 'catalogan',\n 'colectivo',\n 'colombiano',\n 'comercio',\n 'complejas',\n 'complejidad',\n 'conciencia',\n 'condiciones',\n 'conjunto',\n 'consolidación',\n 'contexto',\n 'continuo',\n 'contribuir',\n 'conveniente',\n 'creación',\n 'crear',\n 'creativo',\n 'crecimiento',\n 'cultura',\n 'curriculos',\n 'currículo',\n 'derecho',\n 'desarrollar',\n 'desarrollo',\n 'desarrollos',\n 'describe',\n 'descubrir',\n 'diagnóstico',\n 'dinámica',\n 'dinámico',\n 'diseño',\n 'dispuesto',\n 'económicos',\n 'ecosistema',\n 'egresados',\n 'ejercer',\n 'emprendedor',\n 'emprendedoras',\n 'emprendimiento',\n 'empresas',\n 'enfrentado',\n 'entidades',\n 'entornos',\n 'equipo',\n 'escuchar',\n 'establece',\n 'establecer',\n 'estimulantes',\n 'estratégicos',\n 'estructurar',\n 'estudios',\n 'evoluciones',\n 'expectativas',\n 'experiencias',\n 'extinción',\n 'extremo',\n 'facilitar',\n 'fenómeno',\n 'flexible',\n 'fomentar',\n 'fomento',\n 'formación',\n 'formadores',\n 'formas',\n 'fortalecimiento',\n 'francisco',\n 'generadas',\n 'grado',\n 'grupos',\n 'génesis',\n 'humana',\n 'humano',\n 'identificar',\n 'impacto',\n 'impactos',\n 'implica',\n 'importancia',\n 'incertidumbre',\n 'indaga',\n 'indagar',\n 'individual',\n 'individuo',\n 'individuos',\n 'industria',\n 'industrial',\n 'iniciativas',\n 'innovador',\n 'instituciones',\n 'integral',\n 'integrantes',\n 'intereses',\n 'investigación',\n 'laboral',\n 'latente',\n 'ley',\n 'local',\n 'manifiesta',\n 'marco',\n 'mejoramiento',\n 'mejores',\n 'ministerio',\n 'modalidad',\n 'modalidades',\n 'nariño',\n 'necesidad',\n 'necesidades',\n 'nivel',\n 'objetivos',\n 'orientado',\n 'papel',\n 'participar',\n 'particular',\n 'perfiles',\n 'permitirá',\n 'personas',\n 'pertinentes',\n 'plan',\n 'plantea',\n 'políticos',\n 'pretende',\n 'primordiales',\n 'principios',\n 'privadas',\n 'proceso',\n 'procesos',\n 'profesional',\n 'profesionales',\n 'programa',\n 'promoción',\n 'promover',\n 'promovida',\n 'propuesta',\n 'propósitos',\n 'proyecto',\n 'pública',\n 'rafael',\n 'reconocimiento',\n 'relaciones',\n 'responsabilidad',\n 'riesgos',\n 'sistema',\n 'situaciones',\n 'sociales',\n 'sociedad',\n 'soluciones',\n 'sostenibles',\n 'tecnológicos',\n 'tipificar',\n 'turismo',\n 'universidad',\n 'vital'}"
     },
     "metadata": {},
     "execution_count": 22
    }
   ],
   "source": [
    "vocabulario = set(resumenes_docentes.loc[1]['palabras'])\n",
    "vocabulario"
   ]
  },
  {
   "cell_type": "code",
   "execution_count": 23,
   "metadata": {},
   "outputs": [],
   "source": [
    "lemas = [ lemmatizer(palabra) for palabra in vocabulario]"
   ]
  },
  {
   "cell_type": "code",
   "execution_count": 27,
   "metadata": {},
   "outputs": [],
   "source": [
    "lemas = list(lemas)"
   ]
  }
 ]
}