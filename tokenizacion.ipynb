{
 "metadata": {
  "language_info": {
   "codemirror_mode": {
    "name": "ipython",
    "version": 3
   },
   "file_extension": ".py",
   "mimetype": "text/x-python",
   "name": "python",
   "nbconvert_exporter": "python",
   "pygments_lexer": "ipython3",
   "version": "3.7.7-final"
  },
  "orig_nbformat": 2,
  "kernelspec": {
   "name": "python_defaultSpec_1599841098956",
   "display_name": "Python 3.7.7 64-bit ('tesis': conda)"
  }
 },
 "nbformat": 4,
 "nbformat_minor": 2,
 "cells": [
  {
   "cell_type": "markdown",
   "metadata": {},
   "source": [
    "# Limpieza y Tokenizacion"
   ]
  },
  {
   "cell_type": "markdown",
   "metadata": {},
   "source": [
    "- Cargamos librerias"
   ]
  },
  {
   "cell_type": "code",
   "execution_count": 1,
   "metadata": {},
   "outputs": [],
   "source": [
    "import pandas as pd\n",
    "import re\n",
    "import json"
   ]
  },
  {
   "cell_type": "code",
   "execution_count": 9,
   "metadata": {},
   "outputs": [],
   "source": [
    "#import spacy\n",
    "#sp = spacy.load('es_core_news_sm')\n",
    "#stop_words = sp.Defaults.stop_words\n",
    "#from nltk.corpus import stopwords\n",
    "#stopwords_español = stopwords.words('spanish')\n",
    "#aditionalwords= [palabra for palabra in stopwords_español if palabra not in stop_words ]\n",
    "#stop_words.extend(aditionalwords)"
   ]
  },
  {
   "cell_type": "code",
   "execution_count": 20,
   "metadata": {},
   "outputs": [],
   "source": [
    "#Guardar Stop Words\n",
    "with open('./Data/stopwords.txt', 'w') as f:\n",
    "    f.write(json.dumps(stop_words))"
   ]
  },
  {
   "source": [
    "### Cargamos Stopwords"
   ],
   "cell_type": "markdown",
   "metadata": {}
  },
  {
   "cell_type": "code",
   "execution_count": 2,
   "metadata": {},
   "outputs": [
    {
     "output_type": "execute_result",
     "data": {
      "text/plain": "704"
     },
     "metadata": {},
     "execution_count": 2
    }
   ],
   "source": [
    "#Leer Stop words como set\n",
    "with open('./Data/stopwords.txt', 'r') as f:\n",
    "    stopwords = json.loads(f.read())\n",
    "len(stopwords)"
   ]
  },
  {
   "cell_type": "markdown",
   "metadata": {},
   "source": [
    "# Funciones Limpieza de Texto\n",
    "- Estandarizar tildes\n",
    "- Revisar abreviaturas"
   ]
  },
  {
   "cell_type": "code",
   "execution_count": 3,
   "metadata": {},
   "outputs": [],
   "source": [
    "def clean_text(text):\n",
    "    '''Make text lowercase, remove text in square brackets, remove punctuation and remove words             containing numbers.'''\n",
    "    #text = fix_encoding(text)    \n",
    "    #text = re.sub('[‘’“”…«».]', '', text)\n",
    "    #text = re.sub('[\\n\\t]', ' ', text)\n",
    "    #text = re.sub(\"(\\\\d|\\\\W)+\", ' ', text)  # Removing special characters and digits    \n",
    "    #text = text.replace(\"_\",\"\")\n",
    "\n",
    "    text = text.lower()\n",
    "    text = re.sub(\"\\d\", '',text)\n",
    "    pattern = re.compile(r\"\"\"                  # Flag para iniciar el modo verbose\n",
    "              #(?:[A-Za-z]\\.|\\'|[A-Za-z])+            # Hace match con abreviaciones como U.S.A.Nombre's\n",
    "              (?:[A-Za-z]\\.)+            # Hace match con abreviaciones como U.S.A.        \n",
    "              | \\w+(?:-\\w+)*         # Hace match con palabras que pueden tener un guión interno\n",
    "              # \\$?\\d+(?:\\.\\d+)?%?  # Hace match con dinero o porcentajes como $15.5 o 100%\n",
    "              # \\.\\.\\.              # Hace match con puntos suspensivos\n",
    "              # [][.,;\"'?():-_`]    # Hace match con signos de puntuación\n",
    "              \"\"\", re.X)\n",
    "\n",
    "    result = pattern.findall(text)\n",
    "    #nltk.regexp_tokenize(text, pattern)\n",
    "    return result\n",
    "    \n",
    "#text = \"En los E.U. U.S.A. esa postal vale $15.50... (feo) `hola` Acoso Escolar (Bullying) en San Juan de Pasto.... J.D.A.A.S. baby Santiago's clubc slsda-sdasd-ss\"\n",
    "\n",
    "#clean_text(text)\n"
   ]
  },
  {
   "cell_type": "markdown",
   "metadata": {},
   "source": [
    "- Cargamos Datos Originales"
   ]
  },
  {
   "cell_type": "code",
   "execution_count": 4,
   "metadata": {},
   "outputs": [],
   "source": [
    "resumenes_docentes = pd.read_excel(\"./Data/Resumenes.xlsx\", index_col=0 ,sheet_name = \"Proyectos Docentes\", dtype=\"str\")\n",
    "resumenes_estudiantes = pd.read_excel(\"./Data/Resumenes.xlsx\", index_col=0,sheet_name=\"studiantiles y Trabajos de G\", dtype=\"str\")\n",
    "\n",
    "#Asignamos Columnas\n",
    "resumenes_docentes.columns = [\"codigo\", \"titulo\", \"resumen\", \"estado\", \"id_autor\", \"nombre_autor\", \n",
    "                     \"programa\", \"facultad\", \"convocatoria\", \"grupo_investigacion\", \"linea_investigacion\", \"palabras_clave\"]\n",
    "\n",
    "resumenes_estudiantes.columns = ['codigo', 'titulo', 'resumen', 'estado', 'id_autor', 'nombre_autor',\n",
    "       'programa', 'departamento', 'facultad', 'nombre_asesor', 'convocatoria', 'grupo_investigacion', 'linea_investigacion', 'palabras_clave']\n",
    "\n",
    "#Eliminamos NAN\n",
    "resumenes_docentes.dropna(inplace=True)\n",
    "resumenes_estudiantes.dropna(inplace=True)\n",
    "\n",
    "#Eliminamos registros no encontrados\n",
    "resumenes_docentes['palabras_clave'] = resumenes_docentes['palabras_clave'].apply(lambda row: row if (row != 'No se encontraron palabras clave registradas') else \" \")\n",
    "resumenes_estudiantes['palabras_clave'] = resumenes_estudiantes['palabras_clave'].apply(lambda row: row if (row != 'No se encontraron palabras clave registradas') else \" \")\n",
    "\n"
   ]
  },
  {
   "cell_type": "markdown",
   "metadata": {},
   "source": [
    "### Corpus agregado al DF"
   ]
  },
  {
   "cell_type": "code",
   "execution_count": 5,
   "metadata": {},
   "outputs": [],
   "source": [
    "#Agregamos Columna de Corpus palabras tokenizadas\n",
    "resumenes_docentes['corpus'] = resumenes_docentes.apply(lambda row: row['titulo']+' '+row['resumen']+' '+' '+row['palabras_clave']+' '+row['nombre_autor']+' '+row['programa']+' '+' '+row['facultad']+' '+row['grupo_investigacion']+' '+row['linea_investigacion'],axis=1)\n",
    "\n",
    "resumenes_estudiantes['corpus'] = resumenes_estudiantes.apply(lambda row: row['titulo']+' '+row['resumen']+' '+' '+row['palabras_clave']+' '+row['nombre_autor']+' '+row['nombre_asesor']+' '+row['programa']+' '+row['departamento']+' '+row['facultad']+' '+row['grupo_investigacion']+' '+row['linea_investigacion'],axis=1)"
   ]
  },
  {
   "cell_type": "markdown",
   "metadata": {},
   "source": [
    "### Palabras Tokenizadas y Limpias"
   ]
  },
  {
   "cell_type": "code",
   "execution_count": 6,
   "metadata": {},
   "outputs": [],
   "source": [
    "resumenes_docentes['palabras'] = ''\n",
    "for index, row in resumenes_docentes.iterrows():\n",
    "    tokens_corpus = clean_text(row['corpus'])\n",
    "    row['palabras'] = [palabra for palabra in tokens_corpus if not palabra in stopwords and len(palabra) > 3]\n",
    "\n",
    "resumenes_estudiantes['palabras'] = ''\n",
    "for index, row in resumenes_estudiantes.iterrows():\n",
    "    tokens_corpus = clean_text(row['corpus'])\n",
    "    row['palabras'] = [palabra for palabra in tokens_corpus if not palabra in stopwords and len(palabra) > 3]"
   ]
  },
  {
   "cell_type": "markdown",
   "metadata": {},
   "source": [
    "### Vocabulario del Resumen"
   ]
  },
  {
   "cell_type": "code",
   "execution_count": 7,
   "metadata": {},
   "outputs": [],
   "source": [
    "resumenes_docentes['vocabulario'] = ''\n",
    "for index, row in resumenes_docentes.iterrows():\n",
    "    vocabulario = set(row['palabras'])\n",
    "    row['vocabulario'] = list(vocabulario)\n",
    "\n",
    "resumenes_estudiantes['vocabulario'] = ''\n",
    "for index, row in resumenes_estudiantes.iterrows():\n",
    "    vocabulario = set(row['palabras'])\n",
    "    row['vocabulario'] = list(vocabulario)"
   ]
  },
  {
   "cell_type": "code",
   "execution_count": 1,
   "metadata": {},
   "outputs": [
    {
     "output_type": "error",
     "ename": "NameError",
     "evalue": "name 'resumenes_docentes' is not defined",
     "traceback": [
      "\u001b[0;31m---------------------------------------------------------------------------\u001b[0m",
      "\u001b[0;31mNameError\u001b[0m                                 Traceback (most recent call last)",
      "\u001b[0;32m<ipython-input-1-19f94d000aef>\u001b[0m in \u001b[0;36m<module>\u001b[0;34m\u001b[0m\n\u001b[1;32m      1\u001b[0m \u001b[0;31m# Revisamos Datos\u001b[0m\u001b[0;34m\u001b[0m\u001b[0;34m\u001b[0m\u001b[0;34m\u001b[0m\u001b[0m\n\u001b[0;32m----> 2\u001b[0;31m \u001b[0mresumenes_docentes\u001b[0m\u001b[0;34m.\u001b[0m\u001b[0mhead\u001b[0m\u001b[0;34m(\u001b[0m\u001b[0;36m3\u001b[0m\u001b[0;34m)\u001b[0m\u001b[0;34m\u001b[0m\u001b[0;34m\u001b[0m\u001b[0m\n\u001b[0m",
      "\u001b[0;31mNameError\u001b[0m: name 'resumenes_docentes' is not defined"
     ]
    }
   ],
   "source": [
    "# Revisamos Datos\n",
    "resumenes_docentes.head(3)"
   ]
  },
  {
   "cell_type": "code",
   "execution_count": 11,
   "metadata": {},
   "outputs": [
    {
     "output_type": "execute_result",
     "data": {
      "text/plain": "    codigo                                             titulo  \\\nNo.                                                             \n1.0    741  AISLAMIENTO, CARACTERIZACION, ESTABILIDAD Y AC...   \n2.0    760  ANÁLISIS DE ALGORITMOS PARALELOS PARA LA TAREA...   \n3.0   1412  ANÁLISIS DE FUNCIONALIDAD DE LA HERRAMIENTA DE...   \n\n                                               resumen     estado id_autor  \\\nNo.                                                                          \n1.0  El color es una de las cualidades sensoriales ...  Terminado    12324   \n2.0  La propuesta de la investigación se centra en ...  Cancelado    12479   \n3.0  Hoy en día se puede encontrar muchas opciones ...    Vencido    13872   \n\n                         nombre_autor                programa departamento  \\\nNo.                                                                          \n1.0  Omaira Carolina Betancourt Ramos                 Química      Química   \n2.0       Rosa Maria Zambrano Burbano  Ingeniería de Sistemas     Sistemas   \n3.0        Carlos Mario Coral Cabrera  Ingeniería de Sistemas     Sistemas   \n\n                         facultad    nombre_asesor  \\\nNo.                                                  \n1.0  Ciencias Exactas y Naturales  Nelson Humberto   \n2.0                    Ingeniería   Manuel Ernesto   \n3.0                    Ingeniería   Silvio Ricardo   \n\n                            convocatoria  \\\nNo.                                        \n1.0  Adicional de Trabajos de Grado 2013   \n2.0  Adicional de Trabajos de Grado 2013   \n3.0                     Estudiantil 2017   \n\n                                   grupo_investigacion  \\\nNo.                                                      \n1.0  GRUPO DE INVESTIGACIÓN EN PRODUCTOS DE IMPORTA...   \n2.0                                              GRIAS   \n3.0                                              GRIAS   \n\n                                   linea_investigacion  \\\nNo.                                                      \n1.0                                Productos naturales   \n2.0  Deteccione de patrones con tecnicas de mineria...   \n3.0   Descubrimiento de conocimiento en bases de datos   \n\n                palabras_clave  \\\nNo.                              \n1.0                              \n2.0                              \n3.0  Análisis de funcionalidad   \n\n                                                corpus  \\\nNo.                                                      \n1.0  AISLAMIENTO, CARACTERIZACION, ESTABILIDAD Y AC...   \n2.0  ANÁLISIS DE ALGORITMOS PARALELOS PARA LA TAREA...   \n3.0  ANÁLISIS DE FUNCIONALIDAD DE LA HERRAMIENTA DE...   \n\n                                              palabras  \\\nNo.                                                      \n1.0  [aislamiento, caracterizacion, estabilidad, ac...   \n2.0  [análisis, algoritmos, paralelos, tarea, miner...   \n3.0  [análisis, funcionalidad, herramienta, intelig...   \n\n                                           vocabulario  \nNo.                                                     \n1.0  [búsqueda, importancia, adicional, claras, est...  \n2.0  [determinar, búsqueda, límite, importancia, eq...  \n3.0  [dependencias, gestión, aplicados, herramienta...  ",
      "text/html": "<div>\n<style scoped>\n    .dataframe tbody tr th:only-of-type {\n        vertical-align: middle;\n    }\n\n    .dataframe tbody tr th {\n        vertical-align: top;\n    }\n\n    .dataframe thead th {\n        text-align: right;\n    }\n</style>\n<table border=\"1\" class=\"dataframe\">\n  <thead>\n    <tr style=\"text-align: right;\">\n      <th></th>\n      <th>codigo</th>\n      <th>titulo</th>\n      <th>resumen</th>\n      <th>estado</th>\n      <th>id_autor</th>\n      <th>nombre_autor</th>\n      <th>programa</th>\n      <th>departamento</th>\n      <th>facultad</th>\n      <th>nombre_asesor</th>\n      <th>convocatoria</th>\n      <th>grupo_investigacion</th>\n      <th>linea_investigacion</th>\n      <th>palabras_clave</th>\n      <th>corpus</th>\n      <th>palabras</th>\n      <th>vocabulario</th>\n    </tr>\n    <tr>\n      <th>No.</th>\n      <th></th>\n      <th></th>\n      <th></th>\n      <th></th>\n      <th></th>\n      <th></th>\n      <th></th>\n      <th></th>\n      <th></th>\n      <th></th>\n      <th></th>\n      <th></th>\n      <th></th>\n      <th></th>\n      <th></th>\n      <th></th>\n      <th></th>\n    </tr>\n  </thead>\n  <tbody>\n    <tr>\n      <th>1.0</th>\n      <td>741</td>\n      <td>AISLAMIENTO, CARACTERIZACION, ESTABILIDAD Y AC...</td>\n      <td>El color es una de las cualidades sensoriales ...</td>\n      <td>Terminado</td>\n      <td>12324</td>\n      <td>Omaira Carolina Betancourt Ramos</td>\n      <td>Química</td>\n      <td>Química</td>\n      <td>Ciencias Exactas y Naturales</td>\n      <td>Nelson Humberto</td>\n      <td>Adicional de Trabajos de Grado 2013</td>\n      <td>GRUPO DE INVESTIGACIÓN EN PRODUCTOS DE IMPORTA...</td>\n      <td>Productos naturales</td>\n      <td></td>\n      <td>AISLAMIENTO, CARACTERIZACION, ESTABILIDAD Y AC...</td>\n      <td>[aislamiento, caracterizacion, estabilidad, ac...</td>\n      <td>[búsqueda, importancia, adicional, claras, est...</td>\n    </tr>\n    <tr>\n      <th>2.0</th>\n      <td>760</td>\n      <td>ANÁLISIS DE ALGORITMOS PARALELOS PARA LA TAREA...</td>\n      <td>La propuesta de la investigación se centra en ...</td>\n      <td>Cancelado</td>\n      <td>12479</td>\n      <td>Rosa Maria Zambrano Burbano</td>\n      <td>Ingeniería de Sistemas</td>\n      <td>Sistemas</td>\n      <td>Ingeniería</td>\n      <td>Manuel Ernesto</td>\n      <td>Adicional de Trabajos de Grado 2013</td>\n      <td>GRIAS</td>\n      <td>Deteccione de patrones con tecnicas de mineria...</td>\n      <td></td>\n      <td>ANÁLISIS DE ALGORITMOS PARALELOS PARA LA TAREA...</td>\n      <td>[análisis, algoritmos, paralelos, tarea, miner...</td>\n      <td>[determinar, búsqueda, límite, importancia, eq...</td>\n    </tr>\n    <tr>\n      <th>3.0</th>\n      <td>1412</td>\n      <td>ANÁLISIS DE FUNCIONALIDAD DE LA HERRAMIENTA DE...</td>\n      <td>Hoy en día se puede encontrar muchas opciones ...</td>\n      <td>Vencido</td>\n      <td>13872</td>\n      <td>Carlos Mario Coral Cabrera</td>\n      <td>Ingeniería de Sistemas</td>\n      <td>Sistemas</td>\n      <td>Ingeniería</td>\n      <td>Silvio Ricardo</td>\n      <td>Estudiantil 2017</td>\n      <td>GRIAS</td>\n      <td>Descubrimiento de conocimiento en bases de datos</td>\n      <td>Análisis de funcionalidad</td>\n      <td>ANÁLISIS DE FUNCIONALIDAD DE LA HERRAMIENTA DE...</td>\n      <td>[análisis, funcionalidad, herramienta, intelig...</td>\n      <td>[dependencias, gestión, aplicados, herramienta...</td>\n    </tr>\n  </tbody>\n</table>\n</div>"
     },
     "metadata": {},
     "execution_count": 11
    }
   ],
   "source": [
    "\n",
    "resumenes_estudiantes.head(3)"
   ]
  },
  {
   "cell_type": "markdown",
   "metadata": {},
   "source": [
    "# Carga de datos de prueba limpios\n",
    "\n",
    "**ejecutar a partir de aqui para los LEMAS**"
   ]
  },
  {
   "source": [
    "- Guardar CSV"
   ],
   "cell_type": "markdown",
   "metadata": {}
  },
  {
   "cell_type": "code",
   "execution_count": 12,
   "metadata": {},
   "outputs": [],
   "source": [
    "resumenes_docentes.to_csv(r'./Data/ResumenesDocentesLemas.csv')\n",
    "resumenes_estudiantes.to_csv(r'./Data/ResumenesEstudiantesLemas.csv')\n"
   ]
  },
  {
   "cell_type": "markdown",
   "metadata": {},
   "source": [
    "# Lematizar Palabras"
   ]
  },
  {
   "source": [
    "### Cargar Datos ya procesados"
   ],
   "cell_type": "markdown",
   "metadata": {}
  },
  {
   "cell_type": "code",
   "execution_count": 1,
   "metadata": {},
   "outputs": [],
   "source": [
    "import pandas as pd\n",
    "import ast\n",
    "\n",
    "resumenes_docentes = pd.read_csv(\"./Data/ResumenesDocentes.csv\", index_col=0, dtype=\"str\")\n",
    "resumenes_estudiantes = pd.read_csv(\"./Data/ResumenesEstudiantes.csv\", index_col=0, dtype=\"str\")\n"
   ]
  },
  {
   "cell_type": "code",
   "execution_count": 3,
   "metadata": {},
   "outputs": [
    {
     "output_type": "execute_result",
     "data": {
      "text/plain": "      codigo                                             titulo  \\\nNo.                                                               \n1.0      741  AISLAMIENTO, CARACTERIZACION, ESTABILIDAD Y AC...   \n2.0      760  ANÁLISIS DE ALGORITMOS PARALELOS PARA LA TAREA...   \n3.0     1412  ANÁLISIS DE FUNCIONALIDAD DE LA HERRAMIENTA DE...   \n4.0     1815  ANÁLISIS DE LA CONTRIBUCIÓN SOCIOECONÓMICA DE ...   \n5.0     1518  ANÁLISIS DE LE EMISIÓN DE CO2 Y CH4, CAUSADA P...   \n...      ...                                                ...   \n140.0   1916  USO DE LA COLORIMETRÍA TRIESTÍMULO EN LA EVALU...   \n141.0   1373  VALORACIÓN DEL EXTRACTO DE LOS FRUTOS DE Leand...   \n142.0   1980  Valoración económica de los servicios ecosisté...   \n143.0   1797  VARIACIONES EN EL CANTO DEL CACIQUE MONTANO SU...   \n144.0   2002  Visibilidad y reconocimiento del Departamento ...   \n\n                                                 resumen        estado  \\\nNo.                                                                      \n1.0    El color es una de las cualidades sensoriales ...     Terminado   \n2.0    La propuesta de la investigación se centra en ...     Cancelado   \n3.0    Hoy en día se puede encontrar muchas opciones ...       Vencido   \n4.0    Las mujeres con frecuencia son segregadas y ac...     Terminado   \n5.0    El suelo ha sido fuertemente afectado por las ...     Terminado   \n...                                                  ...           ...   \n140.0  Existen diversas publicaciones que han encontr...  En Ejecución   \n141.0  El estrés oxidativo (EO) ocurre por desequilib...     Terminado   \n142.0  La laguna de la Cocha fue declarada humedal de...  En Ejecución   \n143.0  Existen factores sociales que pueden incidir e...     Terminado   \n144.0  La presente investigación aborda el manejo y e...  En Ejecución   \n\n      id_autor                          nombre_autor                programa  \\\nNo.                                                                            \n1.0      12324      Omaira Carolina Betancourt Ramos                 Química   \n2.0      12479           Rosa Maria Zambrano Burbano  Ingeniería de Sistemas   \n3.0      13872            Carlos Mario Coral Cabrera  Ingeniería de Sistemas   \n4.0      14416                  Ana Lucía Taimal Aza                Economía   \n5.0      14059       SANDRA MILENA ENRRIQUEZ DELGADO    Ingeniería Ambiental   \n...        ...                                   ...                     ...   \n140.0    14826              Paola Andrea Mora Leiton                 Química   \n141.0    13839             Luis Ignacio Gómez Cumbal                Biología   \n142.0    14870      Rocio Estefania Alegria Zambrano    Ingeniería Ambiental   \n143.0    14547  David Alejandro Guaitarilla Guarnica                Biología   \n144.0    13623       Brenda Melissa Delgado Gallardo            Arquitectura   \n\n                                       departamento  \\\nNo.                                                   \n1.0                                         Química   \n2.0                                        Sistemas   \n3.0                                        Sistemas   \n4.0                                        Economía   \n5.0    Recursos Naturales y Sistemas Agroforestales   \n...                                             ...   \n140.0                                       Química   \n141.0                                      Biología   \n142.0  Recursos Naturales y Sistemas Agroforestales   \n143.0                                      Biología   \n144.0                                  Arquitectura   \n\n                                    facultad       nombre_asesor  \\\nNo.                                                                \n1.0             Ciencias Exactas y Naturales     Nelson Humberto   \n2.0                               Ingeniería      Manuel Ernesto   \n3.0                               Ingeniería      Silvio Ricardo   \n4.0    Ciencias Económicas y Administrativas       Robert Wilson   \n5.0                       Ciencias Agrícolas       Jesús Antonio   \n...                                      ...                 ...   \n140.0           Ciencias Exactas y Naturales     Nelson Humberto   \n141.0           Ciencias Exactas y Naturales    Sandra Jaqueline   \n142.0                     Ciencias Agrícolas               James   \n143.0           Ciencias Exactas y Naturales          Jhon Jairo   \n144.0                                  Artes  Jennyfer Alejandra   \n\n                              convocatoria  \\\nNo.                                          \n1.0    Adicional de Trabajos de Grado 2013   \n2.0    Adicional de Trabajos de Grado 2013   \n3.0                       Estudiantil 2017   \n4.0                 Trabajos de Grado 2018   \n5.0                       Estudiantil 2017   \n...                                    ...   \n140.0               Trabajos de Grado 2019   \n141.0               Trabajos de Grado 2017   \n142.0                     Estudiantil 2019   \n143.0               Trabajos de Grado 2018   \n144.0               Trabajos de Grado 2019   \n\n                                     grupo_investigacion  \\\nNo.                                                        \n1.0    GRUPO DE INVESTIGACIÓN EN PRODUCTOS DE IMPORTA...   \n2.0                                                GRIAS   \n3.0                                                GRIAS   \n4.0                     Coyuntura económica y social CES   \n5.0                  Agroforestería y Recursos Naturales   \n...                                                  ...   \n140.0  GRUPO DE INVESTIGACIÓN EN PRODUCTOS DE IMPORTA...   \n141.0                                      Salud Pública   \n142.0                Agroforestería y Recursos Naturales   \n143.0       Grupo de Investigación en Ecología Evolutiva   \n144.0                            Currículo y Universidad   \n\n                                     linea_investigacion  \\\nNo.                                                        \n1.0                                  Productos naturales   \n2.0    Deteccione de patrones con tecnicas de mineria...   \n3.0     Descubrimiento de conocimiento en bases de datos   \n4.0    Desarrollo Regional - Coyuntura Económica y So...   \n5.0                                        Suelos y Agua   \n...                                                  ...   \n140.0                    Pigmentos y aceites escenciales   \n141.0                           Prevención de Cáncer (C)   \n142.0                                  Calidad Ambiental   \n143.0      Ecología comportamental y comunicación animal   \n144.0      Diseño, Comunicación y Procesos Interactivos.   \n\n                  palabras_clave  \\\nNo.                                \n1.0                                \n2.0                                \n3.0    Análisis de funcionalidad   \n4.0       Contribucion Economica   \n5.0                Cambio de uso   \n...                          ...   \n140.0                 Betalaínas   \n141.0     Actividad antioxidante   \n142.0                 Ecosistema   \n143.0                Bioacústica   \n144.0               Comunicación   \n\n                                                  corpus  \\\nNo.                                                        \n1.0    AISLAMIENTO, CARACTERIZACION, ESTABILIDAD Y AC...   \n2.0    ANÁLISIS DE ALGORITMOS PARALELOS PARA LA TAREA...   \n3.0    ANÁLISIS DE FUNCIONALIDAD DE LA HERRAMIENTA DE...   \n4.0    ANÁLISIS DE LA CONTRIBUCIÓN SOCIOECONÓMICA DE ...   \n5.0    ANÁLISIS DE LE EMISIÓN DE CO2 Y CH4, CAUSADA P...   \n...                                                  ...   \n140.0  USO DE LA COLORIMETRÍA TRIESTÍMULO EN LA EVALU...   \n141.0  VALORACIÓN DEL EXTRACTO DE LOS FRUTOS DE Leand...   \n142.0  Valoración económica de los servicios ecosisté...   \n143.0  VARIACIONES EN EL CANTO DEL CACIQUE MONTANO SU...   \n144.0  Visibilidad y reconocimiento del Departamento ...   \n\n                                                palabras  \\\nNo.                                                        \n1.0    ['aislamiento', 'caracterizacion', 'estabilida...   \n2.0    ['análisis', 'algoritmos', 'paralelos', 'tarea...   \n3.0    ['análisis', 'funcionalidad', 'herramienta', '...   \n4.0    ['análisis', 'contribución', 'socioeconómica',...   \n5.0    ['análisis', 'emisión', 'causada', 'cambio', '...   \n...                                                  ...   \n140.0  ['colorimetría', 'triestímulo', 'evaluación', ...   \n141.0  ['valoración', 'extracto', 'frutos', 'leandra'...   \n142.0  ['valoración', 'económica', 'servicios', 'ecos...   \n143.0  ['variaciones', 'canto', 'cacique', 'montano',...   \n144.0  ['visibilidad', 'reconocimiento', 'departament...   \n\n                                             vocabulario  \\\nNo.                                                        \n1.0    ['dillenni', 'específico', 'cualidades', 'pare...   \n2.0    ['herramientas', 'tecnología', 'deteccione', '...   \n3.0    ['herramientas', 'excelente', 'facultad', 'mon...   \n4.0    ['tierra', 'tecnología', 'jefe', 'regiones', '...   \n5.0    ['atmosfera', 'importar', 'propiedad', 'cámara...   \n...                                                  ...   \n140.0  ['aceites', 'nutricional', 'evaluará', 'condic...   \n141.0  ['daños', 'variaciones', 'calidad', 'neutrófil...   \n142.0  ['ambiente', 'escasez', 'actual', 'calidad', '...   \n143.0  ['intra', 'variaciones', 'ideal', 'variación',...   \n144.0  ['herramientas', 'acercamiento', 'arquitectura...   \n\n                                                   lemas  \nNo.                                                       \n1.0    ['dillenni', 'específico', 'cualidad', 'parece...  \n2.0    ['herramienta', 'tecnología', 'deteccione', 'm...  \n3.0    ['herramienta', 'excelente', 'facultar', 'moni...  \n4.0    ['tierra', 'tecnología', 'jefe', 'región', 'fr...  \n5.0    ['atmosfera', 'importar', 'propiedad', 'cámara...  \n...                                                  ...  \n140.0  ['aceite', 'nutricional', 'evaluar', 'condicio...  \n141.0  ['daño', 'variación', 'calidad', 'neutrófilo',...  \n142.0  ['ambientar', 'escasez', 'actual', 'calidad', ...  \n143.0  ['intra', 'variación', 'ideal', 'variación', '...  \n144.0  ['herramienta', 'acercamiento', 'arquitectura'...  \n\n[143 rows x 18 columns]",
      "text/html": "<div>\n<style scoped>\n    .dataframe tbody tr th:only-of-type {\n        vertical-align: middle;\n    }\n\n    .dataframe tbody tr th {\n        vertical-align: top;\n    }\n\n    .dataframe thead th {\n        text-align: right;\n    }\n</style>\n<table border=\"1\" class=\"dataframe\">\n  <thead>\n    <tr style=\"text-align: right;\">\n      <th></th>\n      <th>codigo</th>\n      <th>titulo</th>\n      <th>resumen</th>\n      <th>estado</th>\n      <th>id_autor</th>\n      <th>nombre_autor</th>\n      <th>programa</th>\n      <th>departamento</th>\n      <th>facultad</th>\n      <th>nombre_asesor</th>\n      <th>convocatoria</th>\n      <th>grupo_investigacion</th>\n      <th>linea_investigacion</th>\n      <th>palabras_clave</th>\n      <th>corpus</th>\n      <th>palabras</th>\n      <th>vocabulario</th>\n      <th>lemas</th>\n    </tr>\n    <tr>\n      <th>No.</th>\n      <th></th>\n      <th></th>\n      <th></th>\n      <th></th>\n      <th></th>\n      <th></th>\n      <th></th>\n      <th></th>\n      <th></th>\n      <th></th>\n      <th></th>\n      <th></th>\n      <th></th>\n      <th></th>\n      <th></th>\n      <th></th>\n      <th></th>\n      <th></th>\n    </tr>\n  </thead>\n  <tbody>\n    <tr>\n      <th>1.0</th>\n      <td>741</td>\n      <td>AISLAMIENTO, CARACTERIZACION, ESTABILIDAD Y AC...</td>\n      <td>El color es una de las cualidades sensoriales ...</td>\n      <td>Terminado</td>\n      <td>12324</td>\n      <td>Omaira Carolina Betancourt Ramos</td>\n      <td>Química</td>\n      <td>Química</td>\n      <td>Ciencias Exactas y Naturales</td>\n      <td>Nelson Humberto</td>\n      <td>Adicional de Trabajos de Grado 2013</td>\n      <td>GRUPO DE INVESTIGACIÓN EN PRODUCTOS DE IMPORTA...</td>\n      <td>Productos naturales</td>\n      <td></td>\n      <td>AISLAMIENTO, CARACTERIZACION, ESTABILIDAD Y AC...</td>\n      <td>['aislamiento', 'caracterizacion', 'estabilida...</td>\n      <td>['dillenni', 'específico', 'cualidades', 'pare...</td>\n      <td>['dillenni', 'específico', 'cualidad', 'parece...</td>\n    </tr>\n    <tr>\n      <th>2.0</th>\n      <td>760</td>\n      <td>ANÁLISIS DE ALGORITMOS PARALELOS PARA LA TAREA...</td>\n      <td>La propuesta de la investigación se centra en ...</td>\n      <td>Cancelado</td>\n      <td>12479</td>\n      <td>Rosa Maria Zambrano Burbano</td>\n      <td>Ingeniería de Sistemas</td>\n      <td>Sistemas</td>\n      <td>Ingeniería</td>\n      <td>Manuel Ernesto</td>\n      <td>Adicional de Trabajos de Grado 2013</td>\n      <td>GRIAS</td>\n      <td>Deteccione de patrones con tecnicas de mineria...</td>\n      <td></td>\n      <td>ANÁLISIS DE ALGORITMOS PARALELOS PARA LA TAREA...</td>\n      <td>['análisis', 'algoritmos', 'paralelos', 'tarea...</td>\n      <td>['herramientas', 'tecnología', 'deteccione', '...</td>\n      <td>['herramienta', 'tecnología', 'deteccione', 'm...</td>\n    </tr>\n    <tr>\n      <th>3.0</th>\n      <td>1412</td>\n      <td>ANÁLISIS DE FUNCIONALIDAD DE LA HERRAMIENTA DE...</td>\n      <td>Hoy en día se puede encontrar muchas opciones ...</td>\n      <td>Vencido</td>\n      <td>13872</td>\n      <td>Carlos Mario Coral Cabrera</td>\n      <td>Ingeniería de Sistemas</td>\n      <td>Sistemas</td>\n      <td>Ingeniería</td>\n      <td>Silvio Ricardo</td>\n      <td>Estudiantil 2017</td>\n      <td>GRIAS</td>\n      <td>Descubrimiento de conocimiento en bases de datos</td>\n      <td>Análisis de funcionalidad</td>\n      <td>ANÁLISIS DE FUNCIONALIDAD DE LA HERRAMIENTA DE...</td>\n      <td>['análisis', 'funcionalidad', 'herramienta', '...</td>\n      <td>['herramientas', 'excelente', 'facultad', 'mon...</td>\n      <td>['herramienta', 'excelente', 'facultar', 'moni...</td>\n    </tr>\n    <tr>\n      <th>4.0</th>\n      <td>1815</td>\n      <td>ANÁLISIS DE LA CONTRIBUCIÓN SOCIOECONÓMICA DE ...</td>\n      <td>Las mujeres con frecuencia son segregadas y ac...</td>\n      <td>Terminado</td>\n      <td>14416</td>\n      <td>Ana Lucía Taimal Aza</td>\n      <td>Economía</td>\n      <td>Economía</td>\n      <td>Ciencias Económicas y Administrativas</td>\n      <td>Robert Wilson</td>\n      <td>Trabajos de Grado 2018</td>\n      <td>Coyuntura económica y social CES</td>\n      <td>Desarrollo Regional - Coyuntura Económica y So...</td>\n      <td>Contribucion Economica</td>\n      <td>ANÁLISIS DE LA CONTRIBUCIÓN SOCIOECONÓMICA DE ...</td>\n      <td>['análisis', 'contribución', 'socioeconómica',...</td>\n      <td>['tierra', 'tecnología', 'jefe', 'regiones', '...</td>\n      <td>['tierra', 'tecnología', 'jefe', 'región', 'fr...</td>\n    </tr>\n    <tr>\n      <th>5.0</th>\n      <td>1518</td>\n      <td>ANÁLISIS DE LE EMISIÓN DE CO2 Y CH4, CAUSADA P...</td>\n      <td>El suelo ha sido fuertemente afectado por las ...</td>\n      <td>Terminado</td>\n      <td>14059</td>\n      <td>SANDRA MILENA ENRRIQUEZ DELGADO</td>\n      <td>Ingeniería Ambiental</td>\n      <td>Recursos Naturales y Sistemas Agroforestales</td>\n      <td>Ciencias Agrícolas</td>\n      <td>Jesús Antonio</td>\n      <td>Estudiantil 2017</td>\n      <td>Agroforestería y Recursos Naturales</td>\n      <td>Suelos y Agua</td>\n      <td>Cambio de uso</td>\n      <td>ANÁLISIS DE LE EMISIÓN DE CO2 Y CH4, CAUSADA P...</td>\n      <td>['análisis', 'emisión', 'causada', 'cambio', '...</td>\n      <td>['atmosfera', 'importar', 'propiedad', 'cámara...</td>\n      <td>['atmosfera', 'importar', 'propiedad', 'cámara...</td>\n    </tr>\n    <tr>\n      <th>...</th>\n      <td>...</td>\n      <td>...</td>\n      <td>...</td>\n      <td>...</td>\n      <td>...</td>\n      <td>...</td>\n      <td>...</td>\n      <td>...</td>\n      <td>...</td>\n      <td>...</td>\n      <td>...</td>\n      <td>...</td>\n      <td>...</td>\n      <td>...</td>\n      <td>...</td>\n      <td>...</td>\n      <td>...</td>\n      <td>...</td>\n    </tr>\n    <tr>\n      <th>140.0</th>\n      <td>1916</td>\n      <td>USO DE LA COLORIMETRÍA TRIESTÍMULO EN LA EVALU...</td>\n      <td>Existen diversas publicaciones que han encontr...</td>\n      <td>En Ejecución</td>\n      <td>14826</td>\n      <td>Paola Andrea Mora Leiton</td>\n      <td>Química</td>\n      <td>Química</td>\n      <td>Ciencias Exactas y Naturales</td>\n      <td>Nelson Humberto</td>\n      <td>Trabajos de Grado 2019</td>\n      <td>GRUPO DE INVESTIGACIÓN EN PRODUCTOS DE IMPORTA...</td>\n      <td>Pigmentos y aceites escenciales</td>\n      <td>Betalaínas</td>\n      <td>USO DE LA COLORIMETRÍA TRIESTÍMULO EN LA EVALU...</td>\n      <td>['colorimetría', 'triestímulo', 'evaluación', ...</td>\n      <td>['aceites', 'nutricional', 'evaluará', 'condic...</td>\n      <td>['aceite', 'nutricional', 'evaluar', 'condicio...</td>\n    </tr>\n    <tr>\n      <th>141.0</th>\n      <td>1373</td>\n      <td>VALORACIÓN DEL EXTRACTO DE LOS FRUTOS DE Leand...</td>\n      <td>El estrés oxidativo (EO) ocurre por desequilib...</td>\n      <td>Terminado</td>\n      <td>13839</td>\n      <td>Luis Ignacio Gómez Cumbal</td>\n      <td>Biología</td>\n      <td>Biología</td>\n      <td>Ciencias Exactas y Naturales</td>\n      <td>Sandra Jaqueline</td>\n      <td>Trabajos de Grado 2017</td>\n      <td>Salud Pública</td>\n      <td>Prevención de Cáncer (C)</td>\n      <td>Actividad antioxidante</td>\n      <td>VALORACIÓN DEL EXTRACTO DE LOS FRUTOS DE Leand...</td>\n      <td>['valoración', 'extracto', 'frutos', 'leandra'...</td>\n      <td>['daños', 'variaciones', 'calidad', 'neutrófil...</td>\n      <td>['daño', 'variación', 'calidad', 'neutrófilo',...</td>\n    </tr>\n    <tr>\n      <th>142.0</th>\n      <td>1980</td>\n      <td>Valoración económica de los servicios ecosisté...</td>\n      <td>La laguna de la Cocha fue declarada humedal de...</td>\n      <td>En Ejecución</td>\n      <td>14870</td>\n      <td>Rocio Estefania Alegria Zambrano</td>\n      <td>Ingeniería Ambiental</td>\n      <td>Recursos Naturales y Sistemas Agroforestales</td>\n      <td>Ciencias Agrícolas</td>\n      <td>James</td>\n      <td>Estudiantil 2019</td>\n      <td>Agroforestería y Recursos Naturales</td>\n      <td>Calidad Ambiental</td>\n      <td>Ecosistema</td>\n      <td>Valoración económica de los servicios ecosisté...</td>\n      <td>['valoración', 'económica', 'servicios', 'ecos...</td>\n      <td>['ambiente', 'escasez', 'actual', 'calidad', '...</td>\n      <td>['ambientar', 'escasez', 'actual', 'calidad', ...</td>\n    </tr>\n    <tr>\n      <th>143.0</th>\n      <td>1797</td>\n      <td>VARIACIONES EN EL CANTO DEL CACIQUE MONTANO SU...</td>\n      <td>Existen factores sociales que pueden incidir e...</td>\n      <td>Terminado</td>\n      <td>14547</td>\n      <td>David Alejandro Guaitarilla Guarnica</td>\n      <td>Biología</td>\n      <td>Biología</td>\n      <td>Ciencias Exactas y Naturales</td>\n      <td>Jhon Jairo</td>\n      <td>Trabajos de Grado 2018</td>\n      <td>Grupo de Investigación en Ecología Evolutiva</td>\n      <td>Ecología comportamental y comunicación animal</td>\n      <td>Bioacústica</td>\n      <td>VARIACIONES EN EL CANTO DEL CACIQUE MONTANO SU...</td>\n      <td>['variaciones', 'canto', 'cacique', 'montano',...</td>\n      <td>['intra', 'variaciones', 'ideal', 'variación',...</td>\n      <td>['intra', 'variación', 'ideal', 'variación', '...</td>\n    </tr>\n    <tr>\n      <th>144.0</th>\n      <td>2002</td>\n      <td>Visibilidad y reconocimiento del Departamento ...</td>\n      <td>La presente investigación aborda el manejo y e...</td>\n      <td>En Ejecución</td>\n      <td>13623</td>\n      <td>Brenda Melissa Delgado Gallardo</td>\n      <td>Arquitectura</td>\n      <td>Arquitectura</td>\n      <td>Artes</td>\n      <td>Jennyfer Alejandra</td>\n      <td>Trabajos de Grado 2019</td>\n      <td>Currículo y Universidad</td>\n      <td>Diseño, Comunicación y Procesos Interactivos.</td>\n      <td>Comunicación</td>\n      <td>Visibilidad y reconocimiento del Departamento ...</td>\n      <td>['visibilidad', 'reconocimiento', 'departament...</td>\n      <td>['herramientas', 'acercamiento', 'arquitectura...</td>\n      <td>['herramienta', 'acercamiento', 'arquitectura'...</td>\n    </tr>\n  </tbody>\n</table>\n<p>143 rows × 18 columns</p>\n</div>"
     },
     "metadata": {},
     "execution_count": 3
    }
   ],
   "source": [
    "resumenes_estudiantes"
   ]
  },
  {
   "cell_type": "markdown",
   "metadata": {},
   "source": [
    "## Funcion de Lematizar una palabra"
   ]
  },
  {
   "cell_type": "code",
   "execution_count": 5,
   "metadata": {},
   "outputs": [],
   "source": [
    "#Importar spacy para lemas\n",
    "import spacy\n",
    "nlp = spacy.load('es_core_news_sm')\n",
    "\n",
    "def lemmatizer(text):  \n",
    "  doc = nlp(text)\n",
    "  return ' '.join([word.lemma_ for word in doc])"
   ]
  },
  {
   "source": [
    "### Agregar Lemas a Docentes"
   ],
   "cell_type": "markdown",
   "metadata": {}
  },
  {
   "cell_type": "code",
   "execution_count": 6,
   "metadata": {
    "tags": []
   },
   "outputs": [
    {
     "output_type": "stream",
     "name": "stdout",
     "text": "Lemas Completo Resumen 1.0\nLemas Completo Resumen 2.0\nLemas Completo Resumen 3.0\nLemas Completo Resumen 4.0\nLemas Completo Resumen 5.0\nLemas Completo Resumen 6.0\nLemas Completo Resumen 7.0\nLemas Completo Resumen 8.0\nLemas Completo Resumen 9.0\nLemas Completo Resumen 10.0\nLemas Completo Resumen 11.0\nLemas Completo Resumen 12.0\nLemas Completo Resumen 13.0\nLemas Completo Resumen 14.0\nLemas Completo Resumen 15.0\nLemas Completo Resumen 16.0\nLemas Completo Resumen 17.0\nLemas Completo Resumen 18.0\nLemas Completo Resumen 19.0\nLemas Completo Resumen 20.0\nLemas Completo Resumen 21.0\nLemas Completo Resumen 22.0\nLemas Completo Resumen 23.0\nLemas Completo Resumen 24.0\nLemas Completo Resumen 25.0\nLemas Completo Resumen 26.0\nLemas Completo Resumen 27.0\nLemas Completo Resumen 28.0\nLemas Completo Resumen 29.0\nLemas Completo Resumen 30.0\nLemas Completo Resumen 31.0\nLemas Completo Resumen 32.0\nLemas Completo Resumen 33.0\nLemas Completo Resumen 34.0\nLemas Completo Resumen 35.0\nLemas Completo Resumen 36.0\nLemas Completo Resumen 37.0\nLemas Completo Resumen 38.0\nLemas Completo Resumen 39.0\nLemas Completo Resumen 40.0\nLemas Completo Resumen 41.0\nLemas Completo Resumen 42.0\nLemas Completo Resumen 43.0\nLemas Completo Resumen 44.0\nLemas Completo Resumen 45.0\nLemas Completo Resumen 46.0\nLemas Completo Resumen 47.0\nLemas Completo Resumen 48.0\nLemas Completo Resumen 49.0\nLemas Completo Resumen 50.0\nLemas Completo Resumen 51.0\nLemas Completo Resumen 52.0\nLemas Completo Resumen 53.0\nLemas Completo Resumen 54.0\nLemas Completo Resumen 55.0\nLemas Completo Resumen 56.0\nLemas Completo Resumen 57.0\nLemas Completo Resumen 58.0\nLemas Completo Resumen 59.0\nLemas Completo Resumen 60.0\nLemas Completo Resumen 61.0\nLemas Completo Resumen 62.0\nLemas Completo Resumen 63.0\nLemas Completo Resumen 64.0\nLemas Completo Resumen 65.0\nLemas Completo Resumen 66.0\nLemas Completo Resumen 67.0\nLemas Completo Resumen 68.0\nLemas Completo Resumen 69.0\nLemas Completo Resumen 70.0\nLemas Completo Resumen 71.0\nLemas Completo Resumen 72.0\nLemas Completo Resumen 73.0\nLemas Completo Resumen 74.0\nLemas Completo Resumen 75.0\nLemas Completo Resumen 76.0\nLemas Completo Resumen 77.0\nLemas Completo Resumen 78.0\nLemas Completo Resumen 79.0\nLemas Completo Resumen 80.0\nLemas Completo Resumen 81.0\nLemas Completo Resumen 82.0\nLemas Completo Resumen 83.0\nLemas Completo Resumen 84.0\nLemas Completo Resumen 85.0\nLemas Completo Resumen 86.0\nLemas Completo Resumen 87.0\nLemas Completo Resumen 88.0\nLemas Completo Resumen 89.0\nLemas Completo Resumen 90.0\nLemas Completo Resumen 91.0\nLemas Completo Resumen 92.0\nLemas Completo Resumen 93.0\nLemas Completo Resumen 94.0\nLemas Completo Resumen 95.0\nLemas Completo Resumen 96.0\nLemas Completo Resumen 97.0\nLemas Completo Resumen 98.0\nLemas Completo Resumen 99.0\nLemas Completo Resumen 100.0\nLemas Completo Resumen 101.0\nLemas Completo Resumen 102.0\nLemas Completo Resumen 103.0\nLemas Completo Resumen 104.0\nLemas Completo Resumen 105.0\nLemas Completo Resumen 106.0\nLemas Completo Resumen 107.0\nLemas Completo Resumen 108.0\nLemas Completo Resumen 109.0\nLemas Completo Resumen 110.0\nLemas Completo Resumen 111.0\nLemas Completo Resumen 112.0\nLemas Completo Resumen 113.0\nLemas Completo Resumen 114.0\nLemas Completo Resumen 115.0\nLemas Completo Resumen 116.0\nLemas Completo Resumen 117.0\nLemas Completo Resumen 118.0\nLemas Completo Resumen 119.0\nLemas Completo Resumen 120.0\nLemas Completo Resumen 121.0\nLemas Completo Resumen 122.0\nLemas Completo Resumen 123.0\nLemas Completo Resumen 124.0\nLemas Completo Resumen 125.0\nLemas Completo Resumen 126.0\nLemas Completo Resumen 127.0\nLemas Completo Resumen 128.0\nLemas Completo Resumen 129.0\nLemas Completo Resumen 130.0\nLemas Completo Resumen 131.0\nLemas Completo Resumen 132.0\nLemas Completo Resumen 133.0\nLemas Completo Resumen 134.0\nLemas Completo Resumen 135.0\nLemas Completo Resumen 136.0\nLemas Completo Resumen 137.0\nLemas Completo Resumen 138.0\nLemas Completo Resumen 139.0\nLemas Completo Resumen 140.0\nLemas Completo Resumen 141.0\nLemas Completo Resumen 142.0\nLemas Completo Resumen 143.0\nLemas Completo Resumen 144.0\nLemas Completo Resumen 145.0\nLemas Completo Resumen 146.0\nLemas Completo Resumen 147.0\nLemas Completo Resumen 148.0\nLemas Completo Resumen 149.0\nLemas Completo Resumen 150.0\nLemas Completo Resumen 151.0\nLemas Completo Resumen 152.0\nLemas Completo Resumen 153.0\nLemas Completo Resumen 154.0\nLemas Completo Resumen 155.0\nLemas Completo Resumen 156.0\nLemas Completo Resumen 157.0\nLemas Completo Resumen 158.0\nLemas Completo Resumen 159.0\nLemas Completo Resumen 160.0\nLemas Completo Resumen 161.0\nLemas Completo Resumen 162.0\nLemas Completo Resumen 163.0\nLemas Completo Resumen 164.0\nLemas Completo Resumen 165.0\nLemas Completo Resumen 166.0\nLemas Completo Resumen 167.0\nLemas Completo Resumen 168.0\nLemas Completo Resumen 169.0\nLemas Completo Resumen 170.0\nLemas Completo Resumen 171.0\nLemas Completo Resumen 172.0\nLemas Completo Resumen 173.0\nLemas Completo Resumen 174.0\nLemas Completo Resumen 175.0\nLemas Completo Resumen 176.0\nLemas Completo Resumen 177.0\nLemas Completo Resumen 178.0\nLemas Completo Resumen 179.0\nLemas Completo Resumen 180.0\nLemas Completo Resumen 181.0\nLemas Completo Resumen 182.0\nLemas Completo Resumen 183.0\nLemas Completo Resumen 184.0\nLemas Completo Resumen 185.0\nLemas Completo Resumen 186.0\nLemas Completo Resumen 187.0\nLemas Completo Resumen 188.0\nLemas Completo Resumen 189.0\nLemas Completo Resumen 190.0\nLemas Completo Resumen 191.0\nLemas Completo Resumen 192.0\nLemas Completo Resumen 193.0\nLemas Completo Resumen 194.0\nLemas Completo Resumen 195.0\nLemas Completo Resumen 196.0\nLemas Completo Resumen 197.0\nLemas Completo Resumen 198.0\nLemas Completo Resumen 199.0\nLemas Completo Resumen 200.0\nLemas Completo Resumen 201.0\nLemas Completo Resumen 202.0\nLemas Completo Resumen 203.0\nLemas Completo Resumen 204.0\nLemas Completo Resumen 205.0\nLemas Completo Resumen 206.0\nLemas Completo Resumen 207.0\nLemas Completo Resumen 208.0\nLemas Completo Resumen 209.0\nLemas Completo Resumen 210.0\nLemas Completo Resumen 211.0\nLemas Completo Resumen 212.0\nLemas Completo Resumen 213.0\nLemas Completo Resumen 214.0\nLemas Completo Resumen 215.0\nLemas Completo Resumen 216.0\nLemas Completo Resumen 217.0\nLemas Completo Resumen 218.0\nLemas Completo Resumen 219.0\nLemas Completo Resumen 220.0\nLemas Completo Resumen 221.0\nLemas Completo Resumen 222.0\nLemas Completo Resumen 223.0\nLemas Completo Resumen 224.0\nLemas Completo Resumen 225.0\nLemas Completo Resumen 226.0\nLemas Completo Resumen 227.0\nLemas Completo Resumen 228.0\nLemas Completo Resumen 229.0\nLemas Completo Resumen 230.0\nLemas Completo Resumen 231.0\nLemas Completo Resumen 232.0\nLemas Completo Resumen 233.0\nLemas Completo Resumen 234.0\nLemas Completo Resumen 235.0\nLemas Completo Resumen 236.0\nLemas Completo Resumen 237.0\nLemas Completo Resumen 238.0\nLemas Completo Resumen 239.0\nLemas Completo Resumen 240.0\nLemas Completo Resumen 241.0\nLemas Completo Resumen 242.0\nLemas Completo Resumen 243.0\nLemas Completo Resumen 244.0\nLemas Completo Resumen 245.0\nLemas Completo Resumen 246.0\nLemas Completo Resumen 247.0\nLemas Completo Resumen 248.0\nLemas Completo Resumen 249.0\nLemas Completo Resumen 250.0\nLemas Completo Resumen 251.0\nLemas Completo Resumen 252.0\nLemas Completo Resumen 253.0\nLemas Completo Resumen 254.0\nLemas Completo Resumen 255.0\nLemas Completo Resumen 256.0\nLemas Completo Resumen 257.0\nLemas Completo Resumen 258.0\nLemas Completo Resumen 259.0\nLemas Completo Resumen 260.0\nLemas Completo Resumen 261.0\nLemas Completo Resumen 262.0\nLemas Completo Resumen 263.0\nLemas Completo Resumen 264.0\nLemas Completo Resumen 265.0\nLemas Completo Resumen 266.0\nLemas Completo Resumen 269.0\nLemas Completo Resumen 271.0\nLemas Completo Resumen 272.0\nLemas Completo Resumen 273.0\nLemas Completo Resumen 274.0\nLemas Completo Resumen 275.0\nLemas Completo Resumen 276.0\nLemas Completo Resumen 277.0\nLemas Completo Resumen 278.0\nLemas Completo Resumen 279.0\nLemas Completo Resumen 280.0\nLemas Completo Resumen 281.0\nLemas Completo Resumen 282.0\nLemas Completo Resumen 283.0\nLemas Completo Resumen 284.0\nLemas Completo Resumen 285.0\nLemas Completo Resumen 286.0\nLemas Completo Resumen 287.0\nLemas Completo Resumen 288.0\nLemas Completo Resumen 290.0\nLemas Completo Resumen 291.0\nLemas Completo Resumen 292.0\nLemas Completo Resumen 293.0\nLemas Completo Resumen 294.0\nLemas Completo Resumen 295.0\nLemas Completo Resumen 296.0\nLemas Completo Resumen 297.0\nLemas Completo Resumen 298.0\nLemas Completo Resumen 299.0\nLemas Completo Resumen 300.0\nLemas Completo Resumen 301.0\nLemas Completo Resumen 302.0\nLemas Completo Resumen 303.0\nLemas Completo Resumen 304.0\nLemas Completo Resumen 305.0\nLemas Completo Resumen 306.0\nLemas Completo Resumen 307.0\nLemas Completo Resumen 308.0\nLemas Completo Resumen 309.0\nLemas Completo Resumen 310.0\nLemas Completo Resumen 311.0\nLemas Completo Resumen 312.0\n"
    }
   ],
   "source": [
    "resumenes_docentes['lemas'] = ''\n",
    "for index, row in resumenes_docentes.iterrows():\n",
    "    #if( index > 5): break\n",
    "    vocabulario = ast.literal_eval(row['vocabulario'])\n",
    "    row['lemas'] = [lemmatizer(palabra) for palabra in vocabulario]\n",
    "    print(f'Lemas Completo Resumen {index}')"
   ]
  },
  {
   "source": [
    "### Agregar Lemas a Estudiantes"
   ],
   "cell_type": "markdown",
   "metadata": {}
  },
  {
   "cell_type": "code",
   "execution_count": 10,
   "metadata": {
    "tags": []
   },
   "outputs": [
    {
     "output_type": "stream",
     "name": "stdout",
     "text": "Lemas Completo Resumen 1.0\nLemas Completo Resumen 2.0\nLemas Completo Resumen 3.0\nLemas Completo Resumen 4.0\nLemas Completo Resumen 5.0\nLemas Completo Resumen 6.0\nLemas Completo Resumen 7.0\nLemas Completo Resumen 8.0\nLemas Completo Resumen 9.0\nLemas Completo Resumen 10.0\nLemas Completo Resumen 11.0\nLemas Completo Resumen 12.0\nLemas Completo Resumen 13.0\nLemas Completo Resumen 14.0\nLemas Completo Resumen 15.0\nLemas Completo Resumen 16.0\nLemas Completo Resumen 17.0\nLemas Completo Resumen 18.0\nLemas Completo Resumen 19.0\nLemas Completo Resumen 20.0\nLemas Completo Resumen 21.0\nLemas Completo Resumen 22.0\nLemas Completo Resumen 23.0\nLemas Completo Resumen 24.0\nLemas Completo Resumen 25.0\nLemas Completo Resumen 26.0\nLemas Completo Resumen 27.0\nLemas Completo Resumen 28.0\nLemas Completo Resumen 29.0\nLemas Completo Resumen 30.0\nLemas Completo Resumen 31.0\nLemas Completo Resumen 32.0\nLemas Completo Resumen 33.0\nLemas Completo Resumen 34.0\nLemas Completo Resumen 35.0\nLemas Completo Resumen 36.0\nLemas Completo Resumen 37.0\nLemas Completo Resumen 38.0\nLemas Completo Resumen 39.0\nLemas Completo Resumen 40.0\nLemas Completo Resumen 41.0\nLemas Completo Resumen 42.0\nLemas Completo Resumen 43.0\nLemas Completo Resumen 44.0\nLemas Completo Resumen 45.0\nLemas Completo Resumen 46.0\nLemas Completo Resumen 47.0\nLemas Completo Resumen 48.0\nLemas Completo Resumen 49.0\nLemas Completo Resumen 50.0\nLemas Completo Resumen 51.0\nLemas Completo Resumen 52.0\nLemas Completo Resumen 53.0\nLemas Completo Resumen 54.0\nLemas Completo Resumen 55.0\nLemas Completo Resumen 56.0\nLemas Completo Resumen 57.0\nLemas Completo Resumen 58.0\nLemas Completo Resumen 59.0\nLemas Completo Resumen 60.0\nLemas Completo Resumen 61.0\nLemas Completo Resumen 62.0\nLemas Completo Resumen 63.0\nLemas Completo Resumen 64.0\nLemas Completo Resumen 65.0\nLemas Completo Resumen 66.0\nLemas Completo Resumen 67.0\nLemas Completo Resumen 68.0\nLemas Completo Resumen 69.0\nLemas Completo Resumen 70.0\nLemas Completo Resumen 71.0\nLemas Completo Resumen 72.0\nLemas Completo Resumen 73.0\nLemas Completo Resumen 74.0\nLemas Completo Resumen 75.0\nLemas Completo Resumen 76.0\nLemas Completo Resumen 77.0\nLemas Completo Resumen 78.0\nLemas Completo Resumen 79.0\nLemas Completo Resumen 80.0\nLemas Completo Resumen 81.0\nLemas Completo Resumen 82.0\nLemas Completo Resumen 84.0\nLemas Completo Resumen 85.0\nLemas Completo Resumen 86.0\nLemas Completo Resumen 87.0\nLemas Completo Resumen 88.0\nLemas Completo Resumen 89.0\nLemas Completo Resumen 90.0\nLemas Completo Resumen 91.0\nLemas Completo Resumen 92.0\nLemas Completo Resumen 93.0\nLemas Completo Resumen 94.0\nLemas Completo Resumen 95.0\nLemas Completo Resumen 96.0\nLemas Completo Resumen 97.0\nLemas Completo Resumen 98.0\nLemas Completo Resumen 99.0\nLemas Completo Resumen 100.0\nLemas Completo Resumen 101.0\nLemas Completo Resumen 102.0\nLemas Completo Resumen 103.0\nLemas Completo Resumen 104.0\nLemas Completo Resumen 105.0\nLemas Completo Resumen 106.0\nLemas Completo Resumen 107.0\nLemas Completo Resumen 108.0\nLemas Completo Resumen 109.0\nLemas Completo Resumen 110.0\nLemas Completo Resumen 111.0\nLemas Completo Resumen 112.0\nLemas Completo Resumen 113.0\nLemas Completo Resumen 114.0\nLemas Completo Resumen 115.0\nLemas Completo Resumen 116.0\nLemas Completo Resumen 117.0\nLemas Completo Resumen 118.0\nLemas Completo Resumen 119.0\nLemas Completo Resumen 120.0\nLemas Completo Resumen 121.0\nLemas Completo Resumen 122.0\nLemas Completo Resumen 123.0\nLemas Completo Resumen 124.0\nLemas Completo Resumen 125.0\nLemas Completo Resumen 126.0\nLemas Completo Resumen 127.0\nLemas Completo Resumen 128.0\nLemas Completo Resumen 129.0\nLemas Completo Resumen 130.0\nLemas Completo Resumen 131.0\nLemas Completo Resumen 132.0\nLemas Completo Resumen 133.0\nLemas Completo Resumen 134.0\nLemas Completo Resumen 135.0\nLemas Completo Resumen 136.0\nLemas Completo Resumen 137.0\nLemas Completo Resumen 138.0\nLemas Completo Resumen 139.0\nLemas Completo Resumen 140.0\nLemas Completo Resumen 141.0\nLemas Completo Resumen 142.0\nLemas Completo Resumen 143.0\nLemas Completo Resumen 144.0\n"
    }
   ],
   "source": [
    "#Estudiantes\n",
    "resumenes_estudiantes['lemas'] = ''\n",
    "for index, row in resumenes_estudiantes.iterrows():\n",
    "    #if( index > 5): break\n",
    "    vocabulario = ast.literal_eval(row['vocabulario'])\n",
    "    row['lemas'] = [lemmatizer(palabra) for palabra in vocabulario]\n",
    "    print(f'Lemas Completo Resumen {index}')"
   ]
  },
  {
   "cell_type": "code",
   "execution_count": 23,
   "metadata": {},
   "outputs": [],
   "source": [
    "lemas = [ lemmatizer(palabra) for palabra in vocabulario]"
   ]
  },
  {
   "cell_type": "code",
   "execution_count": 27,
   "metadata": {},
   "outputs": [],
   "source": [
    "lemas = list(lemas)"
   ]
  }
 ]
}